{
 "cells": [
  {
   "cell_type": "code",
   "execution_count": 1,
   "id": "b9c8482c",
   "metadata": {},
   "outputs": [],
   "source": [
    "import pandas as pd\n",
    "pd.set_option(\"display.max.columns\", None)"
   ]
  },
  {
   "cell_type": "code",
   "execution_count": 2,
   "id": "0993acd6",
   "metadata": {},
   "outputs": [],
   "source": [
    "pd.set_option(\"display.max.rows\", 16)"
   ]
  },
  {
   "cell_type": "code",
   "execution_count": 3,
   "id": "c9f9d0e0",
   "metadata": {},
   "outputs": [],
   "source": [
    "pd.set_option(\"display.precision\", 2)"
   ]
  },
  {
   "cell_type": "markdown",
   "id": "fb73b7d0",
   "metadata": {},
   "source": [
    "# Date and Time Basic "
   ]
  },
  {
   "cell_type": "code",
   "execution_count": 4,
   "id": "bc58bbbf",
   "metadata": {},
   "outputs": [
    {
     "data": {
      "text/plain": [
       "datetime.date(2023, 9, 26)"
      ]
     },
     "execution_count": 4,
     "metadata": {},
     "output_type": "execute_result"
    }
   ],
   "source": [
    "import datetime\n",
    "\n",
    "today = datetime.date.today()\n",
    "today"
   ]
  },
  {
   "cell_type": "code",
   "execution_count": 5,
   "id": "77023033",
   "metadata": {},
   "outputs": [
    {
     "data": {
      "text/plain": [
       "datetime.date"
      ]
     },
     "execution_count": 5,
     "metadata": {},
     "output_type": "execute_result"
    }
   ],
   "source": [
    "type(today)"
   ]
  },
  {
   "cell_type": "code",
   "execution_count": 6,
   "id": "9a752562",
   "metadata": {},
   "outputs": [
    {
     "name": "stdout",
     "output_type": "stream",
     "text": [
      "2023-09-26\n"
     ]
    }
   ],
   "source": [
    "print(today)"
   ]
  },
  {
   "cell_type": "code",
   "execution_count": 7,
   "id": "7308fc25",
   "metadata": {},
   "outputs": [
    {
     "data": {
      "text/plain": [
       "(2023, 9, 26)"
      ]
     },
     "execution_count": 7,
     "metadata": {},
     "output_type": "execute_result"
    }
   ],
   "source": [
    "today.year, today.month, today.day "
   ]
  },
  {
   "cell_type": "code",
   "execution_count": 8,
   "id": "f4d2ff5d",
   "metadata": {},
   "outputs": [
    {
     "data": {
      "text/plain": [
       "datetime.datetime(2023, 9, 26, 19, 51, 46, 982311)"
      ]
     },
     "execution_count": 8,
     "metadata": {},
     "output_type": "execute_result"
    }
   ],
   "source": [
    "import datetime\n",
    "\n",
    "now = datetime.datetime.now()\n",
    "now"
   ]
  },
  {
   "cell_type": "code",
   "execution_count": 9,
   "id": "dc4cded9",
   "metadata": {},
   "outputs": [
    {
     "name": "stdout",
     "output_type": "stream",
     "text": [
      "2023-09-26 19:51:46.982311\n"
     ]
    }
   ],
   "source": [
    "print(now)"
   ]
  },
  {
   "cell_type": "code",
   "execution_count": 10,
   "id": "518a6929",
   "metadata": {},
   "outputs": [
    {
     "data": {
      "text/plain": [
       "(2023, 9, 26, 19, 51)"
      ]
     },
     "execution_count": 10,
     "metadata": {},
     "output_type": "execute_result"
    }
   ],
   "source": [
    "now.year, now.month, now.day, now.hour, now.minute"
   ]
  },
  {
   "cell_type": "markdown",
   "id": "4d6821c1",
   "metadata": {},
   "source": [
    "default tz is None"
   ]
  },
  {
   "cell_type": "code",
   "execution_count": 11,
   "id": "21f05d3a",
   "metadata": {},
   "outputs": [],
   "source": [
    "now.tzinfo"
   ]
  },
  {
   "cell_type": "code",
   "execution_count": 12,
   "id": "0f263c07",
   "metadata": {},
   "outputs": [
    {
     "data": {
      "text/plain": [
       "datetime.date(2023, 12, 15)"
      ]
     },
     "execution_count": 12,
     "metadata": {},
     "output_type": "execute_result"
    }
   ],
   "source": [
    "import datetime\n",
    "\n",
    "birthday = datetime.date(2022, 12, 15)\n",
    "birthday_next_year = birthday + datetime.timedelta(days=365)\n",
    "birthday_next_year"
   ]
  },
  {
   "cell_type": "code",
   "execution_count": 13,
   "id": "78f74d60",
   "metadata": {},
   "outputs": [
    {
     "name": "stdout",
     "output_type": "stream",
     "text": [
      "10/12/2022\n"
     ]
    }
   ],
   "source": [
    "import datetime\n",
    "\n",
    "my_wedding = datetime.date(2022, 10, 12)\n",
    "formatted_date = my_wedding.strftime('%m/%d/%Y')\n",
    "print(formatted_date)"
   ]
  },
  {
   "cell_type": "code",
   "execution_count": 14,
   "id": "0e630104",
   "metadata": {},
   "outputs": [
    {
     "name": "stdout",
     "output_type": "stream",
     "text": [
      "d1 is before d2\n"
     ]
    }
   ],
   "source": [
    "import datetime\n",
    "\n",
    "d1 = datetime.date(2022, 5, 1)\n",
    "d2 = datetime.date(2022, 6, 1)\n",
    "\n",
    "if d1 < d2:\n",
    "    print('d1 is before d2')\n",
    "else:\n",
    "    print('d1 is after or equal to d2')"
   ]
  },
  {
   "cell_type": "markdown",
   "id": "6ad62f04",
   "metadata": {},
   "source": [
    "# Importing DateTimes in Pandas DataFrames"
   ]
  },
  {
   "cell_type": "code",
   "execution_count": 15,
   "id": "ba33e3d2",
   "metadata": {
    "scrolled": true
   },
   "outputs": [
    {
     "data": {
      "text/html": [
       "<div>\n",
       "<style scoped>\n",
       "    .dataframe tbody tr th:only-of-type {\n",
       "        vertical-align: middle;\n",
       "    }\n",
       "\n",
       "    .dataframe tbody tr th {\n",
       "        vertical-align: top;\n",
       "    }\n",
       "\n",
       "    .dataframe thead th {\n",
       "        text-align: right;\n",
       "    }\n",
       "</style>\n",
       "<table border=\"1\" class=\"dataframe\">\n",
       "  <thead>\n",
       "    <tr style=\"text-align: right;\">\n",
       "      <th></th>\n",
       "      <th>Date</th>\n",
       "      <th>AveragePrice</th>\n",
       "      <th>Total Volume</th>\n",
       "      <th>4046</th>\n",
       "      <th>4225</th>\n",
       "      <th>4770</th>\n",
       "      <th>Total Bags</th>\n",
       "      <th>Small Bags</th>\n",
       "      <th>Large Bags</th>\n",
       "      <th>XLarge Bags</th>\n",
       "      <th>type</th>\n",
       "      <th>year</th>\n",
       "      <th>region</th>\n",
       "    </tr>\n",
       "  </thead>\n",
       "  <tbody>\n",
       "    <tr>\n",
       "      <th>0</th>\n",
       "      <td>2015-12-27</td>\n",
       "      <td>1.33</td>\n",
       "      <td>64236.62</td>\n",
       "      <td>1036.74</td>\n",
       "      <td>54454.85</td>\n",
       "      <td>48.16</td>\n",
       "      <td>8696.87</td>\n",
       "      <td>8603.62</td>\n",
       "      <td>93.25</td>\n",
       "      <td>0.0</td>\n",
       "      <td>conventional</td>\n",
       "      <td>2015</td>\n",
       "      <td>Albany</td>\n",
       "    </tr>\n",
       "    <tr>\n",
       "      <th>1</th>\n",
       "      <td>2015-12-20</td>\n",
       "      <td>1.35</td>\n",
       "      <td>54876.98</td>\n",
       "      <td>674.28</td>\n",
       "      <td>44638.81</td>\n",
       "      <td>58.33</td>\n",
       "      <td>9505.56</td>\n",
       "      <td>9408.07</td>\n",
       "      <td>97.49</td>\n",
       "      <td>0.0</td>\n",
       "      <td>conventional</td>\n",
       "      <td>2015</td>\n",
       "      <td>Albany</td>\n",
       "    </tr>\n",
       "  </tbody>\n",
       "</table>\n",
       "</div>"
      ],
      "text/plain": [
       "         Date  AveragePrice  Total Volume     4046      4225   4770  \\\n",
       "0  2015-12-27          1.33      64236.62  1036.74  54454.85  48.16   \n",
       "1  2015-12-20          1.35      54876.98   674.28  44638.81  58.33   \n",
       "\n",
       "   Total Bags  Small Bags  Large Bags  XLarge Bags          type  year  region  \n",
       "0     8696.87     8603.62       93.25          0.0  conventional  2015  Albany  \n",
       "1     9505.56     9408.07       97.49          0.0  conventional  2015  Albany  "
      ]
     },
     "execution_count": 15,
     "metadata": {},
     "output_type": "execute_result"
    }
   ],
   "source": [
    "df = pd.read_csv('../data/avocado.csv', index_col=0)\n",
    "df.head(2)"
   ]
  },
  {
   "cell_type": "code",
   "execution_count": 16,
   "id": "5f6229b5",
   "metadata": {},
   "outputs": [
    {
     "name": "stdout",
     "output_type": "stream",
     "text": [
      "<class 'pandas.core.frame.DataFrame'>\n",
      "Index: 18249 entries, 0 to 11\n",
      "Data columns (total 13 columns):\n",
      " #   Column        Non-Null Count  Dtype  \n",
      "---  ------        --------------  -----  \n",
      " 0   Date          18249 non-null  object \n",
      " 1   AveragePrice  18249 non-null  float64\n",
      " 2   Total Volume  18249 non-null  float64\n",
      " 3   4046          18249 non-null  float64\n",
      " 4   4225          18249 non-null  float64\n",
      " 5   4770          18249 non-null  float64\n",
      " 6   Total Bags    18249 non-null  float64\n",
      " 7   Small Bags    18249 non-null  float64\n",
      " 8   Large Bags    18249 non-null  float64\n",
      " 9   XLarge Bags   18249 non-null  float64\n",
      " 10  type          18249 non-null  object \n",
      " 11  year          18249 non-null  int64  \n",
      " 12  region        18249 non-null  object \n",
      "dtypes: float64(9), int64(1), object(3)\n",
      "memory usage: 1.9+ MB\n"
     ]
    }
   ],
   "source": [
    "df.info()"
   ]
  },
  {
   "cell_type": "markdown",
   "id": "d170c1b1",
   "metadata": {},
   "source": [
    "We can see that the data type of the Date column is `object`. This means that the data are stored as `strings`, meaning that you can’t access the slew of DateTime functionality available in Pandas."
   ]
  },
  {
   "cell_type": "markdown",
   "id": "1b574e63",
   "metadata": {},
   "source": [
    "###### Using Pandas `parse_dates` to Import DateTimes\n",
    "One easy way to import data as DateTime is to use the `parse_dates=` argument. "
   ]
  },
  {
   "cell_type": "code",
   "execution_count": 17,
   "id": "24b262be",
   "metadata": {
    "scrolled": true
   },
   "outputs": [
    {
     "data": {
      "text/html": [
       "<div>\n",
       "<style scoped>\n",
       "    .dataframe tbody tr th:only-of-type {\n",
       "        vertical-align: middle;\n",
       "    }\n",
       "\n",
       "    .dataframe tbody tr th {\n",
       "        vertical-align: top;\n",
       "    }\n",
       "\n",
       "    .dataframe thead th {\n",
       "        text-align: right;\n",
       "    }\n",
       "</style>\n",
       "<table border=\"1\" class=\"dataframe\">\n",
       "  <thead>\n",
       "    <tr style=\"text-align: right;\">\n",
       "      <th></th>\n",
       "      <th>Date</th>\n",
       "      <th>AveragePrice</th>\n",
       "      <th>Total Volume</th>\n",
       "      <th>4046</th>\n",
       "      <th>4225</th>\n",
       "      <th>4770</th>\n",
       "      <th>Total Bags</th>\n",
       "      <th>Small Bags</th>\n",
       "      <th>Large Bags</th>\n",
       "      <th>XLarge Bags</th>\n",
       "      <th>type</th>\n",
       "      <th>year</th>\n",
       "      <th>region</th>\n",
       "    </tr>\n",
       "  </thead>\n",
       "  <tbody>\n",
       "    <tr>\n",
       "      <th>0</th>\n",
       "      <td>2015-12-27</td>\n",
       "      <td>1.33</td>\n",
       "      <td>64236.62</td>\n",
       "      <td>1036.74</td>\n",
       "      <td>54454.85</td>\n",
       "      <td>48.16</td>\n",
       "      <td>8696.87</td>\n",
       "      <td>8603.62</td>\n",
       "      <td>93.25</td>\n",
       "      <td>0.0</td>\n",
       "      <td>conventional</td>\n",
       "      <td>2015</td>\n",
       "      <td>Albany</td>\n",
       "    </tr>\n",
       "  </tbody>\n",
       "</table>\n",
       "</div>"
      ],
      "text/plain": [
       "        Date  AveragePrice  Total Volume     4046      4225   4770  \\\n",
       "0 2015-12-27          1.33      64236.62  1036.74  54454.85  48.16   \n",
       "\n",
       "   Total Bags  Small Bags  Large Bags  XLarge Bags          type  year  region  \n",
       "0     8696.87     8603.62       93.25          0.0  conventional  2015  Albany  "
      ]
     },
     "execution_count": 17,
     "metadata": {},
     "output_type": "execute_result"
    }
   ],
   "source": [
    "df = pd.read_csv('../data/avocado.csv', index_col=0, parse_dates=['Date'])\n",
    "df.head(1)"
   ]
  },
  {
   "cell_type": "code",
   "execution_count": 18,
   "id": "dc5e04ff",
   "metadata": {},
   "outputs": [
    {
     "name": "stdout",
     "output_type": "stream",
     "text": [
      "<class 'pandas.core.frame.DataFrame'>\n",
      "Index: 18249 entries, 0 to 11\n",
      "Data columns (total 13 columns):\n",
      " #   Column        Non-Null Count  Dtype         \n",
      "---  ------        --------------  -----         \n",
      " 0   Date          18249 non-null  datetime64[ns]\n",
      " 1   AveragePrice  18249 non-null  float64       \n",
      " 2   Total Volume  18249 non-null  float64       \n",
      " 3   4046          18249 non-null  float64       \n",
      " 4   4225          18249 non-null  float64       \n",
      " 5   4770          18249 non-null  float64       \n",
      " 6   Total Bags    18249 non-null  float64       \n",
      " 7   Small Bags    18249 non-null  float64       \n",
      " 8   Large Bags    18249 non-null  float64       \n",
      " 9   XLarge Bags   18249 non-null  float64       \n",
      " 10  type          18249 non-null  object        \n",
      " 11  year          18249 non-null  int64         \n",
      " 12  region        18249 non-null  object        \n",
      "dtypes: datetime64[ns](1), float64(9), int64(1), object(2)\n",
      "memory usage: 1.9+ MB\n"
     ]
    }
   ],
   "source": [
    "df.info()"
   ]
  },
  {
   "cell_type": "markdown",
   "id": "cab20779",
   "metadata": {},
   "source": [
    "We can see that our column is now correctly imported as a DateTime format."
   ]
  },
  {
   "cell_type": "markdown",
   "id": "cb73df9a",
   "metadata": {},
   "source": [
    "# Using `to_datetime` to Convert Columns to DateTime\n"
   ]
  },
  {
   "cell_type": "code",
   "execution_count": 19,
   "id": "b20017ee",
   "metadata": {
    "scrolled": true
   },
   "outputs": [
    {
     "name": "stdout",
     "output_type": "stream",
     "text": [
      "<class 'pandas.core.frame.DataFrame'>\n",
      "RangeIndex: 337 entries, 0 to 336\n",
      "Data columns (total 6 columns):\n",
      " #   Column       Non-Null Count  Dtype  \n",
      "---  ------       --------------  -----  \n",
      " 0   Date         337 non-null    object \n",
      " 1   Close Price  337 non-null    float64\n",
      " 2   High Price   337 non-null    float64\n",
      " 3   Low Price    337 non-null    float64\n",
      " 4   Open Price   337 non-null    float64\n",
      " 5   Volume       337 non-null    float64\n",
      "dtypes: float64(5), object(1)\n",
      "memory usage: 15.9+ KB\n"
     ]
    }
   ],
   "source": [
    "import pandas as pd\n",
    "df = pd.read_csv('../data/time_data.csv', parse_dates=['Date'])\n",
    "df.info()"
   ]
  },
  {
   "cell_type": "code",
   "execution_count": 20,
   "id": "8fea6218",
   "metadata": {},
   "outputs": [
    {
     "data": {
      "text/plain": [
       "datetime.datetime(2023, 12, 31, 23, 59, 59, 999999)"
      ]
     },
     "execution_count": 20,
     "metadata": {},
     "output_type": "execute_result"
    }
   ],
   "source": [
    "from datetime import datetime\n",
    "\n",
    "datetime.strptime('31/12/23 23:59:59.999999','%d/%m/%y %H:%M:%S.%f')"
   ]
  },
  {
   "cell_type": "code",
   "execution_count": 21,
   "id": "f56250b0",
   "metadata": {},
   "outputs": [
    {
     "data": {
      "text/plain": [
       "datetime.datetime(2023, 12, 31, 23, 59, 59, 999999)"
      ]
     },
     "execution_count": 21,
     "metadata": {},
     "output_type": "execute_result"
    }
   ],
   "source": [
    "_"
   ]
  },
  {
   "cell_type": "code",
   "execution_count": 22,
   "id": "87dc4f7b",
   "metadata": {},
   "outputs": [
    {
     "data": {
      "text/plain": [
       "'Sun 31 Dec 2023, 11:59PM'"
      ]
     },
     "execution_count": 22,
     "metadata": {},
     "output_type": "execute_result"
    }
   ],
   "source": [
    "_.strftime('%a %d %b %Y, %I:%M%p')"
   ]
  },
  {
   "cell_type": "code",
   "execution_count": 23,
   "id": "cc68e171",
   "metadata": {
    "scrolled": true
   },
   "outputs": [
    {
     "data": {
      "text/plain": [
       "Date            object\n",
       "Close Price    float64\n",
       "High Price     float64\n",
       "Low Price      float64\n",
       "Open Price     float64\n",
       "Volume         float64\n",
       "dtype: object"
      ]
     },
     "execution_count": 23,
     "metadata": {},
     "output_type": "execute_result"
    }
   ],
   "source": [
    "df.dtypes"
   ]
  },
  {
   "cell_type": "code",
   "execution_count": 24,
   "id": "51c04a77",
   "metadata": {
    "scrolled": true
   },
   "outputs": [
    {
     "data": {
      "text/html": [
       "<div>\n",
       "<style scoped>\n",
       "    .dataframe tbody tr th:only-of-type {\n",
       "        vertical-align: middle;\n",
       "    }\n",
       "\n",
       "    .dataframe tbody tr th {\n",
       "        vertical-align: top;\n",
       "    }\n",
       "\n",
       "    .dataframe thead th {\n",
       "        text-align: right;\n",
       "    }\n",
       "</style>\n",
       "<table border=\"1\" class=\"dataframe\">\n",
       "  <thead>\n",
       "    <tr style=\"text-align: right;\">\n",
       "      <th></th>\n",
       "      <th>Date</th>\n",
       "      <th>Close Price</th>\n",
       "      <th>High Price</th>\n",
       "      <th>Low Price</th>\n",
       "      <th>Open Price</th>\n",
       "      <th>Volume</th>\n",
       "    </tr>\n",
       "  </thead>\n",
       "  <tbody>\n",
       "    <tr>\n",
       "      <th>0</th>\n",
       "      <td>2021-12-10 05:00:00</td>\n",
       "      <td>48246.57</td>\n",
       "      <td>48359.35</td>\n",
       "      <td>48051.08</td>\n",
       "      <td>48170.66</td>\n",
       "      <td>827.40</td>\n",
       "    </tr>\n",
       "    <tr>\n",
       "      <th>1</th>\n",
       "      <td>2021-12-10 06:00:00</td>\n",
       "      <td>47847.59</td>\n",
       "      <td>48430.00</td>\n",
       "      <td>47810.81</td>\n",
       "      <td>48249.78</td>\n",
       "      <td>1296.19</td>\n",
       "    </tr>\n",
       "  </tbody>\n",
       "</table>\n",
       "</div>"
      ],
      "text/plain": [
       "                 Date  Close Price  High Price  Low Price  Open Price   Volume\n",
       "0 2021-12-10 05:00:00     48246.57    48359.35   48051.08    48170.66   827.40\n",
       "1 2021-12-10 06:00:00     47847.59    48430.00   47810.81    48249.78  1296.19"
      ]
     },
     "execution_count": 24,
     "metadata": {},
     "output_type": "execute_result"
    }
   ],
   "source": [
    "df['Date'] = pd.to_datetime(df['Date'], format='%Y-%m-%d %H%p')\n",
    "df.head(2)"
   ]
  },
  {
   "cell_type": "code",
   "execution_count": 25,
   "id": "01de999c",
   "metadata": {},
   "outputs": [
    {
     "data": {
      "text/plain": [
       "dtype('<M8[ns]')"
      ]
     },
     "execution_count": 25,
     "metadata": {},
     "output_type": "execute_result"
    }
   ],
   "source": [
    "df['Date'].dtype"
   ]
  },
  {
   "cell_type": "code",
   "execution_count": 26,
   "id": "68ef3b9d",
   "metadata": {},
   "outputs": [
    {
     "data": {
      "text/plain": [
       "Date           datetime64[ns]\n",
       "Close Price           float64\n",
       "High Price            float64\n",
       "Low Price             float64\n",
       "Open Price            float64\n",
       "Volume                float64\n",
       "dtype: object"
      ]
     },
     "execution_count": 26,
     "metadata": {},
     "output_type": "execute_result"
    }
   ],
   "source": [
    "df.dtypes"
   ]
  },
  {
   "cell_type": "code",
   "execution_count": 27,
   "id": "59e6c814",
   "metadata": {},
   "outputs": [
    {
     "name": "stdout",
     "output_type": "stream",
     "text": [
      "<class 'pandas.core.series.Series'>\n",
      "RangeIndex: 337 entries, 0 to 336\n",
      "Series name: Date\n",
      "Non-Null Count  Dtype         \n",
      "--------------  -----         \n",
      "337 non-null    datetime64[ns]\n",
      "dtypes: datetime64[ns](1)\n",
      "memory usage: 2.8 KB\n"
     ]
    }
   ],
   "source": [
    "df['Date'].info()"
   ]
  },
  {
   "cell_type": "code",
   "execution_count": 28,
   "id": "5f0af312",
   "metadata": {},
   "outputs": [
    {
     "data": {
      "text/plain": [
       "'2.0.3'"
      ]
     },
     "execution_count": 28,
     "metadata": {},
     "output_type": "execute_result"
    }
   ],
   "source": [
    "import pandas as pd\n",
    "pd.__version__"
   ]
  },
  {
   "cell_type": "markdown",
   "id": "904bd3e1",
   "metadata": {},
   "source": [
    "###### Use “date_format” parameter in read_csv() "
   ]
  },
  {
   "cell_type": "code",
   "execution_count": 29,
   "id": "400df8d5",
   "metadata": {},
   "outputs": [
    {
     "data": {
      "text/html": [
       "<div>\n",
       "<style scoped>\n",
       "    .dataframe tbody tr th:only-of-type {\n",
       "        vertical-align: middle;\n",
       "    }\n",
       "\n",
       "    .dataframe tbody tr th {\n",
       "        vertical-align: top;\n",
       "    }\n",
       "\n",
       "    .dataframe thead th {\n",
       "        text-align: right;\n",
       "    }\n",
       "</style>\n",
       "<table border=\"1\" class=\"dataframe\">\n",
       "  <thead>\n",
       "    <tr style=\"text-align: right;\">\n",
       "      <th></th>\n",
       "      <th>Date</th>\n",
       "      <th>Close Price</th>\n",
       "      <th>High Price</th>\n",
       "      <th>Low Price</th>\n",
       "      <th>Open Price</th>\n",
       "      <th>Volume</th>\n",
       "    </tr>\n",
       "  </thead>\n",
       "  <tbody>\n",
       "    <tr>\n",
       "      <th>0</th>\n",
       "      <td>2021-12-10 05:00:00</td>\n",
       "      <td>48246.57</td>\n",
       "      <td>48359.35</td>\n",
       "      <td>48051.08</td>\n",
       "      <td>48170.66</td>\n",
       "      <td>827.4</td>\n",
       "    </tr>\n",
       "  </tbody>\n",
       "</table>\n",
       "</div>"
      ],
      "text/plain": [
       "                 Date  Close Price  High Price  Low Price  Open Price  Volume\n",
       "0 2021-12-10 05:00:00     48246.57    48359.35   48051.08    48170.66   827.4"
      ]
     },
     "execution_count": 29,
     "metadata": {},
     "output_type": "execute_result"
    }
   ],
   "source": [
    "import pandas as pd\n",
    "\n",
    "df = pd.read_csv('../data/time_data.csv', parse_dates=['Date'], date_format='%Y-%m-%d %H%p')\n",
    "df.head(1)"
   ]
  },
  {
   "cell_type": "code",
   "execution_count": 30,
   "id": "a765199a",
   "metadata": {},
   "outputs": [
    {
     "data": {
      "text/plain": [
       "Date           datetime64[ns]\n",
       "Close Price           float64\n",
       "High Price            float64\n",
       "Low Price             float64\n",
       "Open Price            float64\n",
       "Volume                float64\n",
       "dtype: object"
      ]
     },
     "execution_count": 30,
     "metadata": {},
     "output_type": "execute_result"
    }
   ],
   "source": [
    "df.dtypes"
   ]
  },
  {
   "cell_type": "markdown",
   "id": "39121be7",
   "metadata": {},
   "source": [
    "# DateTime Attributes and Methods in Pandas\n"
   ]
  },
  {
   "cell_type": "markdown",
   "id": "3678e286",
   "metadata": {},
   "source": [
    "## DateTime Attributes in Pandas\n"
   ]
  },
  {
   "cell_type": "code",
   "execution_count": 31,
   "id": "846412b2",
   "metadata": {},
   "outputs": [
    {
     "data": {
      "text/html": [
       "<div>\n",
       "<style scoped>\n",
       "    .dataframe tbody tr th:only-of-type {\n",
       "        vertical-align: middle;\n",
       "    }\n",
       "\n",
       "    .dataframe tbody tr th {\n",
       "        vertical-align: top;\n",
       "    }\n",
       "\n",
       "    .dataframe thead th {\n",
       "        text-align: right;\n",
       "    }\n",
       "</style>\n",
       "<table border=\"1\" class=\"dataframe\">\n",
       "  <thead>\n",
       "    <tr style=\"text-align: right;\">\n",
       "      <th></th>\n",
       "      <th>Date</th>\n",
       "      <th>Close Price</th>\n",
       "      <th>High Price</th>\n",
       "      <th>Low Price</th>\n",
       "      <th>Open Price</th>\n",
       "      <th>Volume</th>\n",
       "      <th>DateOnly</th>\n",
       "      <th>year</th>\n",
       "      <th>month</th>\n",
       "      <th>day</th>\n",
       "      <th>hour</th>\n",
       "      <th>minute</th>\n",
       "    </tr>\n",
       "  </thead>\n",
       "  <tbody>\n",
       "    <tr>\n",
       "      <th>0</th>\n",
       "      <td>2021-12-10 05:00:00</td>\n",
       "      <td>48246.57</td>\n",
       "      <td>48359.35</td>\n",
       "      <td>48051.08</td>\n",
       "      <td>48170.66</td>\n",
       "      <td>827.4</td>\n",
       "      <td>2021-12-10</td>\n",
       "      <td>2021</td>\n",
       "      <td>12</td>\n",
       "      <td>10</td>\n",
       "      <td>5</td>\n",
       "      <td>0</td>\n",
       "    </tr>\n",
       "  </tbody>\n",
       "</table>\n",
       "</div>"
      ],
      "text/plain": [
       "                 Date  Close Price  High Price  Low Price  Open Price  Volume  \\\n",
       "0 2021-12-10 05:00:00     48246.57    48359.35   48051.08    48170.66   827.4   \n",
       "\n",
       "     DateOnly  year  month  day  hour  minute  \n",
       "0  2021-12-10  2021     12   10     5       0  "
      ]
     },
     "execution_count": 31,
     "metadata": {},
     "output_type": "execute_result"
    }
   ],
   "source": [
    "# Parsing out DateTime Parts\n",
    "\n",
    "df['DateOnly'] = df['Date'].dt.date\n",
    "df['year']     = df['Date'].dt.year\n",
    "df['month']    = df['Date'].dt.month\n",
    "df['day']      = df['Date'].dt.day\n",
    "df['hour']     = df['Date'].dt.hour\n",
    "df['minute']   = df['Date'].dt.minute\n",
    "\n",
    "df.head(1)"
   ]
  },
  {
   "cell_type": "markdown",
   "id": "28a59fb3",
   "metadata": {},
   "source": [
    "These attributes can be accessed using the `.dt` accessor."
   ]
  },
  {
   "cell_type": "code",
   "execution_count": 32,
   "id": "35c5110a",
   "metadata": {},
   "outputs": [
    {
     "data": {
      "text/plain": [
       "Date           datetime64[ns]\n",
       "Close Price           float64\n",
       "High Price            float64\n",
       "Low Price             float64\n",
       "Open Price            float64\n",
       "Volume                float64\n",
       "DateOnly               object\n",
       "year                    int32\n",
       "month                   int32\n",
       "day                     int32\n",
       "hour                    int32\n",
       "minute                  int32\n",
       "dtype: object"
      ]
     },
     "execution_count": 32,
     "metadata": {},
     "output_type": "execute_result"
    }
   ],
   "source": [
    "df.dtypes"
   ]
  },
  {
   "cell_type": "markdown",
   "id": "37ecdf68",
   "metadata": {},
   "source": [
    "## DateTime Methods in Pandas\n"
   ]
  },
  {
   "cell_type": "code",
   "execution_count": 33,
   "id": "0a6bce5b",
   "metadata": {
    "scrolled": false
   },
   "outputs": [
    {
     "data": {
      "text/plain": [
       "Date           datetime64[ns]\n",
       "Close Price           float64\n",
       "High Price            float64\n",
       "Low Price             float64\n",
       "Open Price            float64\n",
       "Volume                float64\n",
       "DateOnly               object\n",
       "year                    int32\n",
       "month                   int32\n",
       "day                     int32\n",
       "hour                    int32\n",
       "minute                  int32\n",
       "dtype: object"
      ]
     },
     "execution_count": 33,
     "metadata": {},
     "output_type": "execute_result"
    }
   ],
   "source": [
    "df.dtypes"
   ]
  },
  {
   "cell_type": "markdown",
   "id": "56ce5ee6",
   "metadata": {},
   "source": [
    "###### Calculate the largest and smallest dates"
   ]
  },
  {
   "cell_type": "code",
   "execution_count": 34,
   "id": "cf8a6289",
   "metadata": {},
   "outputs": [
    {
     "name": "stdout",
     "output_type": "stream",
     "text": [
      "2021-12-10 05:00:00\n",
      "2021-12-24 05:00:00\n"
     ]
    }
   ],
   "source": [
    "# Calculating Max and Min DateTimes\n",
    "\n",
    "print(df['Date'].min())\n",
    "print(df['Date'].max())"
   ]
  },
  {
   "cell_type": "code",
   "execution_count": 35,
   "id": "5ab6ae05",
   "metadata": {},
   "outputs": [
    {
     "name": "stdout",
     "output_type": "stream",
     "text": [
      "14 days 00:00:00\n"
     ]
    }
   ],
   "source": [
    "# Subtracting DateTimes in Pandas\n",
    "\n",
    "print(df['Date'].max() - df['Date'].min())"
   ]
  },
  {
   "cell_type": "markdown",
   "id": "469256b4",
   "metadata": {},
   "source": [
    "###### Day and month name"
   ]
  },
  {
   "cell_type": "code",
   "execution_count": 36,
   "id": "f94665d2",
   "metadata": {},
   "outputs": [],
   "source": [
    "# Accessing the String Name of a Week Day\n",
    "df['DayName'] = df['Date'].dt.day_name()\n",
    "\n",
    "# Accessing the String Name of a month\n",
    "df['MonthName'] = df['Date'].dt.month_name()"
   ]
  },
  {
   "cell_type": "code",
   "execution_count": 37,
   "id": "3465560c",
   "metadata": {
    "scrolled": true
   },
   "outputs": [
    {
     "data": {
      "text/html": [
       "<div>\n",
       "<style scoped>\n",
       "    .dataframe tbody tr th:only-of-type {\n",
       "        vertical-align: middle;\n",
       "    }\n",
       "\n",
       "    .dataframe tbody tr th {\n",
       "        vertical-align: top;\n",
       "    }\n",
       "\n",
       "    .dataframe thead th {\n",
       "        text-align: right;\n",
       "    }\n",
       "</style>\n",
       "<table border=\"1\" class=\"dataframe\">\n",
       "  <thead>\n",
       "    <tr style=\"text-align: right;\">\n",
       "      <th></th>\n",
       "      <th>Date</th>\n",
       "      <th>DayName</th>\n",
       "      <th>MonthName</th>\n",
       "    </tr>\n",
       "  </thead>\n",
       "  <tbody>\n",
       "    <tr>\n",
       "      <th>0</th>\n",
       "      <td>2021-12-10 05:00:00</td>\n",
       "      <td>Friday</td>\n",
       "      <td>December</td>\n",
       "    </tr>\n",
       "    <tr>\n",
       "      <th>1</th>\n",
       "      <td>2021-12-10 06:00:00</td>\n",
       "      <td>Friday</td>\n",
       "      <td>December</td>\n",
       "    </tr>\n",
       "    <tr>\n",
       "      <th>2</th>\n",
       "      <td>2021-12-10 07:00:00</td>\n",
       "      <td>Friday</td>\n",
       "      <td>December</td>\n",
       "    </tr>\n",
       "    <tr>\n",
       "      <th>3</th>\n",
       "      <td>2021-12-10 08:00:00</td>\n",
       "      <td>Friday</td>\n",
       "      <td>December</td>\n",
       "    </tr>\n",
       "    <tr>\n",
       "      <th>4</th>\n",
       "      <td>2021-12-10 09:00:00</td>\n",
       "      <td>Friday</td>\n",
       "      <td>December</td>\n",
       "    </tr>\n",
       "  </tbody>\n",
       "</table>\n",
       "</div>"
      ],
      "text/plain": [
       "                 Date DayName MonthName\n",
       "0 2021-12-10 05:00:00  Friday  December\n",
       "1 2021-12-10 06:00:00  Friday  December\n",
       "2 2021-12-10 07:00:00  Friday  December\n",
       "3 2021-12-10 08:00:00  Friday  December\n",
       "4 2021-12-10 09:00:00  Friday  December"
      ]
     },
     "execution_count": 37,
     "metadata": {},
     "output_type": "execute_result"
    }
   ],
   "source": [
    "df[['Date','DayName','MonthName']].head()"
   ]
  },
  {
   "cell_type": "markdown",
   "id": "946d7351",
   "metadata": {},
   "source": [
    "###### Use Normalize to a Extract a Date from a Pandas Datetime Column\n"
   ]
  },
  {
   "cell_type": "code",
   "execution_count": 38,
   "id": "b5e3bfca",
   "metadata": {},
   "outputs": [],
   "source": [
    "df['DateNorm'] = df['Date'].dt.normalize()"
   ]
  },
  {
   "cell_type": "code",
   "execution_count": 39,
   "id": "6e8d7fe2",
   "metadata": {},
   "outputs": [
    {
     "data": {
      "text/plain": [
       "Date        datetime64[ns]\n",
       "DateOnly            object\n",
       "DateNorm    datetime64[ns]\n",
       "dtype: object"
      ]
     },
     "execution_count": 39,
     "metadata": {},
     "output_type": "execute_result"
    }
   ],
   "source": [
    "df[['Date','DateOnly','DateNorm']].dtypes"
   ]
  },
  {
   "cell_type": "code",
   "execution_count": 40,
   "id": "f15c35dc",
   "metadata": {},
   "outputs": [
    {
     "data": {
      "text/html": [
       "<div>\n",
       "<style scoped>\n",
       "    .dataframe tbody tr th:only-of-type {\n",
       "        vertical-align: middle;\n",
       "    }\n",
       "\n",
       "    .dataframe tbody tr th {\n",
       "        vertical-align: top;\n",
       "    }\n",
       "\n",
       "    .dataframe thead th {\n",
       "        text-align: right;\n",
       "    }\n",
       "</style>\n",
       "<table border=\"1\" class=\"dataframe\">\n",
       "  <thead>\n",
       "    <tr style=\"text-align: right;\">\n",
       "      <th></th>\n",
       "      <th>Date</th>\n",
       "      <th>DateOnly</th>\n",
       "      <th>DateNorm</th>\n",
       "    </tr>\n",
       "  </thead>\n",
       "  <tbody>\n",
       "    <tr>\n",
       "      <th>0</th>\n",
       "      <td>2021-12-10 05:00:00</td>\n",
       "      <td>2021-12-10</td>\n",
       "      <td>2021-12-10</td>\n",
       "    </tr>\n",
       "    <tr>\n",
       "      <th>1</th>\n",
       "      <td>2021-12-10 06:00:00</td>\n",
       "      <td>2021-12-10</td>\n",
       "      <td>2021-12-10</td>\n",
       "    </tr>\n",
       "  </tbody>\n",
       "</table>\n",
       "</div>"
      ],
      "text/plain": [
       "                 Date    DateOnly   DateNorm\n",
       "0 2021-12-10 05:00:00  2021-12-10 2021-12-10\n",
       "1 2021-12-10 06:00:00  2021-12-10 2021-12-10"
      ]
     },
     "execution_count": 40,
     "metadata": {},
     "output_type": "execute_result"
    }
   ],
   "source": [
    "df[['Date','DateOnly','DateNorm']].head(2)"
   ]
  },
  {
   "cell_type": "markdown",
   "id": "a2f5231a",
   "metadata": {},
   "source": [
    "# Filtering a Pandas DataFrame Based on DateTimes\n"
   ]
  },
  {
   "cell_type": "code",
   "execution_count": 41,
   "id": "0cdd698a",
   "metadata": {
    "scrolled": true
   },
   "outputs": [
    {
     "data": {
      "text/html": [
       "<div>\n",
       "<style scoped>\n",
       "    .dataframe tbody tr th:only-of-type {\n",
       "        vertical-align: middle;\n",
       "    }\n",
       "\n",
       "    .dataframe tbody tr th {\n",
       "        vertical-align: top;\n",
       "    }\n",
       "\n",
       "    .dataframe thead th {\n",
       "        text-align: right;\n",
       "    }\n",
       "</style>\n",
       "<table border=\"1\" class=\"dataframe\">\n",
       "  <thead>\n",
       "    <tr style=\"text-align: right;\">\n",
       "      <th></th>\n",
       "      <th>Date</th>\n",
       "      <th>AveragePrice</th>\n",
       "      <th>Total Volume</th>\n",
       "      <th>4046</th>\n",
       "      <th>4225</th>\n",
       "      <th>4770</th>\n",
       "      <th>Total Bags</th>\n",
       "      <th>Small Bags</th>\n",
       "      <th>Large Bags</th>\n",
       "      <th>XLarge Bags</th>\n",
       "      <th>type</th>\n",
       "      <th>year</th>\n",
       "      <th>region</th>\n",
       "    </tr>\n",
       "  </thead>\n",
       "  <tbody>\n",
       "    <tr>\n",
       "      <th>0</th>\n",
       "      <td>2015-12-27</td>\n",
       "      <td>1.33</td>\n",
       "      <td>64236.62</td>\n",
       "      <td>1036.74</td>\n",
       "      <td>54454.85</td>\n",
       "      <td>48.16</td>\n",
       "      <td>8696.87</td>\n",
       "      <td>8603.62</td>\n",
       "      <td>93.25</td>\n",
       "      <td>0.0</td>\n",
       "      <td>conventional</td>\n",
       "      <td>2015</td>\n",
       "      <td>Albany</td>\n",
       "    </tr>\n",
       "  </tbody>\n",
       "</table>\n",
       "</div>"
      ],
      "text/plain": [
       "        Date  AveragePrice  Total Volume     4046      4225   4770  \\\n",
       "0 2015-12-27          1.33      64236.62  1036.74  54454.85  48.16   \n",
       "\n",
       "   Total Bags  Small Bags  Large Bags  XLarge Bags          type  year  region  \n",
       "0     8696.87     8603.62       93.25          0.0  conventional  2015  Albany  "
      ]
     },
     "execution_count": 41,
     "metadata": {},
     "output_type": "execute_result"
    }
   ],
   "source": [
    "import pandas as pd\n",
    "\n",
    "df = pd.read_csv('../data/avocado.csv', index_col=0, parse_dates=['Date'])\n",
    "df.head(1)"
   ]
  },
  {
   "cell_type": "code",
   "execution_count": 42,
   "id": "78ed7389",
   "metadata": {
    "scrolled": true
   },
   "outputs": [
    {
     "data": {
      "text/html": [
       "<div>\n",
       "<style scoped>\n",
       "    .dataframe tbody tr th:only-of-type {\n",
       "        vertical-align: middle;\n",
       "    }\n",
       "\n",
       "    .dataframe tbody tr th {\n",
       "        vertical-align: top;\n",
       "    }\n",
       "\n",
       "    .dataframe thead th {\n",
       "        text-align: right;\n",
       "    }\n",
       "</style>\n",
       "<table border=\"1\" class=\"dataframe\">\n",
       "  <thead>\n",
       "    <tr style=\"text-align: right;\">\n",
       "      <th></th>\n",
       "      <th>AveragePrice</th>\n",
       "      <th>Total Volume</th>\n",
       "      <th>4046</th>\n",
       "      <th>4225</th>\n",
       "      <th>4770</th>\n",
       "      <th>Total Bags</th>\n",
       "      <th>Small Bags</th>\n",
       "      <th>Large Bags</th>\n",
       "      <th>XLarge Bags</th>\n",
       "      <th>type</th>\n",
       "      <th>year</th>\n",
       "      <th>region</th>\n",
       "    </tr>\n",
       "    <tr>\n",
       "      <th>Date</th>\n",
       "      <th></th>\n",
       "      <th></th>\n",
       "      <th></th>\n",
       "      <th></th>\n",
       "      <th></th>\n",
       "      <th></th>\n",
       "      <th></th>\n",
       "      <th></th>\n",
       "      <th></th>\n",
       "      <th></th>\n",
       "      <th></th>\n",
       "      <th></th>\n",
       "    </tr>\n",
       "  </thead>\n",
       "  <tbody>\n",
       "    <tr>\n",
       "      <th>2015-12-27</th>\n",
       "      <td>1.33</td>\n",
       "      <td>64236.62</td>\n",
       "      <td>1036.74</td>\n",
       "      <td>54454.85</td>\n",
       "      <td>48.16</td>\n",
       "      <td>8696.87</td>\n",
       "      <td>8603.62</td>\n",
       "      <td>93.25</td>\n",
       "      <td>0.0</td>\n",
       "      <td>conventional</td>\n",
       "      <td>2015</td>\n",
       "      <td>Albany</td>\n",
       "    </tr>\n",
       "    <tr>\n",
       "      <th>2015-12-20</th>\n",
       "      <td>1.35</td>\n",
       "      <td>54876.98</td>\n",
       "      <td>674.28</td>\n",
       "      <td>44638.81</td>\n",
       "      <td>58.33</td>\n",
       "      <td>9505.56</td>\n",
       "      <td>9408.07</td>\n",
       "      <td>97.49</td>\n",
       "      <td>0.0</td>\n",
       "      <td>conventional</td>\n",
       "      <td>2015</td>\n",
       "      <td>Albany</td>\n",
       "    </tr>\n",
       "    <tr>\n",
       "      <th>2015-12-13</th>\n",
       "      <td>0.93</td>\n",
       "      <td>118220.22</td>\n",
       "      <td>794.70</td>\n",
       "      <td>109149.67</td>\n",
       "      <td>130.50</td>\n",
       "      <td>8145.35</td>\n",
       "      <td>8042.21</td>\n",
       "      <td>103.14</td>\n",
       "      <td>0.0</td>\n",
       "      <td>conventional</td>\n",
       "      <td>2015</td>\n",
       "      <td>Albany</td>\n",
       "    </tr>\n",
       "    <tr>\n",
       "      <th>2015-12-06</th>\n",
       "      <td>1.08</td>\n",
       "      <td>78992.15</td>\n",
       "      <td>1132.00</td>\n",
       "      <td>71976.41</td>\n",
       "      <td>72.58</td>\n",
       "      <td>5811.16</td>\n",
       "      <td>5677.40</td>\n",
       "      <td>133.76</td>\n",
       "      <td>0.0</td>\n",
       "      <td>conventional</td>\n",
       "      <td>2015</td>\n",
       "      <td>Albany</td>\n",
       "    </tr>\n",
       "    <tr>\n",
       "      <th>2015-11-29</th>\n",
       "      <td>1.28</td>\n",
       "      <td>51039.60</td>\n",
       "      <td>941.48</td>\n",
       "      <td>43838.39</td>\n",
       "      <td>75.78</td>\n",
       "      <td>6183.95</td>\n",
       "      <td>5986.26</td>\n",
       "      <td>197.69</td>\n",
       "      <td>0.0</td>\n",
       "      <td>conventional</td>\n",
       "      <td>2015</td>\n",
       "      <td>Albany</td>\n",
       "    </tr>\n",
       "  </tbody>\n",
       "</table>\n",
       "</div>"
      ],
      "text/plain": [
       "            AveragePrice  Total Volume     4046       4225    4770  \\\n",
       "Date                                                                 \n",
       "2015-12-27          1.33      64236.62  1036.74   54454.85   48.16   \n",
       "2015-12-20          1.35      54876.98   674.28   44638.81   58.33   \n",
       "2015-12-13          0.93     118220.22   794.70  109149.67  130.50   \n",
       "2015-12-06          1.08      78992.15  1132.00   71976.41   72.58   \n",
       "2015-11-29          1.28      51039.60   941.48   43838.39   75.78   \n",
       "\n",
       "            Total Bags  Small Bags  Large Bags  XLarge Bags          type  \\\n",
       "Date                                                                        \n",
       "2015-12-27     8696.87     8603.62       93.25          0.0  conventional   \n",
       "2015-12-20     9505.56     9408.07       97.49          0.0  conventional   \n",
       "2015-12-13     8145.35     8042.21      103.14          0.0  conventional   \n",
       "2015-12-06     5811.16     5677.40      133.76          0.0  conventional   \n",
       "2015-11-29     6183.95     5986.26      197.69          0.0  conventional   \n",
       "\n",
       "            year  region  \n",
       "Date                      \n",
       "2015-12-27  2015  Albany  \n",
       "2015-12-20  2015  Albany  \n",
       "2015-12-13  2015  Albany  \n",
       "2015-12-06  2015  Albany  \n",
       "2015-11-29  2015  Albany  "
      ]
     },
     "execution_count": 42,
     "metadata": {},
     "output_type": "execute_result"
    }
   ],
   "source": [
    "df = df.set_index('Date')\n",
    "df.head()"
   ]
  },
  {
   "cell_type": "code",
   "execution_count": 43,
   "id": "4efdb915",
   "metadata": {},
   "outputs": [],
   "source": [
    "df.drop(columns=['4046','4225','4770'], inplace=True) #Just drop some columns "
   ]
  },
  {
   "cell_type": "code",
   "execution_count": 44,
   "id": "2c810262",
   "metadata": {},
   "outputs": [
    {
     "data": {
      "text/html": [
       "<div>\n",
       "<style scoped>\n",
       "    .dataframe tbody tr th:only-of-type {\n",
       "        vertical-align: middle;\n",
       "    }\n",
       "\n",
       "    .dataframe tbody tr th {\n",
       "        vertical-align: top;\n",
       "    }\n",
       "\n",
       "    .dataframe thead th {\n",
       "        text-align: right;\n",
       "    }\n",
       "</style>\n",
       "<table border=\"1\" class=\"dataframe\">\n",
       "  <thead>\n",
       "    <tr style=\"text-align: right;\">\n",
       "      <th></th>\n",
       "      <th>AveragePrice</th>\n",
       "      <th>Total Volume</th>\n",
       "      <th>Total Bags</th>\n",
       "      <th>Small Bags</th>\n",
       "      <th>Large Bags</th>\n",
       "      <th>XLarge Bags</th>\n",
       "      <th>type</th>\n",
       "      <th>year</th>\n",
       "      <th>region</th>\n",
       "    </tr>\n",
       "    <tr>\n",
       "      <th>Date</th>\n",
       "      <th></th>\n",
       "      <th></th>\n",
       "      <th></th>\n",
       "      <th></th>\n",
       "      <th></th>\n",
       "      <th></th>\n",
       "      <th></th>\n",
       "      <th></th>\n",
       "      <th></th>\n",
       "    </tr>\n",
       "  </thead>\n",
       "  <tbody>\n",
       "    <tr>\n",
       "      <th>2015-11-29</th>\n",
       "      <td>1.28</td>\n",
       "      <td>51039.60</td>\n",
       "      <td>6183.95</td>\n",
       "      <td>5986.26</td>\n",
       "      <td>197.69</td>\n",
       "      <td>0.00</td>\n",
       "      <td>conventional</td>\n",
       "      <td>2015</td>\n",
       "      <td>Albany</td>\n",
       "    </tr>\n",
       "    <tr>\n",
       "      <th>2015-11-29</th>\n",
       "      <td>0.99</td>\n",
       "      <td>333280.79</td>\n",
       "      <td>53794.68</td>\n",
       "      <td>33031.72</td>\n",
       "      <td>20738.55</td>\n",
       "      <td>24.41</td>\n",
       "      <td>conventional</td>\n",
       "      <td>2015</td>\n",
       "      <td>Atlanta</td>\n",
       "    </tr>\n",
       "    <tr>\n",
       "      <th>2015-11-29</th>\n",
       "      <td>1.16</td>\n",
       "      <td>545800.05</td>\n",
       "      <td>105468.28</td>\n",
       "      <td>103615.95</td>\n",
       "      <td>1852.33</td>\n",
       "      <td>0.00</td>\n",
       "      <td>conventional</td>\n",
       "      <td>2015</td>\n",
       "      <td>BaltimoreWashington</td>\n",
       "    </tr>\n",
       "    <tr>\n",
       "      <th>2015-11-29</th>\n",
       "      <td>1.06</td>\n",
       "      <td>49069.13</td>\n",
       "      <td>16057.99</td>\n",
       "      <td>15860.63</td>\n",
       "      <td>0.00</td>\n",
       "      <td>197.36</td>\n",
       "      <td>conventional</td>\n",
       "      <td>2015</td>\n",
       "      <td>Boise</td>\n",
       "    </tr>\n",
       "    <tr>\n",
       "      <th>2015-11-29</th>\n",
       "      <td>1.19</td>\n",
       "      <td>350559.81</td>\n",
       "      <td>74125.62</td>\n",
       "      <td>73864.52</td>\n",
       "      <td>261.10</td>\n",
       "      <td>0.00</td>\n",
       "      <td>conventional</td>\n",
       "      <td>2015</td>\n",
       "      <td>Boston</td>\n",
       "    </tr>\n",
       "  </tbody>\n",
       "</table>\n",
       "</div>"
      ],
      "text/plain": [
       "            AveragePrice  Total Volume  Total Bags  Small Bags  Large Bags  \\\n",
       "Date                                                                         \n",
       "2015-11-29          1.28      51039.60     6183.95     5986.26      197.69   \n",
       "2015-11-29          0.99     333280.79    53794.68    33031.72    20738.55   \n",
       "2015-11-29          1.16     545800.05   105468.28   103615.95     1852.33   \n",
       "2015-11-29          1.06      49069.13    16057.99    15860.63        0.00   \n",
       "2015-11-29          1.19     350559.81    74125.62    73864.52      261.10   \n",
       "\n",
       "            XLarge Bags          type  year               region  \n",
       "Date                                                              \n",
       "2015-11-29         0.00  conventional  2015               Albany  \n",
       "2015-11-29        24.41  conventional  2015              Atlanta  \n",
       "2015-11-29         0.00  conventional  2015  BaltimoreWashington  \n",
       "2015-11-29       197.36  conventional  2015                Boise  \n",
       "2015-11-29         0.00  conventional  2015               Boston  "
      ]
     },
     "execution_count": 44,
     "metadata": {},
     "output_type": "execute_result"
    }
   ],
   "source": [
    "df.loc['2015-11-29'].head()"
   ]
  },
  {
   "cell_type": "code",
   "execution_count": 45,
   "id": "bc04d429",
   "metadata": {},
   "outputs": [
    {
     "data": {
      "text/html": [
       "<div>\n",
       "<style scoped>\n",
       "    .dataframe tbody tr th:only-of-type {\n",
       "        vertical-align: middle;\n",
       "    }\n",
       "\n",
       "    .dataframe tbody tr th {\n",
       "        vertical-align: top;\n",
       "    }\n",
       "\n",
       "    .dataframe thead th {\n",
       "        text-align: right;\n",
       "    }\n",
       "</style>\n",
       "<table border=\"1\" class=\"dataframe\">\n",
       "  <thead>\n",
       "    <tr style=\"text-align: right;\">\n",
       "      <th></th>\n",
       "      <th>AveragePrice</th>\n",
       "      <th>Total Volume</th>\n",
       "      <th>Total Bags</th>\n",
       "      <th>Small Bags</th>\n",
       "      <th>Large Bags</th>\n",
       "      <th>XLarge Bags</th>\n",
       "      <th>type</th>\n",
       "      <th>year</th>\n",
       "      <th>region</th>\n",
       "    </tr>\n",
       "    <tr>\n",
       "      <th>Date</th>\n",
       "      <th></th>\n",
       "      <th></th>\n",
       "      <th></th>\n",
       "      <th></th>\n",
       "      <th></th>\n",
       "      <th></th>\n",
       "      <th></th>\n",
       "      <th></th>\n",
       "      <th></th>\n",
       "    </tr>\n",
       "  </thead>\n",
       "  <tbody>\n",
       "    <tr>\n",
       "      <th>2016-12-25</th>\n",
       "      <td>1.52</td>\n",
       "      <td>73341.73</td>\n",
       "      <td>11432.09</td>\n",
       "      <td>11017.32</td>\n",
       "      <td>411.83</td>\n",
       "      <td>2.94</td>\n",
       "      <td>conventional</td>\n",
       "      <td>2016</td>\n",
       "      <td>Albany</td>\n",
       "    </tr>\n",
       "    <tr>\n",
       "      <th>2016-12-18</th>\n",
       "      <td>1.53</td>\n",
       "      <td>68938.53</td>\n",
       "      <td>9504.66</td>\n",
       "      <td>8876.65</td>\n",
       "      <td>587.73</td>\n",
       "      <td>40.28</td>\n",
       "      <td>conventional</td>\n",
       "      <td>2016</td>\n",
       "      <td>Albany</td>\n",
       "    </tr>\n",
       "    <tr>\n",
       "      <th>2016-12-11</th>\n",
       "      <td>1.49</td>\n",
       "      <td>71777.85</td>\n",
       "      <td>12822.02</td>\n",
       "      <td>12176.75</td>\n",
       "      <td>645.27</td>\n",
       "      <td>0.00</td>\n",
       "      <td>conventional</td>\n",
       "      <td>2016</td>\n",
       "      <td>Albany</td>\n",
       "    </tr>\n",
       "    <tr>\n",
       "      <th>2016-12-04</th>\n",
       "      <td>1.48</td>\n",
       "      <td>113031.96</td>\n",
       "      <td>6704.29</td>\n",
       "      <td>6476.12</td>\n",
       "      <td>228.17</td>\n",
       "      <td>0.00</td>\n",
       "      <td>conventional</td>\n",
       "      <td>2016</td>\n",
       "      <td>Albany</td>\n",
       "    </tr>\n",
       "    <tr>\n",
       "      <th>2016-12-25</th>\n",
       "      <td>0.91</td>\n",
       "      <td>502787.29</td>\n",
       "      <td>210731.46</td>\n",
       "      <td>118884.36</td>\n",
       "      <td>91847.10</td>\n",
       "      <td>0.00</td>\n",
       "      <td>conventional</td>\n",
       "      <td>2016</td>\n",
       "      <td>Atlanta</td>\n",
       "    </tr>\n",
       "  </tbody>\n",
       "</table>\n",
       "</div>"
      ],
      "text/plain": [
       "            AveragePrice  Total Volume  Total Bags  Small Bags  Large Bags  \\\n",
       "Date                                                                         \n",
       "2016-12-25          1.52      73341.73    11432.09    11017.32      411.83   \n",
       "2016-12-18          1.53      68938.53     9504.66     8876.65      587.73   \n",
       "2016-12-11          1.49      71777.85    12822.02    12176.75      645.27   \n",
       "2016-12-04          1.48     113031.96     6704.29     6476.12      228.17   \n",
       "2016-12-25          0.91     502787.29   210731.46   118884.36    91847.10   \n",
       "\n",
       "            XLarge Bags          type  year   region  \n",
       "Date                                                  \n",
       "2016-12-25         2.94  conventional  2016   Albany  \n",
       "2016-12-18        40.28  conventional  2016   Albany  \n",
       "2016-12-11         0.00  conventional  2016   Albany  \n",
       "2016-12-04         0.00  conventional  2016   Albany  \n",
       "2016-12-25         0.00  conventional  2016  Atlanta  "
      ]
     },
     "execution_count": 45,
     "metadata": {},
     "output_type": "execute_result"
    }
   ],
   "source": [
    "df.loc['2016-12' ].head()"
   ]
  },
  {
   "cell_type": "code",
   "execution_count": 46,
   "id": "242f61df",
   "metadata": {},
   "outputs": [
    {
     "name": "stdout",
     "output_type": "stream",
     "text": [
      "An error occurred: KeyError – '2016-12-12'\n"
     ]
    }
   ],
   "source": [
    "try:\n",
    "    df.loc['2016-12-12']\n",
    "except Exception as e:\n",
    "       print(\"An error occurred:\", type(e).__name__, \"–\", e)  "
   ]
  },
  {
   "cell_type": "code",
   "execution_count": 47,
   "id": "7b4ee41a",
   "metadata": {},
   "outputs": [
    {
     "data": {
      "text/html": [
       "<div>\n",
       "<style scoped>\n",
       "    .dataframe tbody tr th:only-of-type {\n",
       "        vertical-align: middle;\n",
       "    }\n",
       "\n",
       "    .dataframe tbody tr th {\n",
       "        vertical-align: top;\n",
       "    }\n",
       "\n",
       "    .dataframe thead th {\n",
       "        text-align: right;\n",
       "    }\n",
       "</style>\n",
       "<table border=\"1\" class=\"dataframe\">\n",
       "  <thead>\n",
       "    <tr style=\"text-align: right;\">\n",
       "      <th></th>\n",
       "      <th>AveragePrice</th>\n",
       "      <th>Total Volume</th>\n",
       "      <th>Total Bags</th>\n",
       "      <th>Small Bags</th>\n",
       "      <th>Large Bags</th>\n",
       "      <th>XLarge Bags</th>\n",
       "      <th>type</th>\n",
       "      <th>year</th>\n",
       "      <th>region</th>\n",
       "    </tr>\n",
       "    <tr>\n",
       "      <th>Date</th>\n",
       "      <th></th>\n",
       "      <th></th>\n",
       "      <th></th>\n",
       "      <th></th>\n",
       "      <th></th>\n",
       "      <th></th>\n",
       "      <th></th>\n",
       "      <th></th>\n",
       "      <th></th>\n",
       "    </tr>\n",
       "  </thead>\n",
       "  <tbody>\n",
       "    <tr>\n",
       "      <th>2016-12-18</th>\n",
       "      <td>1.53</td>\n",
       "      <td>68938.53</td>\n",
       "      <td>9504.66</td>\n",
       "      <td>8876.65</td>\n",
       "      <td>587.73</td>\n",
       "      <td>40.28</td>\n",
       "      <td>conventional</td>\n",
       "      <td>2016</td>\n",
       "      <td>Albany</td>\n",
       "    </tr>\n",
       "    <tr>\n",
       "      <th>2016-12-11</th>\n",
       "      <td>1.49</td>\n",
       "      <td>71777.85</td>\n",
       "      <td>12822.02</td>\n",
       "      <td>12176.75</td>\n",
       "      <td>645.27</td>\n",
       "      <td>0.00</td>\n",
       "      <td>conventional</td>\n",
       "      <td>2016</td>\n",
       "      <td>Albany</td>\n",
       "    </tr>\n",
       "    <tr>\n",
       "      <th>2016-12-18</th>\n",
       "      <td>0.94</td>\n",
       "      <td>463483.07</td>\n",
       "      <td>190881.84</td>\n",
       "      <td>114872.09</td>\n",
       "      <td>76009.75</td>\n",
       "      <td>0.00</td>\n",
       "      <td>conventional</td>\n",
       "      <td>2016</td>\n",
       "      <td>Atlanta</td>\n",
       "    </tr>\n",
       "    <tr>\n",
       "      <th>2016-12-11</th>\n",
       "      <td>1.06</td>\n",
       "      <td>422026.71</td>\n",
       "      <td>179311.31</td>\n",
       "      <td>112574.78</td>\n",
       "      <td>66736.53</td>\n",
       "      <td>0.00</td>\n",
       "      <td>conventional</td>\n",
       "      <td>2016</td>\n",
       "      <td>Atlanta</td>\n",
       "    </tr>\n",
       "    <tr>\n",
       "      <th>2016-12-18</th>\n",
       "      <td>1.21</td>\n",
       "      <td>691008.74</td>\n",
       "      <td>137281.09</td>\n",
       "      <td>133753.32</td>\n",
       "      <td>2845.65</td>\n",
       "      <td>682.12</td>\n",
       "      <td>conventional</td>\n",
       "      <td>2016</td>\n",
       "      <td>BaltimoreWashington</td>\n",
       "    </tr>\n",
       "    <tr>\n",
       "      <th>...</th>\n",
       "      <td>...</td>\n",
       "      <td>...</td>\n",
       "      <td>...</td>\n",
       "      <td>...</td>\n",
       "      <td>...</td>\n",
       "      <td>...</td>\n",
       "      <td>...</td>\n",
       "      <td>...</td>\n",
       "      <td>...</td>\n",
       "    </tr>\n",
       "    <tr>\n",
       "      <th>2016-12-11</th>\n",
       "      <td>1.42</td>\n",
       "      <td>856795.63</td>\n",
       "      <td>509347.50</td>\n",
       "      <td>293760.79</td>\n",
       "      <td>215586.71</td>\n",
       "      <td>0.00</td>\n",
       "      <td>organic</td>\n",
       "      <td>2016</td>\n",
       "      <td>TotalUS</td>\n",
       "    </tr>\n",
       "    <tr>\n",
       "      <th>2016-12-18</th>\n",
       "      <td>1.23</td>\n",
       "      <td>173890.10</td>\n",
       "      <td>111968.71</td>\n",
       "      <td>27269.38</td>\n",
       "      <td>84699.33</td>\n",
       "      <td>0.00</td>\n",
       "      <td>organic</td>\n",
       "      <td>2016</td>\n",
       "      <td>West</td>\n",
       "    </tr>\n",
       "    <tr>\n",
       "      <th>2016-12-11</th>\n",
       "      <td>1.34</td>\n",
       "      <td>163585.07</td>\n",
       "      <td>99570.68</td>\n",
       "      <td>24023.81</td>\n",
       "      <td>75546.87</td>\n",
       "      <td>0.00</td>\n",
       "      <td>organic</td>\n",
       "      <td>2016</td>\n",
       "      <td>West</td>\n",
       "    </tr>\n",
       "    <tr>\n",
       "      <th>2016-12-18</th>\n",
       "      <td>1.34</td>\n",
       "      <td>11406.50</td>\n",
       "      <td>7857.31</td>\n",
       "      <td>7819.17</td>\n",
       "      <td>38.14</td>\n",
       "      <td>0.00</td>\n",
       "      <td>organic</td>\n",
       "      <td>2016</td>\n",
       "      <td>WestTexNewMexico</td>\n",
       "    </tr>\n",
       "    <tr>\n",
       "      <th>2016-12-11</th>\n",
       "      <td>1.54</td>\n",
       "      <td>13227.83</td>\n",
       "      <td>8599.83</td>\n",
       "      <td>8510.92</td>\n",
       "      <td>88.91</td>\n",
       "      <td>0.00</td>\n",
       "      <td>organic</td>\n",
       "      <td>2016</td>\n",
       "      <td>WestTexNewMexico</td>\n",
       "    </tr>\n",
       "  </tbody>\n",
       "</table>\n",
       "<p>216 rows × 9 columns</p>\n",
       "</div>"
      ],
      "text/plain": [
       "            AveragePrice  Total Volume  Total Bags  Small Bags  Large Bags  \\\n",
       "Date                                                                         \n",
       "2016-12-18          1.53      68938.53     9504.66     8876.65      587.73   \n",
       "2016-12-11          1.49      71777.85    12822.02    12176.75      645.27   \n",
       "2016-12-18          0.94     463483.07   190881.84   114872.09    76009.75   \n",
       "2016-12-11          1.06     422026.71   179311.31   112574.78    66736.53   \n",
       "2016-12-18          1.21     691008.74   137281.09   133753.32     2845.65   \n",
       "...                  ...           ...         ...         ...         ...   \n",
       "2016-12-11          1.42     856795.63   509347.50   293760.79   215586.71   \n",
       "2016-12-18          1.23     173890.10   111968.71    27269.38    84699.33   \n",
       "2016-12-11          1.34     163585.07    99570.68    24023.81    75546.87   \n",
       "2016-12-18          1.34      11406.50     7857.31     7819.17       38.14   \n",
       "2016-12-11          1.54      13227.83     8599.83     8510.92       88.91   \n",
       "\n",
       "            XLarge Bags          type  year               region  \n",
       "Date                                                              \n",
       "2016-12-18        40.28  conventional  2016               Albany  \n",
       "2016-12-11         0.00  conventional  2016               Albany  \n",
       "2016-12-18         0.00  conventional  2016              Atlanta  \n",
       "2016-12-11         0.00  conventional  2016              Atlanta  \n",
       "2016-12-18       682.12  conventional  2016  BaltimoreWashington  \n",
       "...                 ...           ...   ...                  ...  \n",
       "2016-12-11         0.00       organic  2016              TotalUS  \n",
       "2016-12-18         0.00       organic  2016                 West  \n",
       "2016-12-11         0.00       organic  2016                 West  \n",
       "2016-12-18         0.00       organic  2016     WestTexNewMexico  \n",
       "2016-12-11         0.00       organic  2016     WestTexNewMexico  \n",
       "\n",
       "[216 rows x 9 columns]"
      ]
     },
     "execution_count": 47,
     "metadata": {},
     "output_type": "execute_result"
    }
   ],
   "source": [
    "df.loc['2016-12-11':'2016-12-18']"
   ]
  },
  {
   "cell_type": "code",
   "execution_count": 48,
   "id": "5a7ab941",
   "metadata": {},
   "outputs": [
    {
     "data": {
      "text/plain": [
       "'2.0.3'"
      ]
     },
     "execution_count": 48,
     "metadata": {},
     "output_type": "execute_result"
    }
   ],
   "source": [
    "pd.__version__"
   ]
  },
  {
   "cell_type": "code",
   "execution_count": 49,
   "id": "1bc90361",
   "metadata": {
    "scrolled": false
   },
   "outputs": [
    {
     "name": "stdout",
     "output_type": "stream",
     "text": [
      "An error occurred: KeyError – 'Value based partial slicing on non-monotonic DatetimeIndexes with non-existing keys is not allowed.'\n"
     ]
    }
   ],
   "source": [
    "try:\n",
    "    df.loc['2016-12-12':'2016-12-18']\n",
    "except Exception as e:\n",
    "       print(\"An error occurred:\", type(e).__name__, \"–\", e)  "
   ]
  },
  {
   "cell_type": "markdown",
   "id": "fb3ba8fd",
   "metadata": {},
   "source": [
    "###### alternatives to find records within a specific date range"
   ]
  },
  {
   "cell_type": "code",
   "execution_count": 50,
   "id": "3ac5e804",
   "metadata": {},
   "outputs": [
    {
     "data": {
      "text/html": [
       "<div>\n",
       "<style scoped>\n",
       "    .dataframe tbody tr th:only-of-type {\n",
       "        vertical-align: middle;\n",
       "    }\n",
       "\n",
       "    .dataframe tbody tr th {\n",
       "        vertical-align: top;\n",
       "    }\n",
       "\n",
       "    .dataframe thead th {\n",
       "        text-align: right;\n",
       "    }\n",
       "</style>\n",
       "<table border=\"1\" class=\"dataframe\">\n",
       "  <thead>\n",
       "    <tr style=\"text-align: right;\">\n",
       "      <th></th>\n",
       "      <th>AveragePrice</th>\n",
       "      <th>Total Volume</th>\n",
       "      <th>Total Bags</th>\n",
       "      <th>Small Bags</th>\n",
       "      <th>Large Bags</th>\n",
       "      <th>XLarge Bags</th>\n",
       "      <th>type</th>\n",
       "      <th>year</th>\n",
       "      <th>region</th>\n",
       "    </tr>\n",
       "    <tr>\n",
       "      <th>Date</th>\n",
       "      <th></th>\n",
       "      <th></th>\n",
       "      <th></th>\n",
       "      <th></th>\n",
       "      <th></th>\n",
       "      <th></th>\n",
       "      <th></th>\n",
       "      <th></th>\n",
       "      <th></th>\n",
       "    </tr>\n",
       "  </thead>\n",
       "  <tbody>\n",
       "    <tr>\n",
       "      <th>2016-12-04</th>\n",
       "      <td>1.48</td>\n",
       "      <td>113031.96</td>\n",
       "      <td>6704.29</td>\n",
       "      <td>6476.12</td>\n",
       "      <td>228.17</td>\n",
       "      <td>0.00</td>\n",
       "      <td>conventional</td>\n",
       "      <td>2016</td>\n",
       "      <td>Albany</td>\n",
       "    </tr>\n",
       "    <tr>\n",
       "      <th>2016-12-04</th>\n",
       "      <td>1.03</td>\n",
       "      <td>475815.02</td>\n",
       "      <td>171591.00</td>\n",
       "      <td>67806.59</td>\n",
       "      <td>103784.41</td>\n",
       "      <td>0.00</td>\n",
       "      <td>conventional</td>\n",
       "      <td>2016</td>\n",
       "      <td>Atlanta</td>\n",
       "    </tr>\n",
       "    <tr>\n",
       "      <th>2016-12-04</th>\n",
       "      <td>1.41</td>\n",
       "      <td>566956.23</td>\n",
       "      <td>159678.20</td>\n",
       "      <td>157703.86</td>\n",
       "      <td>1738.23</td>\n",
       "      <td>236.11</td>\n",
       "      <td>conventional</td>\n",
       "      <td>2016</td>\n",
       "      <td>BaltimoreWashington</td>\n",
       "    </tr>\n",
       "    <tr>\n",
       "      <th>2016-12-04</th>\n",
       "      <td>1.01</td>\n",
       "      <td>72471.63</td>\n",
       "      <td>31508.76</td>\n",
       "      <td>31278.13</td>\n",
       "      <td>217.75</td>\n",
       "      <td>12.88</td>\n",
       "      <td>conventional</td>\n",
       "      <td>2016</td>\n",
       "      <td>Boise</td>\n",
       "    </tr>\n",
       "    <tr>\n",
       "      <th>2016-12-04</th>\n",
       "      <td>1.26</td>\n",
       "      <td>473428.36</td>\n",
       "      <td>71859.07</td>\n",
       "      <td>71377.77</td>\n",
       "      <td>307.69</td>\n",
       "      <td>173.61</td>\n",
       "      <td>conventional</td>\n",
       "      <td>2016</td>\n",
       "      <td>Boston</td>\n",
       "    </tr>\n",
       "  </tbody>\n",
       "</table>\n",
       "</div>"
      ],
      "text/plain": [
       "            AveragePrice  Total Volume  Total Bags  Small Bags  Large Bags  \\\n",
       "Date                                                                         \n",
       "2016-12-04          1.48     113031.96     6704.29     6476.12      228.17   \n",
       "2016-12-04          1.03     475815.02   171591.00    67806.59   103784.41   \n",
       "2016-12-04          1.41     566956.23   159678.20   157703.86     1738.23   \n",
       "2016-12-04          1.01      72471.63    31508.76    31278.13      217.75   \n",
       "2016-12-04          1.26     473428.36    71859.07    71377.77      307.69   \n",
       "\n",
       "            XLarge Bags          type  year               region  \n",
       "Date                                                              \n",
       "2016-12-04         0.00  conventional  2016               Albany  \n",
       "2016-12-04         0.00  conventional  2016              Atlanta  \n",
       "2016-12-04       236.11  conventional  2016  BaltimoreWashington  \n",
       "2016-12-04        12.88  conventional  2016                Boise  \n",
       "2016-12-04       173.61  conventional  2016               Boston  "
      ]
     },
     "execution_count": 50,
     "metadata": {},
     "output_type": "execute_result"
    }
   ],
   "source": [
    "start_date = '2016-12-01'\n",
    "end_date = '2016-12-05'\n",
    "\n",
    "df[(df.index >= start_date) & (df.index <= end_date)].head()"
   ]
  },
  {
   "cell_type": "code",
   "execution_count": 51,
   "id": "f4442255",
   "metadata": {},
   "outputs": [],
   "source": [
    "start_date = '2016-12-01'\n",
    "end_date = '2016-12-05'"
   ]
  },
  {
   "cell_type": "code",
   "execution_count": 52,
   "id": "d838c431",
   "metadata": {},
   "outputs": [],
   "source": [
    "filtered_df = df.query('@start_date <= index <= @end_date')"
   ]
  },
  {
   "cell_type": "code",
   "execution_count": 53,
   "id": "d94986f2",
   "metadata": {},
   "outputs": [
    {
     "data": {
      "text/html": [
       "<div>\n",
       "<style scoped>\n",
       "    .dataframe tbody tr th:only-of-type {\n",
       "        vertical-align: middle;\n",
       "    }\n",
       "\n",
       "    .dataframe tbody tr th {\n",
       "        vertical-align: top;\n",
       "    }\n",
       "\n",
       "    .dataframe thead th {\n",
       "        text-align: right;\n",
       "    }\n",
       "</style>\n",
       "<table border=\"1\" class=\"dataframe\">\n",
       "  <thead>\n",
       "    <tr style=\"text-align: right;\">\n",
       "      <th></th>\n",
       "      <th>AveragePrice</th>\n",
       "      <th>Total Volume</th>\n",
       "      <th>Total Bags</th>\n",
       "      <th>Small Bags</th>\n",
       "      <th>Large Bags</th>\n",
       "      <th>XLarge Bags</th>\n",
       "      <th>type</th>\n",
       "      <th>year</th>\n",
       "      <th>region</th>\n",
       "    </tr>\n",
       "    <tr>\n",
       "      <th>Date</th>\n",
       "      <th></th>\n",
       "      <th></th>\n",
       "      <th></th>\n",
       "      <th></th>\n",
       "      <th></th>\n",
       "      <th></th>\n",
       "      <th></th>\n",
       "      <th></th>\n",
       "      <th></th>\n",
       "    </tr>\n",
       "  </thead>\n",
       "  <tbody>\n",
       "    <tr>\n",
       "      <th>2016-12-04</th>\n",
       "      <td>1.48</td>\n",
       "      <td>113031.96</td>\n",
       "      <td>6704.29</td>\n",
       "      <td>6476.12</td>\n",
       "      <td>228.17</td>\n",
       "      <td>0.00</td>\n",
       "      <td>conventional</td>\n",
       "      <td>2016</td>\n",
       "      <td>Albany</td>\n",
       "    </tr>\n",
       "    <tr>\n",
       "      <th>2016-12-04</th>\n",
       "      <td>1.03</td>\n",
       "      <td>475815.02</td>\n",
       "      <td>171591.00</td>\n",
       "      <td>67806.59</td>\n",
       "      <td>103784.41</td>\n",
       "      <td>0.00</td>\n",
       "      <td>conventional</td>\n",
       "      <td>2016</td>\n",
       "      <td>Atlanta</td>\n",
       "    </tr>\n",
       "    <tr>\n",
       "      <th>2016-12-04</th>\n",
       "      <td>1.41</td>\n",
       "      <td>566956.23</td>\n",
       "      <td>159678.20</td>\n",
       "      <td>157703.86</td>\n",
       "      <td>1738.23</td>\n",
       "      <td>236.11</td>\n",
       "      <td>conventional</td>\n",
       "      <td>2016</td>\n",
       "      <td>BaltimoreWashington</td>\n",
       "    </tr>\n",
       "    <tr>\n",
       "      <th>2016-12-04</th>\n",
       "      <td>1.01</td>\n",
       "      <td>72471.63</td>\n",
       "      <td>31508.76</td>\n",
       "      <td>31278.13</td>\n",
       "      <td>217.75</td>\n",
       "      <td>12.88</td>\n",
       "      <td>conventional</td>\n",
       "      <td>2016</td>\n",
       "      <td>Boise</td>\n",
       "    </tr>\n",
       "    <tr>\n",
       "      <th>2016-12-04</th>\n",
       "      <td>1.26</td>\n",
       "      <td>473428.36</td>\n",
       "      <td>71859.07</td>\n",
       "      <td>71377.77</td>\n",
       "      <td>307.69</td>\n",
       "      <td>173.61</td>\n",
       "      <td>conventional</td>\n",
       "      <td>2016</td>\n",
       "      <td>Boston</td>\n",
       "    </tr>\n",
       "  </tbody>\n",
       "</table>\n",
       "</div>"
      ],
      "text/plain": [
       "            AveragePrice  Total Volume  Total Bags  Small Bags  Large Bags  \\\n",
       "Date                                                                         \n",
       "2016-12-04          1.48     113031.96     6704.29     6476.12      228.17   \n",
       "2016-12-04          1.03     475815.02   171591.00    67806.59   103784.41   \n",
       "2016-12-04          1.41     566956.23   159678.20   157703.86     1738.23   \n",
       "2016-12-04          1.01      72471.63    31508.76    31278.13      217.75   \n",
       "2016-12-04          1.26     473428.36    71859.07    71377.77      307.69   \n",
       "\n",
       "            XLarge Bags          type  year               region  \n",
       "Date                                                              \n",
       "2016-12-04         0.00  conventional  2016               Albany  \n",
       "2016-12-04         0.00  conventional  2016              Atlanta  \n",
       "2016-12-04       236.11  conventional  2016  BaltimoreWashington  \n",
       "2016-12-04        12.88  conventional  2016                Boise  \n",
       "2016-12-04       173.61  conventional  2016               Boston  "
      ]
     },
     "execution_count": 53,
     "metadata": {},
     "output_type": "execute_result"
    }
   ],
   "source": [
    "filtered_df.head()"
   ]
  },
  {
   "cell_type": "markdown",
   "id": "9508503c",
   "metadata": {},
   "source": [
    "###### check for duplicate"
   ]
  },
  {
   "cell_type": "code",
   "execution_count": 54,
   "id": "14d5f24e",
   "metadata": {},
   "outputs": [
    {
     "data": {
      "text/plain": [
       "array([False, False, False, ...,  True,  True,  True])"
      ]
     },
     "execution_count": 54,
     "metadata": {},
     "output_type": "execute_result"
    }
   ],
   "source": [
    "duplicates = df.index.duplicated()\n",
    "duplicates"
   ]
  },
  {
   "cell_type": "code",
   "execution_count": 55,
   "id": "7800e82f",
   "metadata": {},
   "outputs": [
    {
     "data": {
      "text/plain": [
       "18080"
      ]
     },
     "execution_count": 55,
     "metadata": {},
     "output_type": "execute_result"
    }
   ],
   "source": [
    "duplicates.sum()"
   ]
  },
  {
   "cell_type": "markdown",
   "id": "a2886990",
   "metadata": {},
   "source": [
    "###### Reset the index to default integer-based index and handle datetime in a separate column\n"
   ]
  },
  {
   "cell_type": "code",
   "execution_count": 56,
   "id": "6fabdbe7",
   "metadata": {},
   "outputs": [],
   "source": [
    "df.reset_index(inplace=True)"
   ]
  },
  {
   "cell_type": "code",
   "execution_count": 57,
   "id": "082c7d2c",
   "metadata": {},
   "outputs": [
    {
     "data": {
      "text/html": [
       "<div>\n",
       "<style scoped>\n",
       "    .dataframe tbody tr th:only-of-type {\n",
       "        vertical-align: middle;\n",
       "    }\n",
       "\n",
       "    .dataframe tbody tr th {\n",
       "        vertical-align: top;\n",
       "    }\n",
       "\n",
       "    .dataframe thead th {\n",
       "        text-align: right;\n",
       "    }\n",
       "</style>\n",
       "<table border=\"1\" class=\"dataframe\">\n",
       "  <thead>\n",
       "    <tr style=\"text-align: right;\">\n",
       "      <th></th>\n",
       "      <th>Date</th>\n",
       "      <th>AveragePrice</th>\n",
       "      <th>Total Volume</th>\n",
       "      <th>Total Bags</th>\n",
       "      <th>Small Bags</th>\n",
       "      <th>Large Bags</th>\n",
       "      <th>XLarge Bags</th>\n",
       "      <th>type</th>\n",
       "      <th>year</th>\n",
       "      <th>region</th>\n",
       "    </tr>\n",
       "  </thead>\n",
       "  <tbody>\n",
       "    <tr>\n",
       "      <th>0</th>\n",
       "      <td>2015-12-27</td>\n",
       "      <td>1.33</td>\n",
       "      <td>64236.62</td>\n",
       "      <td>8696.87</td>\n",
       "      <td>8603.62</td>\n",
       "      <td>93.25</td>\n",
       "      <td>0.0</td>\n",
       "      <td>conventional</td>\n",
       "      <td>2015</td>\n",
       "      <td>Albany</td>\n",
       "    </tr>\n",
       "    <tr>\n",
       "      <th>1</th>\n",
       "      <td>2015-12-20</td>\n",
       "      <td>1.35</td>\n",
       "      <td>54876.98</td>\n",
       "      <td>9505.56</td>\n",
       "      <td>9408.07</td>\n",
       "      <td>97.49</td>\n",
       "      <td>0.0</td>\n",
       "      <td>conventional</td>\n",
       "      <td>2015</td>\n",
       "      <td>Albany</td>\n",
       "    </tr>\n",
       "    <tr>\n",
       "      <th>2</th>\n",
       "      <td>2015-12-13</td>\n",
       "      <td>0.93</td>\n",
       "      <td>118220.22</td>\n",
       "      <td>8145.35</td>\n",
       "      <td>8042.21</td>\n",
       "      <td>103.14</td>\n",
       "      <td>0.0</td>\n",
       "      <td>conventional</td>\n",
       "      <td>2015</td>\n",
       "      <td>Albany</td>\n",
       "    </tr>\n",
       "    <tr>\n",
       "      <th>3</th>\n",
       "      <td>2015-12-06</td>\n",
       "      <td>1.08</td>\n",
       "      <td>78992.15</td>\n",
       "      <td>5811.16</td>\n",
       "      <td>5677.40</td>\n",
       "      <td>133.76</td>\n",
       "      <td>0.0</td>\n",
       "      <td>conventional</td>\n",
       "      <td>2015</td>\n",
       "      <td>Albany</td>\n",
       "    </tr>\n",
       "    <tr>\n",
       "      <th>4</th>\n",
       "      <td>2015-11-29</td>\n",
       "      <td>1.28</td>\n",
       "      <td>51039.60</td>\n",
       "      <td>6183.95</td>\n",
       "      <td>5986.26</td>\n",
       "      <td>197.69</td>\n",
       "      <td>0.0</td>\n",
       "      <td>conventional</td>\n",
       "      <td>2015</td>\n",
       "      <td>Albany</td>\n",
       "    </tr>\n",
       "  </tbody>\n",
       "</table>\n",
       "</div>"
      ],
      "text/plain": [
       "        Date  AveragePrice  Total Volume  Total Bags  Small Bags  Large Bags  \\\n",
       "0 2015-12-27          1.33      64236.62     8696.87     8603.62       93.25   \n",
       "1 2015-12-20          1.35      54876.98     9505.56     9408.07       97.49   \n",
       "2 2015-12-13          0.93     118220.22     8145.35     8042.21      103.14   \n",
       "3 2015-12-06          1.08      78992.15     5811.16     5677.40      133.76   \n",
       "4 2015-11-29          1.28      51039.60     6183.95     5986.26      197.69   \n",
       "\n",
       "   XLarge Bags          type  year  region  \n",
       "0          0.0  conventional  2015  Albany  \n",
       "1          0.0  conventional  2015  Albany  \n",
       "2          0.0  conventional  2015  Albany  \n",
       "3          0.0  conventional  2015  Albany  \n",
       "4          0.0  conventional  2015  Albany  "
      ]
     },
     "execution_count": 57,
     "metadata": {},
     "output_type": "execute_result"
    }
   ],
   "source": [
    "df.head()"
   ]
  },
  {
   "cell_type": "code",
   "execution_count": 58,
   "id": "a88a55ab",
   "metadata": {},
   "outputs": [
    {
     "data": {
      "text/html": [
       "<div>\n",
       "<style scoped>\n",
       "    .dataframe tbody tr th:only-of-type {\n",
       "        vertical-align: middle;\n",
       "    }\n",
       "\n",
       "    .dataframe tbody tr th {\n",
       "        vertical-align: top;\n",
       "    }\n",
       "\n",
       "    .dataframe thead th {\n",
       "        text-align: right;\n",
       "    }\n",
       "</style>\n",
       "<table border=\"1\" class=\"dataframe\">\n",
       "  <thead>\n",
       "    <tr style=\"text-align: right;\">\n",
       "      <th></th>\n",
       "      <th>Date</th>\n",
       "      <th>AveragePrice</th>\n",
       "      <th>Total Volume</th>\n",
       "      <th>Total Bags</th>\n",
       "      <th>Small Bags</th>\n",
       "      <th>Large Bags</th>\n",
       "      <th>XLarge Bags</th>\n",
       "      <th>type</th>\n",
       "      <th>year</th>\n",
       "      <th>region</th>\n",
       "    </tr>\n",
       "  </thead>\n",
       "  <tbody>\n",
       "    <tr>\n",
       "      <th>8478</th>\n",
       "      <td>2018-03-25</td>\n",
       "      <td>1.57</td>\n",
       "      <td>149396.50</td>\n",
       "      <td>23924.33</td>\n",
       "      <td>19273.80</td>\n",
       "      <td>4270.53</td>\n",
       "      <td>380.00</td>\n",
       "      <td>conventional</td>\n",
       "      <td>2018</td>\n",
       "      <td>Albany</td>\n",
       "    </tr>\n",
       "    <tr>\n",
       "      <th>8479</th>\n",
       "      <td>2018-03-18</td>\n",
       "      <td>1.35</td>\n",
       "      <td>105304.65</td>\n",
       "      <td>30977.21</td>\n",
       "      <td>26755.90</td>\n",
       "      <td>3721.31</td>\n",
       "      <td>500.00</td>\n",
       "      <td>conventional</td>\n",
       "      <td>2018</td>\n",
       "      <td>Albany</td>\n",
       "    </tr>\n",
       "    <tr>\n",
       "      <th>8480</th>\n",
       "      <td>2018-03-11</td>\n",
       "      <td>1.12</td>\n",
       "      <td>144648.75</td>\n",
       "      <td>17804.72</td>\n",
       "      <td>14480.52</td>\n",
       "      <td>3033.09</td>\n",
       "      <td>291.11</td>\n",
       "      <td>conventional</td>\n",
       "      <td>2018</td>\n",
       "      <td>Albany</td>\n",
       "    </tr>\n",
       "    <tr>\n",
       "      <th>8481</th>\n",
       "      <td>2018-03-04</td>\n",
       "      <td>1.08</td>\n",
       "      <td>139520.60</td>\n",
       "      <td>22353.29</td>\n",
       "      <td>16128.51</td>\n",
       "      <td>5941.45</td>\n",
       "      <td>283.33</td>\n",
       "      <td>conventional</td>\n",
       "      <td>2018</td>\n",
       "      <td>Albany</td>\n",
       "    </tr>\n",
       "    <tr>\n",
       "      <th>8482</th>\n",
       "      <td>2018-02-25</td>\n",
       "      <td>1.28</td>\n",
       "      <td>104278.89</td>\n",
       "      <td>34138.80</td>\n",
       "      <td>30126.31</td>\n",
       "      <td>3702.49</td>\n",
       "      <td>310.00</td>\n",
       "      <td>conventional</td>\n",
       "      <td>2018</td>\n",
       "      <td>Albany</td>\n",
       "    </tr>\n",
       "  </tbody>\n",
       "</table>\n",
       "</div>"
      ],
      "text/plain": [
       "           Date  AveragePrice  Total Volume  Total Bags  Small Bags  \\\n",
       "8478 2018-03-25          1.57     149396.50    23924.33    19273.80   \n",
       "8479 2018-03-18          1.35     105304.65    30977.21    26755.90   \n",
       "8480 2018-03-11          1.12     144648.75    17804.72    14480.52   \n",
       "8481 2018-03-04          1.08     139520.60    22353.29    16128.51   \n",
       "8482 2018-02-25          1.28     104278.89    34138.80    30126.31   \n",
       "\n",
       "      Large Bags  XLarge Bags          type  year  region  \n",
       "8478     4270.53       380.00  conventional  2018  Albany  \n",
       "8479     3721.31       500.00  conventional  2018  Albany  \n",
       "8480     3033.09       291.11  conventional  2018  Albany  \n",
       "8481     5941.45       283.33  conventional  2018  Albany  \n",
       "8482     3702.49       310.00  conventional  2018  Albany  "
      ]
     },
     "execution_count": 58,
     "metadata": {},
     "output_type": "execute_result"
    }
   ],
   "source": [
    "selected_rows = df[df['Date'] >= '2018-02-02']\n",
    "selected_rows.head()"
   ]
  },
  {
   "cell_type": "code",
   "execution_count": 59,
   "id": "ae271eba",
   "metadata": {},
   "outputs": [],
   "source": [
    "sliced_rows = df[(df['Date'] >= '2016-08-02') & (df['Date'] <= '2016-08-15')]"
   ]
  },
  {
   "cell_type": "code",
   "execution_count": 60,
   "id": "af5d6822",
   "metadata": {},
   "outputs": [
    {
     "data": {
      "text/html": [
       "<div>\n",
       "<style scoped>\n",
       "    .dataframe tbody tr th:only-of-type {\n",
       "        vertical-align: middle;\n",
       "    }\n",
       "\n",
       "    .dataframe tbody tr th {\n",
       "        vertical-align: top;\n",
       "    }\n",
       "\n",
       "    .dataframe thead th {\n",
       "        text-align: right;\n",
       "    }\n",
       "</style>\n",
       "<table border=\"1\" class=\"dataframe\">\n",
       "  <thead>\n",
       "    <tr style=\"text-align: right;\">\n",
       "      <th></th>\n",
       "      <th>Date</th>\n",
       "      <th>AveragePrice</th>\n",
       "      <th>Total Volume</th>\n",
       "      <th>Total Bags</th>\n",
       "      <th>Small Bags</th>\n",
       "      <th>Large Bags</th>\n",
       "      <th>XLarge Bags</th>\n",
       "      <th>type</th>\n",
       "      <th>year</th>\n",
       "      <th>region</th>\n",
       "    </tr>\n",
       "  </thead>\n",
       "  <tbody>\n",
       "    <tr>\n",
       "      <th>2827</th>\n",
       "      <td>2016-08-14</td>\n",
       "      <td>1.20</td>\n",
       "      <td>110528.09</td>\n",
       "      <td>13530.48</td>\n",
       "      <td>12434.82</td>\n",
       "      <td>350.10</td>\n",
       "      <td>745.56</td>\n",
       "      <td>conventional</td>\n",
       "      <td>2016</td>\n",
       "      <td>Albany</td>\n",
       "    </tr>\n",
       "    <tr>\n",
       "      <th>2828</th>\n",
       "      <td>2016-08-07</td>\n",
       "      <td>1.48</td>\n",
       "      <td>99683.11</td>\n",
       "      <td>15947.06</td>\n",
       "      <td>14597.20</td>\n",
       "      <td>178.19</td>\n",
       "      <td>1171.67</td>\n",
       "      <td>conventional</td>\n",
       "      <td>2016</td>\n",
       "      <td>Albany</td>\n",
       "    </tr>\n",
       "    <tr>\n",
       "      <th>2879</th>\n",
       "      <td>2016-08-14</td>\n",
       "      <td>0.87</td>\n",
       "      <td>666493.32</td>\n",
       "      <td>242570.06</td>\n",
       "      <td>182840.11</td>\n",
       "      <td>59729.95</td>\n",
       "      <td>0.00</td>\n",
       "      <td>conventional</td>\n",
       "      <td>2016</td>\n",
       "      <td>Atlanta</td>\n",
       "    </tr>\n",
       "    <tr>\n",
       "      <th>2880</th>\n",
       "      <td>2016-08-07</td>\n",
       "      <td>1.04</td>\n",
       "      <td>508354.34</td>\n",
       "      <td>192926.85</td>\n",
       "      <td>131851.39</td>\n",
       "      <td>61075.46</td>\n",
       "      <td>0.00</td>\n",
       "      <td>conventional</td>\n",
       "      <td>2016</td>\n",
       "      <td>Atlanta</td>\n",
       "    </tr>\n",
       "    <tr>\n",
       "      <th>2931</th>\n",
       "      <td>2016-08-14</td>\n",
       "      <td>1.52</td>\n",
       "      <td>742291.98</td>\n",
       "      <td>227903.75</td>\n",
       "      <td>219529.71</td>\n",
       "      <td>6984.04</td>\n",
       "      <td>1390.00</td>\n",
       "      <td>conventional</td>\n",
       "      <td>2016</td>\n",
       "      <td>BaltimoreWashington</td>\n",
       "    </tr>\n",
       "  </tbody>\n",
       "</table>\n",
       "</div>"
      ],
      "text/plain": [
       "           Date  AveragePrice  Total Volume  Total Bags  Small Bags  \\\n",
       "2827 2016-08-14          1.20     110528.09    13530.48    12434.82   \n",
       "2828 2016-08-07          1.48      99683.11    15947.06    14597.20   \n",
       "2879 2016-08-14          0.87     666493.32   242570.06   182840.11   \n",
       "2880 2016-08-07          1.04     508354.34   192926.85   131851.39   \n",
       "2931 2016-08-14          1.52     742291.98   227903.75   219529.71   \n",
       "\n",
       "      Large Bags  XLarge Bags          type  year               region  \n",
       "2827      350.10       745.56  conventional  2016               Albany  \n",
       "2828      178.19      1171.67  conventional  2016               Albany  \n",
       "2879    59729.95         0.00  conventional  2016              Atlanta  \n",
       "2880    61075.46         0.00  conventional  2016              Atlanta  \n",
       "2931     6984.04      1390.00  conventional  2016  BaltimoreWashington  "
      ]
     },
     "execution_count": 60,
     "metadata": {},
     "output_type": "execute_result"
    }
   ],
   "source": [
    "sliced_rows.head()"
   ]
  },
  {
   "cell_type": "markdown",
   "id": "1d4399b6",
   "metadata": {},
   "source": [
    "###### Use multi-index"
   ]
  },
  {
   "cell_type": "code",
   "execution_count": 61,
   "id": "16e3f53a",
   "metadata": {},
   "outputs": [
    {
     "data": {
      "text/html": [
       "<div>\n",
       "<style scoped>\n",
       "    .dataframe tbody tr th:only-of-type {\n",
       "        vertical-align: middle;\n",
       "    }\n",
       "\n",
       "    .dataframe tbody tr th {\n",
       "        vertical-align: top;\n",
       "    }\n",
       "\n",
       "    .dataframe thead th {\n",
       "        text-align: right;\n",
       "    }\n",
       "</style>\n",
       "<table border=\"1\" class=\"dataframe\">\n",
       "  <thead>\n",
       "    <tr style=\"text-align: right;\">\n",
       "      <th></th>\n",
       "      <th></th>\n",
       "      <th>value</th>\n",
       "    </tr>\n",
       "    <tr>\n",
       "      <th>date</th>\n",
       "      <th>category</th>\n",
       "      <th></th>\n",
       "    </tr>\n",
       "  </thead>\n",
       "  <tbody>\n",
       "    <tr>\n",
       "      <th>2023-08-01</th>\n",
       "      <th>A</th>\n",
       "      <td>10</td>\n",
       "    </tr>\n",
       "    <tr>\n",
       "      <th rowspan=\"2\" valign=\"top\">2023-08-02</th>\n",
       "      <th>A</th>\n",
       "      <td>15</td>\n",
       "    </tr>\n",
       "    <tr>\n",
       "      <th>B</th>\n",
       "      <td>20</td>\n",
       "    </tr>\n",
       "    <tr>\n",
       "      <th>2023-08-03</th>\n",
       "      <th>A</th>\n",
       "      <td>25</td>\n",
       "    </tr>\n",
       "  </tbody>\n",
       "</table>\n",
       "</div>"
      ],
      "text/plain": [
       "                     value\n",
       "date       category       \n",
       "2023-08-01 A            10\n",
       "2023-08-02 A            15\n",
       "           B            20\n",
       "2023-08-03 A            25"
      ]
     },
     "execution_count": 61,
     "metadata": {},
     "output_type": "execute_result"
    }
   ],
   "source": [
    "import pandas as pd\n",
    "\n",
    "# Sample data\n",
    "data = {'date': ['2023-08-01', '2023-08-02', '2023-08-02', '2023-08-03'],\n",
    "        'category': ['A', 'A', 'B', 'A'],\n",
    "        'value': [10, 15, 20, 25]}\n",
    "\n",
    "# Create a DataFrame with datetime and category columns\n",
    "df = pd.DataFrame(data)\n",
    "df['date'] = pd.to_datetime(df['date'])\n",
    "\n",
    "# Set multi-index with 'date' and 'category'\n",
    "df.set_index(['date', 'category'], inplace=True)\n",
    "\n",
    "df"
   ]
  },
  {
   "cell_type": "code",
   "execution_count": 62,
   "id": "9ba7a80c",
   "metadata": {},
   "outputs": [
    {
     "data": {
      "text/plain": [
       "MultiIndex([('2023-08-01', 'A'),\n",
       "            ('2023-08-02', 'A'),\n",
       "            ('2023-08-02', 'B'),\n",
       "            ('2023-08-03', 'A')],\n",
       "           names=['date', 'category'])"
      ]
     },
     "execution_count": 62,
     "metadata": {},
     "output_type": "execute_result"
    }
   ],
   "source": [
    "df.index"
   ]
  },
  {
   "cell_type": "code",
   "execution_count": 63,
   "id": "6ce73272",
   "metadata": {},
   "outputs": [
    {
     "data": {
      "text/html": [
       "<div>\n",
       "<style scoped>\n",
       "    .dataframe tbody tr th:only-of-type {\n",
       "        vertical-align: middle;\n",
       "    }\n",
       "\n",
       "    .dataframe tbody tr th {\n",
       "        vertical-align: top;\n",
       "    }\n",
       "\n",
       "    .dataframe thead th {\n",
       "        text-align: right;\n",
       "    }\n",
       "</style>\n",
       "<table border=\"1\" class=\"dataframe\">\n",
       "  <thead>\n",
       "    <tr style=\"text-align: right;\">\n",
       "      <th></th>\n",
       "      <th>value</th>\n",
       "    </tr>\n",
       "    <tr>\n",
       "      <th>category</th>\n",
       "      <th></th>\n",
       "    </tr>\n",
       "  </thead>\n",
       "  <tbody>\n",
       "    <tr>\n",
       "      <th>A</th>\n",
       "      <td>10</td>\n",
       "    </tr>\n",
       "  </tbody>\n",
       "</table>\n",
       "</div>"
      ],
      "text/plain": [
       "          value\n",
       "category       \n",
       "A            10"
      ]
     },
     "execution_count": 63,
     "metadata": {},
     "output_type": "execute_result"
    }
   ],
   "source": [
    "selected_rows = df.loc['2023-08-01']\n",
    "selected_rows"
   ]
  },
  {
   "cell_type": "code",
   "execution_count": 64,
   "id": "9bf6c929",
   "metadata": {},
   "outputs": [
    {
     "data": {
      "text/html": [
       "<div>\n",
       "<style scoped>\n",
       "    .dataframe tbody tr th:only-of-type {\n",
       "        vertical-align: middle;\n",
       "    }\n",
       "\n",
       "    .dataframe tbody tr th {\n",
       "        vertical-align: top;\n",
       "    }\n",
       "\n",
       "    .dataframe thead th {\n",
       "        text-align: right;\n",
       "    }\n",
       "</style>\n",
       "<table border=\"1\" class=\"dataframe\">\n",
       "  <thead>\n",
       "    <tr style=\"text-align: right;\">\n",
       "      <th></th>\n",
       "      <th></th>\n",
       "      <th>value</th>\n",
       "    </tr>\n",
       "    <tr>\n",
       "      <th>date</th>\n",
       "      <th>category</th>\n",
       "      <th></th>\n",
       "    </tr>\n",
       "  </thead>\n",
       "  <tbody>\n",
       "    <tr>\n",
       "      <th rowspan=\"2\" valign=\"top\">2023-08-02</th>\n",
       "      <th>A</th>\n",
       "      <td>15</td>\n",
       "    </tr>\n",
       "    <tr>\n",
       "      <th>B</th>\n",
       "      <td>20</td>\n",
       "    </tr>\n",
       "    <tr>\n",
       "      <th>2023-08-03</th>\n",
       "      <th>A</th>\n",
       "      <td>25</td>\n",
       "    </tr>\n",
       "  </tbody>\n",
       "</table>\n",
       "</div>"
      ],
      "text/plain": [
       "                     value\n",
       "date       category       \n",
       "2023-08-02 A            15\n",
       "           B            20\n",
       "2023-08-03 A            25"
      ]
     },
     "execution_count": 64,
     "metadata": {},
     "output_type": "execute_result"
    }
   ],
   "source": [
    "selected_rows = df.loc['2023-08-02':'2023-08-03']\n",
    "selected_rows"
   ]
  },
  {
   "cell_type": "code",
   "execution_count": 65,
   "id": "0e7af125",
   "metadata": {},
   "outputs": [
    {
     "data": {
      "text/html": [
       "<div>\n",
       "<style scoped>\n",
       "    .dataframe tbody tr th:only-of-type {\n",
       "        vertical-align: middle;\n",
       "    }\n",
       "\n",
       "    .dataframe tbody tr th {\n",
       "        vertical-align: top;\n",
       "    }\n",
       "\n",
       "    .dataframe thead th {\n",
       "        text-align: right;\n",
       "    }\n",
       "</style>\n",
       "<table border=\"1\" class=\"dataframe\">\n",
       "  <thead>\n",
       "    <tr style=\"text-align: right;\">\n",
       "      <th></th>\n",
       "      <th></th>\n",
       "      <th>value</th>\n",
       "    </tr>\n",
       "    <tr>\n",
       "      <th>date</th>\n",
       "      <th>category</th>\n",
       "      <th></th>\n",
       "    </tr>\n",
       "  </thead>\n",
       "  <tbody>\n",
       "    <tr>\n",
       "      <th>2023-08-01</th>\n",
       "      <th>A</th>\n",
       "      <td>10</td>\n",
       "    </tr>\n",
       "    <tr>\n",
       "      <th>2023-08-02</th>\n",
       "      <th>A</th>\n",
       "      <td>15</td>\n",
       "    </tr>\n",
       "  </tbody>\n",
       "</table>\n",
       "</div>"
      ],
      "text/plain": [
       "                     value\n",
       "date       category       \n",
       "2023-08-01 A            10\n",
       "2023-08-02 A            15"
      ]
     },
     "execution_count": 65,
     "metadata": {},
     "output_type": "execute_result"
    }
   ],
   "source": [
    "sliced_rows = df.loc[('2023-08-01', 'A'):('2023-08-02', 'A')]\n",
    "sliced_rows"
   ]
  },
  {
   "cell_type": "code",
   "execution_count": null,
   "id": "1aeac3dd",
   "metadata": {},
   "outputs": [],
   "source": [
    "\n"
   ]
  },
  {
   "cell_type": "code",
   "execution_count": 66,
   "id": "71aebc73",
   "metadata": {},
   "outputs": [
    {
     "data": {
      "text/html": [
       "<div>\n",
       "<style scoped>\n",
       "    .dataframe tbody tr th:only-of-type {\n",
       "        vertical-align: middle;\n",
       "    }\n",
       "\n",
       "    .dataframe tbody tr th {\n",
       "        vertical-align: top;\n",
       "    }\n",
       "\n",
       "    .dataframe thead th {\n",
       "        text-align: right;\n",
       "    }\n",
       "</style>\n",
       "<table border=\"1\" class=\"dataframe\">\n",
       "  <thead>\n",
       "    <tr style=\"text-align: right;\">\n",
       "      <th></th>\n",
       "      <th>Close Price</th>\n",
       "      <th>High Price</th>\n",
       "      <th>Low Price</th>\n",
       "      <th>Open Price</th>\n",
       "      <th>Volume</th>\n",
       "    </tr>\n",
       "    <tr>\n",
       "      <th>Date</th>\n",
       "      <th></th>\n",
       "      <th></th>\n",
       "      <th></th>\n",
       "      <th></th>\n",
       "      <th></th>\n",
       "    </tr>\n",
       "  </thead>\n",
       "  <tbody>\n",
       "    <tr>\n",
       "      <th>2021-12-10 05:00:00</th>\n",
       "      <td>48246.57</td>\n",
       "      <td>48359.35</td>\n",
       "      <td>48051.08</td>\n",
       "      <td>48170.66</td>\n",
       "      <td>827.40</td>\n",
       "    </tr>\n",
       "    <tr>\n",
       "      <th>2021-12-10 06:00:00</th>\n",
       "      <td>47847.59</td>\n",
       "      <td>48430.00</td>\n",
       "      <td>47810.81</td>\n",
       "      <td>48249.78</td>\n",
       "      <td>1296.19</td>\n",
       "    </tr>\n",
       "    <tr>\n",
       "      <th>2021-12-10 07:00:00</th>\n",
       "      <td>47694.62</td>\n",
       "      <td>48037.48</td>\n",
       "      <td>47550.00</td>\n",
       "      <td>47847.59</td>\n",
       "      <td>2299.85</td>\n",
       "    </tr>\n",
       "    <tr>\n",
       "      <th>2021-12-10 08:00:00</th>\n",
       "      <td>48090.35</td>\n",
       "      <td>48169.06</td>\n",
       "      <td>47587.39</td>\n",
       "      <td>47694.62</td>\n",
       "      <td>1371.25</td>\n",
       "    </tr>\n",
       "    <tr>\n",
       "      <th>2021-12-10 09:00:00</th>\n",
       "      <td>48366.37</td>\n",
       "      <td>48495.00</td>\n",
       "      <td>47869.80</td>\n",
       "      <td>48090.35</td>\n",
       "      <td>1232.30</td>\n",
       "    </tr>\n",
       "  </tbody>\n",
       "</table>\n",
       "</div>"
      ],
      "text/plain": [
       "                     Close Price  High Price  Low Price  Open Price   Volume\n",
       "Date                                                                        \n",
       "2021-12-10 05:00:00     48246.57    48359.35   48051.08    48170.66   827.40\n",
       "2021-12-10 06:00:00     47847.59    48430.00   47810.81    48249.78  1296.19\n",
       "2021-12-10 07:00:00     47694.62    48037.48   47550.00    47847.59  2299.85\n",
       "2021-12-10 08:00:00     48090.35    48169.06   47587.39    47694.62  1371.25\n",
       "2021-12-10 09:00:00     48366.37    48495.00   47869.80    48090.35  1232.30"
      ]
     },
     "execution_count": 66,
     "metadata": {},
     "output_type": "execute_result"
    }
   ],
   "source": [
    "import pandas as pd\n",
    "\n",
    "df = pd.read_csv('../data/time_data.csv', parse_dates=['Date'], \n",
    "                 date_format='%Y-%m-%d %H%p')\n",
    "df.set_index('Date',inplace=True)\n",
    "df.head(5)"
   ]
  },
  {
   "cell_type": "code",
   "execution_count": 67,
   "id": "7a57e752",
   "metadata": {
    "scrolled": true
   },
   "outputs": [
    {
     "data": {
      "text/html": [
       "<div>\n",
       "<style scoped>\n",
       "    .dataframe tbody tr th:only-of-type {\n",
       "        vertical-align: middle;\n",
       "    }\n",
       "\n",
       "    .dataframe tbody tr th {\n",
       "        vertical-align: top;\n",
       "    }\n",
       "\n",
       "    .dataframe thead th {\n",
       "        text-align: right;\n",
       "    }\n",
       "</style>\n",
       "<table border=\"1\" class=\"dataframe\">\n",
       "  <thead>\n",
       "    <tr style=\"text-align: right;\">\n",
       "      <th></th>\n",
       "      <th>Close Price</th>\n",
       "      <th>High Price</th>\n",
       "      <th>Low Price</th>\n",
       "      <th>Open Price</th>\n",
       "      <th>Volume</th>\n",
       "    </tr>\n",
       "    <tr>\n",
       "      <th>Date</th>\n",
       "      <th></th>\n",
       "      <th></th>\n",
       "      <th></th>\n",
       "      <th></th>\n",
       "      <th></th>\n",
       "    </tr>\n",
       "  </thead>\n",
       "  <tbody>\n",
       "    <tr>\n",
       "      <th>2021-12-10 07:00:00</th>\n",
       "      <td>47694.62</td>\n",
       "      <td>48037.48</td>\n",
       "      <td>47550.00</td>\n",
       "      <td>47847.59</td>\n",
       "      <td>2299.85</td>\n",
       "    </tr>\n",
       "    <tr>\n",
       "      <th>2021-12-11 07:00:00</th>\n",
       "      <td>48021.76</td>\n",
       "      <td>48165.18</td>\n",
       "      <td>47765.33</td>\n",
       "      <td>48040.50</td>\n",
       "      <td>1944.77</td>\n",
       "    </tr>\n",
       "    <tr>\n",
       "      <th>2021-12-12 07:00:00</th>\n",
       "      <td>49301.21</td>\n",
       "      <td>49359.86</td>\n",
       "      <td>49082.30</td>\n",
       "      <td>49159.82</td>\n",
       "      <td>509.33</td>\n",
       "    </tr>\n",
       "    <tr>\n",
       "      <th>2021-12-13 07:00:00</th>\n",
       "      <td>48740.01</td>\n",
       "      <td>48995.94</td>\n",
       "      <td>48554.77</td>\n",
       "      <td>48936.88</td>\n",
       "      <td>1284.62</td>\n",
       "    </tr>\n",
       "    <tr>\n",
       "      <th>2021-12-14 07:00:00</th>\n",
       "      <td>47000.00</td>\n",
       "      <td>47050.00</td>\n",
       "      <td>46506.38</td>\n",
       "      <td>46670.32</td>\n",
       "      <td>1246.92</td>\n",
       "    </tr>\n",
       "  </tbody>\n",
       "</table>\n",
       "</div>"
      ],
      "text/plain": [
       "                     Close Price  High Price  Low Price  Open Price   Volume\n",
       "Date                                                                        \n",
       "2021-12-10 07:00:00     47694.62    48037.48   47550.00    47847.59  2299.85\n",
       "2021-12-11 07:00:00     48021.76    48165.18   47765.33    48040.50  1944.77\n",
       "2021-12-12 07:00:00     49301.21    49359.86   49082.30    49159.82   509.33\n",
       "2021-12-13 07:00:00     48740.01    48995.94   48554.77    48936.88  1284.62\n",
       "2021-12-14 07:00:00     47000.00    47050.00   46506.38    46670.32  1246.92"
      ]
     },
     "execution_count": 67,
     "metadata": {},
     "output_type": "execute_result"
    }
   ],
   "source": [
    "df.at_time('07:00').head()"
   ]
  },
  {
   "cell_type": "code",
   "execution_count": 68,
   "id": "37446e7d",
   "metadata": {
    "scrolled": true
   },
   "outputs": [
    {
     "data": {
      "text/html": [
       "<div>\n",
       "<style scoped>\n",
       "    .dataframe tbody tr th:only-of-type {\n",
       "        vertical-align: middle;\n",
       "    }\n",
       "\n",
       "    .dataframe tbody tr th {\n",
       "        vertical-align: top;\n",
       "    }\n",
       "\n",
       "    .dataframe thead th {\n",
       "        text-align: right;\n",
       "    }\n",
       "</style>\n",
       "<table border=\"1\" class=\"dataframe\">\n",
       "  <thead>\n",
       "    <tr style=\"text-align: right;\">\n",
       "      <th></th>\n",
       "      <th>Close Price</th>\n",
       "      <th>High Price</th>\n",
       "      <th>Low Price</th>\n",
       "      <th>Open Price</th>\n",
       "      <th>Volume</th>\n",
       "    </tr>\n",
       "    <tr>\n",
       "      <th>Date</th>\n",
       "      <th></th>\n",
       "      <th></th>\n",
       "      <th></th>\n",
       "      <th></th>\n",
       "      <th></th>\n",
       "    </tr>\n",
       "  </thead>\n",
       "  <tbody>\n",
       "  </tbody>\n",
       "</table>\n",
       "</div>"
      ],
      "text/plain": [
       "Empty DataFrame\n",
       "Columns: [Close Price, High Price, Low Price, Open Price, Volume]\n",
       "Index: []"
      ]
     },
     "execution_count": 68,
     "metadata": {},
     "output_type": "execute_result"
    }
   ],
   "source": [
    "df.at_time('07:01').head()"
   ]
  },
  {
   "cell_type": "code",
   "execution_count": 69,
   "id": "a538b7ff",
   "metadata": {
    "scrolled": false
   },
   "outputs": [
    {
     "data": {
      "text/html": [
       "<div>\n",
       "<style scoped>\n",
       "    .dataframe tbody tr th:only-of-type {\n",
       "        vertical-align: middle;\n",
       "    }\n",
       "\n",
       "    .dataframe tbody tr th {\n",
       "        vertical-align: top;\n",
       "    }\n",
       "\n",
       "    .dataframe thead th {\n",
       "        text-align: right;\n",
       "    }\n",
       "</style>\n",
       "<table border=\"1\" class=\"dataframe\">\n",
       "  <thead>\n",
       "    <tr style=\"text-align: right;\">\n",
       "      <th></th>\n",
       "      <th>Close Price</th>\n",
       "      <th>High Price</th>\n",
       "      <th>Low Price</th>\n",
       "      <th>Open Price</th>\n",
       "      <th>Volume</th>\n",
       "    </tr>\n",
       "    <tr>\n",
       "      <th>Date</th>\n",
       "      <th></th>\n",
       "      <th></th>\n",
       "      <th></th>\n",
       "      <th></th>\n",
       "      <th></th>\n",
       "    </tr>\n",
       "  </thead>\n",
       "  <tbody>\n",
       "    <tr>\n",
       "      <th>2021-12-10 07:00:00</th>\n",
       "      <td>47694.62</td>\n",
       "      <td>48037.48</td>\n",
       "      <td>47550.00</td>\n",
       "      <td>47847.59</td>\n",
       "      <td>2299.85</td>\n",
       "    </tr>\n",
       "    <tr>\n",
       "      <th>2021-12-10 08:00:00</th>\n",
       "      <td>48090.35</td>\n",
       "      <td>48169.06</td>\n",
       "      <td>47587.39</td>\n",
       "      <td>47694.62</td>\n",
       "      <td>1371.25</td>\n",
       "    </tr>\n",
       "    <tr>\n",
       "      <th>2021-12-10 09:00:00</th>\n",
       "      <td>48366.37</td>\n",
       "      <td>48495.00</td>\n",
       "      <td>47869.80</td>\n",
       "      <td>48090.35</td>\n",
       "      <td>1232.30</td>\n",
       "    </tr>\n",
       "    <tr>\n",
       "      <th>2021-12-11 07:00:00</th>\n",
       "      <td>48021.76</td>\n",
       "      <td>48165.18</td>\n",
       "      <td>47765.33</td>\n",
       "      <td>48040.50</td>\n",
       "      <td>1944.77</td>\n",
       "    </tr>\n",
       "    <tr>\n",
       "      <th>2021-12-11 08:00:00</th>\n",
       "      <td>48391.51</td>\n",
       "      <td>48900.00</td>\n",
       "      <td>47843.10</td>\n",
       "      <td>48021.75</td>\n",
       "      <td>1994.81</td>\n",
       "    </tr>\n",
       "    <tr>\n",
       "      <th>2021-12-11 09:00:00</th>\n",
       "      <td>48529.70</td>\n",
       "      <td>48627.00</td>\n",
       "      <td>48120.09</td>\n",
       "      <td>48391.51</td>\n",
       "      <td>840.82</td>\n",
       "    </tr>\n",
       "    <tr>\n",
       "      <th>2021-12-12 07:00:00</th>\n",
       "      <td>49301.21</td>\n",
       "      <td>49359.86</td>\n",
       "      <td>49082.30</td>\n",
       "      <td>49159.82</td>\n",
       "      <td>509.33</td>\n",
       "    </tr>\n",
       "  </tbody>\n",
       "</table>\n",
       "</div>"
      ],
      "text/plain": [
       "                     Close Price  High Price  Low Price  Open Price   Volume\n",
       "Date                                                                        \n",
       "2021-12-10 07:00:00     47694.62    48037.48   47550.00    47847.59  2299.85\n",
       "2021-12-10 08:00:00     48090.35    48169.06   47587.39    47694.62  1371.25\n",
       "2021-12-10 09:00:00     48366.37    48495.00   47869.80    48090.35  1232.30\n",
       "2021-12-11 07:00:00     48021.76    48165.18   47765.33    48040.50  1944.77\n",
       "2021-12-11 08:00:00     48391.51    48900.00   47843.10    48021.75  1994.81\n",
       "2021-12-11 09:00:00     48529.70    48627.00   48120.09    48391.51   840.82\n",
       "2021-12-12 07:00:00     49301.21    49359.86   49082.30    49159.82   509.33"
      ]
     },
     "execution_count": 69,
     "metadata": {},
     "output_type": "execute_result"
    }
   ],
   "source": [
    "df.between_time('07:00','09:00').head(7)"
   ]
  },
  {
   "cell_type": "code",
   "execution_count": 70,
   "id": "00ec4112",
   "metadata": {
    "scrolled": false
   },
   "outputs": [
    {
     "data": {
      "text/html": [
       "<div>\n",
       "<style scoped>\n",
       "    .dataframe tbody tr th:only-of-type {\n",
       "        vertical-align: middle;\n",
       "    }\n",
       "\n",
       "    .dataframe tbody tr th {\n",
       "        vertical-align: top;\n",
       "    }\n",
       "\n",
       "    .dataframe thead th {\n",
       "        text-align: right;\n",
       "    }\n",
       "</style>\n",
       "<table border=\"1\" class=\"dataframe\">\n",
       "  <thead>\n",
       "    <tr style=\"text-align: right;\">\n",
       "      <th></th>\n",
       "      <th>Close Price</th>\n",
       "      <th>High Price</th>\n",
       "      <th>Low Price</th>\n",
       "      <th>Open Price</th>\n",
       "      <th>Volume</th>\n",
       "    </tr>\n",
       "    <tr>\n",
       "      <th>Date</th>\n",
       "      <th></th>\n",
       "      <th></th>\n",
       "      <th></th>\n",
       "      <th></th>\n",
       "      <th></th>\n",
       "    </tr>\n",
       "  </thead>\n",
       "  <tbody>\n",
       "    <tr>\n",
       "      <th>2021-12-10 08:00:00</th>\n",
       "      <td>48090.35</td>\n",
       "      <td>48169.06</td>\n",
       "      <td>47587.39</td>\n",
       "      <td>47694.62</td>\n",
       "      <td>1371.25</td>\n",
       "    </tr>\n",
       "    <tr>\n",
       "      <th>2021-12-10 09:00:00</th>\n",
       "      <td>48366.37</td>\n",
       "      <td>48495.00</td>\n",
       "      <td>47869.80</td>\n",
       "      <td>48090.35</td>\n",
       "      <td>1232.30</td>\n",
       "    </tr>\n",
       "    <tr>\n",
       "      <th>2021-12-11 08:00:00</th>\n",
       "      <td>48391.51</td>\n",
       "      <td>48900.00</td>\n",
       "      <td>47843.10</td>\n",
       "      <td>48021.75</td>\n",
       "      <td>1994.81</td>\n",
       "    </tr>\n",
       "    <tr>\n",
       "      <th>2021-12-11 09:00:00</th>\n",
       "      <td>48529.70</td>\n",
       "      <td>48627.00</td>\n",
       "      <td>48120.09</td>\n",
       "      <td>48391.51</td>\n",
       "      <td>840.82</td>\n",
       "    </tr>\n",
       "    <tr>\n",
       "      <th>2021-12-12 08:00:00</th>\n",
       "      <td>48965.02</td>\n",
       "      <td>49376.79</td>\n",
       "      <td>48943.37</td>\n",
       "      <td>49301.20</td>\n",
       "      <td>870.06</td>\n",
       "    </tr>\n",
       "    <tr>\n",
       "      <th>2021-12-12 09:00:00</th>\n",
       "      <td>48806.40</td>\n",
       "      <td>49150.00</td>\n",
       "      <td>48710.66</td>\n",
       "      <td>48965.01</td>\n",
       "      <td>944.37</td>\n",
       "    </tr>\n",
       "    <tr>\n",
       "      <th>2021-12-13 08:00:00</th>\n",
       "      <td>49015.00</td>\n",
       "      <td>49171.57</td>\n",
       "      <td>48145.00</td>\n",
       "      <td>48740.01</td>\n",
       "      <td>1996.57</td>\n",
       "    </tr>\n",
       "  </tbody>\n",
       "</table>\n",
       "</div>"
      ],
      "text/plain": [
       "                     Close Price  High Price  Low Price  Open Price   Volume\n",
       "Date                                                                        \n",
       "2021-12-10 08:00:00     48090.35    48169.06   47587.39    47694.62  1371.25\n",
       "2021-12-10 09:00:00     48366.37    48495.00   47869.80    48090.35  1232.30\n",
       "2021-12-11 08:00:00     48391.51    48900.00   47843.10    48021.75  1994.81\n",
       "2021-12-11 09:00:00     48529.70    48627.00   48120.09    48391.51   840.82\n",
       "2021-12-12 08:00:00     48965.02    49376.79   48943.37    49301.20   870.06\n",
       "2021-12-12 09:00:00     48806.40    49150.00   48710.66    48965.01   944.37\n",
       "2021-12-13 08:00:00     49015.00    49171.57   48145.00    48740.01  1996.57"
      ]
     },
     "execution_count": 70,
     "metadata": {},
     "output_type": "execute_result"
    }
   ],
   "source": [
    "df.between_time('07:01','09:00').head(7)"
   ]
  },
  {
   "cell_type": "markdown",
   "id": "54742874",
   "metadata": {},
   "source": [
    "# Group data by time intervals in Python Pandas\n"
   ]
  },
  {
   "cell_type": "markdown",
   "id": "5ecf86cf",
   "metadata": {},
   "source": [
    "## Resampling Time Series Data\n"
   ]
  },
  {
   "cell_type": "code",
   "execution_count": 71,
   "id": "43e782e0",
   "metadata": {
    "scrolled": true
   },
   "outputs": [
    {
     "data": {
      "text/html": [
       "<div>\n",
       "<style scoped>\n",
       "    .dataframe tbody tr th:only-of-type {\n",
       "        vertical-align: middle;\n",
       "    }\n",
       "\n",
       "    .dataframe tbody tr th {\n",
       "        vertical-align: top;\n",
       "    }\n",
       "\n",
       "    .dataframe thead th {\n",
       "        text-align: right;\n",
       "    }\n",
       "</style>\n",
       "<table border=\"1\" class=\"dataframe\">\n",
       "  <thead>\n",
       "    <tr style=\"text-align: right;\">\n",
       "      <th></th>\n",
       "      <th>Date</th>\n",
       "      <th>AveragePrice</th>\n",
       "      <th>Total Volume</th>\n",
       "      <th>4046</th>\n",
       "      <th>4225</th>\n",
       "      <th>4770</th>\n",
       "      <th>Total Bags</th>\n",
       "      <th>Small Bags</th>\n",
       "      <th>Large Bags</th>\n",
       "      <th>XLarge Bags</th>\n",
       "      <th>type</th>\n",
       "      <th>year</th>\n",
       "      <th>region</th>\n",
       "    </tr>\n",
       "  </thead>\n",
       "  <tbody>\n",
       "    <tr>\n",
       "      <th>0</th>\n",
       "      <td>2015-12-27</td>\n",
       "      <td>1.33</td>\n",
       "      <td>64236.62</td>\n",
       "      <td>1036.74</td>\n",
       "      <td>54454.85</td>\n",
       "      <td>48.16</td>\n",
       "      <td>8696.87</td>\n",
       "      <td>8603.62</td>\n",
       "      <td>93.25</td>\n",
       "      <td>0.0</td>\n",
       "      <td>conventional</td>\n",
       "      <td>2015</td>\n",
       "      <td>Albany</td>\n",
       "    </tr>\n",
       "  </tbody>\n",
       "</table>\n",
       "</div>"
      ],
      "text/plain": [
       "        Date  AveragePrice  Total Volume     4046      4225   4770  \\\n",
       "0 2015-12-27          1.33      64236.62  1036.74  54454.85  48.16   \n",
       "\n",
       "   Total Bags  Small Bags  Large Bags  XLarge Bags          type  year  region  \n",
       "0     8696.87     8603.62       93.25          0.0  conventional  2015  Albany  "
      ]
     },
     "execution_count": 71,
     "metadata": {},
     "output_type": "execute_result"
    }
   ],
   "source": [
    "import pandas as pd\n",
    "\n",
    "df = pd.read_csv('../data/avocado.csv', index_col=0, parse_dates=['Date'])\n",
    "df.head(1)"
   ]
  },
  {
   "cell_type": "code",
   "execution_count": 72,
   "id": "f1da12e7",
   "metadata": {
    "scrolled": true
   },
   "outputs": [
    {
     "data": {
      "text/html": [
       "<div>\n",
       "<style scoped>\n",
       "    .dataframe tbody tr th:only-of-type {\n",
       "        vertical-align: middle;\n",
       "    }\n",
       "\n",
       "    .dataframe tbody tr th {\n",
       "        vertical-align: top;\n",
       "    }\n",
       "\n",
       "    .dataframe thead th {\n",
       "        text-align: right;\n",
       "    }\n",
       "</style>\n",
       "<table border=\"1\" class=\"dataframe\">\n",
       "  <thead>\n",
       "    <tr style=\"text-align: right;\">\n",
       "      <th></th>\n",
       "      <th>AveragePrice</th>\n",
       "      <th>Total Volume</th>\n",
       "      <th>4046</th>\n",
       "      <th>4225</th>\n",
       "      <th>4770</th>\n",
       "      <th>Total Bags</th>\n",
       "      <th>Small Bags</th>\n",
       "      <th>Large Bags</th>\n",
       "      <th>XLarge Bags</th>\n",
       "      <th>type</th>\n",
       "      <th>year</th>\n",
       "      <th>region</th>\n",
       "    </tr>\n",
       "    <tr>\n",
       "      <th>Date</th>\n",
       "      <th></th>\n",
       "      <th></th>\n",
       "      <th></th>\n",
       "      <th></th>\n",
       "      <th></th>\n",
       "      <th></th>\n",
       "      <th></th>\n",
       "      <th></th>\n",
       "      <th></th>\n",
       "      <th></th>\n",
       "      <th></th>\n",
       "      <th></th>\n",
       "    </tr>\n",
       "  </thead>\n",
       "  <tbody>\n",
       "    <tr>\n",
       "      <th>2015-12-27</th>\n",
       "      <td>1.33</td>\n",
       "      <td>64236.62</td>\n",
       "      <td>1036.74</td>\n",
       "      <td>54454.85</td>\n",
       "      <td>48.16</td>\n",
       "      <td>8696.87</td>\n",
       "      <td>8603.62</td>\n",
       "      <td>93.25</td>\n",
       "      <td>0.0</td>\n",
       "      <td>conventional</td>\n",
       "      <td>2015</td>\n",
       "      <td>Albany</td>\n",
       "    </tr>\n",
       "    <tr>\n",
       "      <th>2015-12-20</th>\n",
       "      <td>1.35</td>\n",
       "      <td>54876.98</td>\n",
       "      <td>674.28</td>\n",
       "      <td>44638.81</td>\n",
       "      <td>58.33</td>\n",
       "      <td>9505.56</td>\n",
       "      <td>9408.07</td>\n",
       "      <td>97.49</td>\n",
       "      <td>0.0</td>\n",
       "      <td>conventional</td>\n",
       "      <td>2015</td>\n",
       "      <td>Albany</td>\n",
       "    </tr>\n",
       "    <tr>\n",
       "      <th>2015-12-13</th>\n",
       "      <td>0.93</td>\n",
       "      <td>118220.22</td>\n",
       "      <td>794.70</td>\n",
       "      <td>109149.67</td>\n",
       "      <td>130.50</td>\n",
       "      <td>8145.35</td>\n",
       "      <td>8042.21</td>\n",
       "      <td>103.14</td>\n",
       "      <td>0.0</td>\n",
       "      <td>conventional</td>\n",
       "      <td>2015</td>\n",
       "      <td>Albany</td>\n",
       "    </tr>\n",
       "    <tr>\n",
       "      <th>2015-12-06</th>\n",
       "      <td>1.08</td>\n",
       "      <td>78992.15</td>\n",
       "      <td>1132.00</td>\n",
       "      <td>71976.41</td>\n",
       "      <td>72.58</td>\n",
       "      <td>5811.16</td>\n",
       "      <td>5677.40</td>\n",
       "      <td>133.76</td>\n",
       "      <td>0.0</td>\n",
       "      <td>conventional</td>\n",
       "      <td>2015</td>\n",
       "      <td>Albany</td>\n",
       "    </tr>\n",
       "    <tr>\n",
       "      <th>2015-11-29</th>\n",
       "      <td>1.28</td>\n",
       "      <td>51039.60</td>\n",
       "      <td>941.48</td>\n",
       "      <td>43838.39</td>\n",
       "      <td>75.78</td>\n",
       "      <td>6183.95</td>\n",
       "      <td>5986.26</td>\n",
       "      <td>197.69</td>\n",
       "      <td>0.0</td>\n",
       "      <td>conventional</td>\n",
       "      <td>2015</td>\n",
       "      <td>Albany</td>\n",
       "    </tr>\n",
       "  </tbody>\n",
       "</table>\n",
       "</div>"
      ],
      "text/plain": [
       "            AveragePrice  Total Volume     4046       4225    4770  \\\n",
       "Date                                                                 \n",
       "2015-12-27          1.33      64236.62  1036.74   54454.85   48.16   \n",
       "2015-12-20          1.35      54876.98   674.28   44638.81   58.33   \n",
       "2015-12-13          0.93     118220.22   794.70  109149.67  130.50   \n",
       "2015-12-06          1.08      78992.15  1132.00   71976.41   72.58   \n",
       "2015-11-29          1.28      51039.60   941.48   43838.39   75.78   \n",
       "\n",
       "            Total Bags  Small Bags  Large Bags  XLarge Bags          type  \\\n",
       "Date                                                                        \n",
       "2015-12-27     8696.87     8603.62       93.25          0.0  conventional   \n",
       "2015-12-20     9505.56     9408.07       97.49          0.0  conventional   \n",
       "2015-12-13     8145.35     8042.21      103.14          0.0  conventional   \n",
       "2015-12-06     5811.16     5677.40      133.76          0.0  conventional   \n",
       "2015-11-29     6183.95     5986.26      197.69          0.0  conventional   \n",
       "\n",
       "            year  region  \n",
       "Date                      \n",
       "2015-12-27  2015  Albany  \n",
       "2015-12-20  2015  Albany  \n",
       "2015-12-13  2015  Albany  \n",
       "2015-12-06  2015  Albany  \n",
       "2015-11-29  2015  Albany  "
      ]
     },
     "execution_count": 72,
     "metadata": {},
     "output_type": "execute_result"
    }
   ],
   "source": [
    "df = df.set_index('Date')\n",
    "df.head()"
   ]
  },
  {
   "cell_type": "code",
   "execution_count": 73,
   "id": "06c4d751",
   "metadata": {},
   "outputs": [],
   "source": [
    "df.drop(columns=['AveragePrice','4046','4225','4770','type','year','region'], inplace=True) #Just drop some columns "
   ]
  },
  {
   "cell_type": "code",
   "execution_count": 74,
   "id": "59dfa40e",
   "metadata": {},
   "outputs": [
    {
     "data": {
      "text/html": [
       "<div>\n",
       "<style scoped>\n",
       "    .dataframe tbody tr th:only-of-type {\n",
       "        vertical-align: middle;\n",
       "    }\n",
       "\n",
       "    .dataframe tbody tr th {\n",
       "        vertical-align: top;\n",
       "    }\n",
       "\n",
       "    .dataframe thead th {\n",
       "        text-align: right;\n",
       "    }\n",
       "</style>\n",
       "<table border=\"1\" class=\"dataframe\">\n",
       "  <thead>\n",
       "    <tr style=\"text-align: right;\">\n",
       "      <th></th>\n",
       "      <th>Total Volume</th>\n",
       "      <th>Total Bags</th>\n",
       "      <th>Small Bags</th>\n",
       "      <th>Large Bags</th>\n",
       "      <th>XLarge Bags</th>\n",
       "    </tr>\n",
       "    <tr>\n",
       "      <th>Date</th>\n",
       "      <th></th>\n",
       "      <th></th>\n",
       "      <th></th>\n",
       "      <th></th>\n",
       "      <th></th>\n",
       "    </tr>\n",
       "  </thead>\n",
       "  <tbody>\n",
       "    <tr>\n",
       "      <th>2015-12-27</th>\n",
       "      <td>64236.62</td>\n",
       "      <td>8696.87</td>\n",
       "      <td>8603.62</td>\n",
       "      <td>93.25</td>\n",
       "      <td>0.0</td>\n",
       "    </tr>\n",
       "    <tr>\n",
       "      <th>2015-12-20</th>\n",
       "      <td>54876.98</td>\n",
       "      <td>9505.56</td>\n",
       "      <td>9408.07</td>\n",
       "      <td>97.49</td>\n",
       "      <td>0.0</td>\n",
       "    </tr>\n",
       "    <tr>\n",
       "      <th>2015-12-13</th>\n",
       "      <td>118220.22</td>\n",
       "      <td>8145.35</td>\n",
       "      <td>8042.21</td>\n",
       "      <td>103.14</td>\n",
       "      <td>0.0</td>\n",
       "    </tr>\n",
       "    <tr>\n",
       "      <th>2015-12-06</th>\n",
       "      <td>78992.15</td>\n",
       "      <td>5811.16</td>\n",
       "      <td>5677.40</td>\n",
       "      <td>133.76</td>\n",
       "      <td>0.0</td>\n",
       "    </tr>\n",
       "    <tr>\n",
       "      <th>2015-11-29</th>\n",
       "      <td>51039.60</td>\n",
       "      <td>6183.95</td>\n",
       "      <td>5986.26</td>\n",
       "      <td>197.69</td>\n",
       "      <td>0.0</td>\n",
       "    </tr>\n",
       "  </tbody>\n",
       "</table>\n",
       "</div>"
      ],
      "text/plain": [
       "            Total Volume  Total Bags  Small Bags  Large Bags  XLarge Bags\n",
       "Date                                                                     \n",
       "2015-12-27      64236.62     8696.87     8603.62       93.25          0.0\n",
       "2015-12-20      54876.98     9505.56     9408.07       97.49          0.0\n",
       "2015-12-13     118220.22     8145.35     8042.21      103.14          0.0\n",
       "2015-12-06      78992.15     5811.16     5677.40      133.76          0.0\n",
       "2015-11-29      51039.60     6183.95     5986.26      197.69          0.0"
      ]
     },
     "execution_count": 74,
     "metadata": {},
     "output_type": "execute_result"
    }
   ],
   "source": [
    "df.head()"
   ]
  },
  {
   "cell_type": "code",
   "execution_count": 75,
   "id": "b8e1dbc7",
   "metadata": {},
   "outputs": [
    {
     "data": {
      "text/html": [
       "<div>\n",
       "<style scoped>\n",
       "    .dataframe tbody tr th:only-of-type {\n",
       "        vertical-align: middle;\n",
       "    }\n",
       "\n",
       "    .dataframe tbody tr th {\n",
       "        vertical-align: top;\n",
       "    }\n",
       "\n",
       "    .dataframe thead th {\n",
       "        text-align: right;\n",
       "    }\n",
       "</style>\n",
       "<table border=\"1\" class=\"dataframe\">\n",
       "  <thead>\n",
       "    <tr style=\"text-align: right;\">\n",
       "      <th></th>\n",
       "      <th>Total Volume</th>\n",
       "      <th>Total Bags</th>\n",
       "      <th>Small Bags</th>\n",
       "      <th>Large Bags</th>\n",
       "      <th>XLarge Bags</th>\n",
       "    </tr>\n",
       "    <tr>\n",
       "      <th>Date</th>\n",
       "      <th></th>\n",
       "      <th></th>\n",
       "      <th></th>\n",
       "      <th></th>\n",
       "      <th></th>\n",
       "    </tr>\n",
       "  </thead>\n",
       "  <tbody>\n",
       "    <tr>\n",
       "      <th>2015-01-31</th>\n",
       "      <td>736308.36</td>\n",
       "      <td>117337.26</td>\n",
       "      <td>96502.58</td>\n",
       "      <td>20513.63</td>\n",
       "      <td>321.05</td>\n",
       "    </tr>\n",
       "    <tr>\n",
       "      <th>2015-02-28</th>\n",
       "      <td>839438.89</td>\n",
       "      <td>126555.65</td>\n",
       "      <td>106004.82</td>\n",
       "      <td>20017.51</td>\n",
       "      <td>533.32</td>\n",
       "    </tr>\n",
       "    <tr>\n",
       "      <th>2015-03-31</th>\n",
       "      <td>775153.83</td>\n",
       "      <td>127622.40</td>\n",
       "      <td>109589.48</td>\n",
       "      <td>17325.54</td>\n",
       "      <td>707.38</td>\n",
       "    </tr>\n",
       "    <tr>\n",
       "      <th>2015-04-30</th>\n",
       "      <td>796630.54</td>\n",
       "      <td>134856.55</td>\n",
       "      <td>114351.52</td>\n",
       "      <td>19976.72</td>\n",
       "      <td>528.32</td>\n",
       "    </tr>\n",
       "    <tr>\n",
       "      <th>2015-05-31</th>\n",
       "      <td>895896.38</td>\n",
       "      <td>146426.59</td>\n",
       "      <td>123510.64</td>\n",
       "      <td>22365.19</td>\n",
       "      <td>550.77</td>\n",
       "    </tr>\n",
       "  </tbody>\n",
       "</table>\n",
       "</div>"
      ],
      "text/plain": [
       "            Total Volume  Total Bags  Small Bags  Large Bags  XLarge Bags\n",
       "Date                                                                     \n",
       "2015-01-31     736308.36   117337.26    96502.58    20513.63       321.05\n",
       "2015-02-28     839438.89   126555.65   106004.82    20017.51       533.32\n",
       "2015-03-31     775153.83   127622.40   109589.48    17325.54       707.38\n",
       "2015-04-30     796630.54   134856.55   114351.52    19976.72       528.32\n",
       "2015-05-31     895896.38   146426.59   123510.64    22365.19       550.77"
      ]
     },
     "execution_count": 75,
     "metadata": {},
     "output_type": "execute_result"
    }
   ],
   "source": [
    "df1 = df.resample('M').mean()\n",
    "df1.head()"
   ]
  },
  {
   "cell_type": "code",
   "execution_count": 76,
   "id": "8d4f0e85",
   "metadata": {},
   "outputs": [
    {
     "data": {
      "text/html": [
       "<div>\n",
       "<style scoped>\n",
       "    .dataframe tbody tr th:only-of-type {\n",
       "        vertical-align: middle;\n",
       "    }\n",
       "\n",
       "    .dataframe tbody tr th {\n",
       "        vertical-align: top;\n",
       "    }\n",
       "\n",
       "    .dataframe thead th {\n",
       "        text-align: right;\n",
       "    }\n",
       "</style>\n",
       "<table border=\"1\" class=\"dataframe\">\n",
       "  <thead>\n",
       "    <tr style=\"text-align: right;\">\n",
       "      <th></th>\n",
       "      <th>Total Volume</th>\n",
       "      <th>Total Bags</th>\n",
       "      <th>Small Bags</th>\n",
       "      <th>Large Bags</th>\n",
       "      <th>XLarge Bags</th>\n",
       "    </tr>\n",
       "    <tr>\n",
       "      <th>Date</th>\n",
       "      <th></th>\n",
       "      <th></th>\n",
       "      <th></th>\n",
       "      <th></th>\n",
       "      <th></th>\n",
       "    </tr>\n",
       "  </thead>\n",
       "  <tbody>\n",
       "    <tr>\n",
       "      <th>2015-12-31</th>\n",
       "      <td>7.81e+05</td>\n",
       "      <td>137523.11</td>\n",
       "      <td>113033.43</td>\n",
       "      <td>23520.29</td>\n",
       "      <td>969.39</td>\n",
       "    </tr>\n",
       "    <tr>\n",
       "      <th>2016-12-31</th>\n",
       "      <td>8.58e+05</td>\n",
       "      <td>260533.99</td>\n",
       "      <td>197025.33</td>\n",
       "      <td>59940.59</td>\n",
       "      <td>3568.07</td>\n",
       "    </tr>\n",
       "    <tr>\n",
       "      <th>2017-12-31</th>\n",
       "      <td>8.62e+05</td>\n",
       "      <td>287712.12</td>\n",
       "      <td>213728.16</td>\n",
       "      <td>69790.12</td>\n",
       "      <td>4193.84</td>\n",
       "    </tr>\n",
       "    <tr>\n",
       "      <th>2018-12-31</th>\n",
       "      <td>1.07e+06</td>\n",
       "      <td>379271.56</td>\n",
       "      <td>278349.82</td>\n",
       "      <td>95358.02</td>\n",
       "      <td>5563.73</td>\n",
       "    </tr>\n",
       "  </tbody>\n",
       "</table>\n",
       "</div>"
      ],
      "text/plain": [
       "            Total Volume  Total Bags  Small Bags  Large Bags  XLarge Bags\n",
       "Date                                                                     \n",
       "2015-12-31      7.81e+05   137523.11   113033.43    23520.29       969.39\n",
       "2016-12-31      8.58e+05   260533.99   197025.33    59940.59      3568.07\n",
       "2017-12-31      8.62e+05   287712.12   213728.16    69790.12      4193.84\n",
       "2018-12-31      1.07e+06   379271.56   278349.82    95358.02      5563.73"
      ]
     },
     "execution_count": 76,
     "metadata": {},
     "output_type": "execute_result"
    }
   ],
   "source": [
    "df1 = df.resample('Y').mean()\n",
    "df1.head()"
   ]
  },
  {
   "cell_type": "markdown",
   "id": "45862e12",
   "metadata": {},
   "source": [
    "### Resampling Pandas Timeseries with Different Methods\n"
   ]
  },
  {
   "cell_type": "code",
   "execution_count": 77,
   "id": "a9b2a66c",
   "metadata": {},
   "outputs": [
    {
     "data": {
      "text/html": [
       "<div>\n",
       "<style scoped>\n",
       "    .dataframe tbody tr th:only-of-type {\n",
       "        vertical-align: middle;\n",
       "    }\n",
       "\n",
       "    .dataframe tbody tr th {\n",
       "        vertical-align: top;\n",
       "    }\n",
       "\n",
       "    .dataframe thead tr th {\n",
       "        text-align: left;\n",
       "    }\n",
       "\n",
       "    .dataframe thead tr:last-of-type th {\n",
       "        text-align: right;\n",
       "    }\n",
       "</style>\n",
       "<table border=\"1\" class=\"dataframe\">\n",
       "  <thead>\n",
       "    <tr>\n",
       "      <th></th>\n",
       "      <th colspan=\"2\" halign=\"left\">Total Volume</th>\n",
       "      <th colspan=\"2\" halign=\"left\">Total Bags</th>\n",
       "    </tr>\n",
       "    <tr>\n",
       "      <th></th>\n",
       "      <th>mean</th>\n",
       "      <th>sum</th>\n",
       "      <th>mean</th>\n",
       "      <th>sum</th>\n",
       "    </tr>\n",
       "    <tr>\n",
       "      <th>Date</th>\n",
       "      <th></th>\n",
       "      <th></th>\n",
       "      <th></th>\n",
       "      <th></th>\n",
       "    </tr>\n",
       "  </thead>\n",
       "  <tbody>\n",
       "    <tr>\n",
       "      <th>2015-12-31</th>\n",
       "      <td>7.81e+05</td>\n",
       "      <td>4.39e+09</td>\n",
       "      <td>137523.11</td>\n",
       "      <td>7.72e+08</td>\n",
       "    </tr>\n",
       "    <tr>\n",
       "      <th>2016-12-31</th>\n",
       "      <td>8.58e+05</td>\n",
       "      <td>4.82e+09</td>\n",
       "      <td>260533.99</td>\n",
       "      <td>1.46e+09</td>\n",
       "    </tr>\n",
       "    <tr>\n",
       "      <th>2017-12-31</th>\n",
       "      <td>8.62e+05</td>\n",
       "      <td>4.93e+09</td>\n",
       "      <td>287712.12</td>\n",
       "      <td>1.65e+09</td>\n",
       "    </tr>\n",
       "    <tr>\n",
       "      <th>2018-12-31</th>\n",
       "      <td>1.07e+06</td>\n",
       "      <td>1.38e+09</td>\n",
       "      <td>379271.56</td>\n",
       "      <td>4.92e+08</td>\n",
       "    </tr>\n",
       "  </tbody>\n",
       "</table>\n",
       "</div>"
      ],
      "text/plain": [
       "           Total Volume           Total Bags          \n",
       "                   mean       sum       mean       sum\n",
       "Date                                                  \n",
       "2015-12-31     7.81e+05  4.39e+09  137523.11  7.72e+08\n",
       "2016-12-31     8.58e+05  4.82e+09  260533.99  1.46e+09\n",
       "2017-12-31     8.62e+05  4.93e+09  287712.12  1.65e+09\n",
       "2018-12-31     1.07e+06  1.38e+09  379271.56  4.92e+08"
      ]
     },
     "execution_count": 77,
     "metadata": {},
     "output_type": "execute_result"
    }
   ],
   "source": [
    "df2 = df.resample('Y').agg({\n",
    "    'Total Volume': ['mean','sum'],\n",
    "    'Total Bags': ['mean','sum'] \n",
    "    })\n",
    "\n",
    "df2.head()"
   ]
  },
  {
   "cell_type": "markdown",
   "id": "d7a28f0c",
   "metadata": {},
   "source": [
    "## Grouper Time Series Data\n",
    "\n"
   ]
  },
  {
   "cell_type": "code",
   "execution_count": 78,
   "id": "70c5c496",
   "metadata": {},
   "outputs": [],
   "source": [
    "df.reset_index(inplace=True)"
   ]
  },
  {
   "cell_type": "code",
   "execution_count": 79,
   "id": "4457cd17",
   "metadata": {},
   "outputs": [
    {
     "data": {
      "text/html": [
       "<div>\n",
       "<style scoped>\n",
       "    .dataframe tbody tr th:only-of-type {\n",
       "        vertical-align: middle;\n",
       "    }\n",
       "\n",
       "    .dataframe tbody tr th {\n",
       "        vertical-align: top;\n",
       "    }\n",
       "\n",
       "    .dataframe thead th {\n",
       "        text-align: right;\n",
       "    }\n",
       "</style>\n",
       "<table border=\"1\" class=\"dataframe\">\n",
       "  <thead>\n",
       "    <tr style=\"text-align: right;\">\n",
       "      <th></th>\n",
       "      <th>Date</th>\n",
       "      <th>Total Volume</th>\n",
       "      <th>Total Bags</th>\n",
       "      <th>Small Bags</th>\n",
       "      <th>Large Bags</th>\n",
       "      <th>XLarge Bags</th>\n",
       "    </tr>\n",
       "  </thead>\n",
       "  <tbody>\n",
       "    <tr>\n",
       "      <th>0</th>\n",
       "      <td>2015-12-27</td>\n",
       "      <td>64236.62</td>\n",
       "      <td>8696.87</td>\n",
       "      <td>8603.62</td>\n",
       "      <td>93.25</td>\n",
       "      <td>0.0</td>\n",
       "    </tr>\n",
       "    <tr>\n",
       "      <th>1</th>\n",
       "      <td>2015-12-20</td>\n",
       "      <td>54876.98</td>\n",
       "      <td>9505.56</td>\n",
       "      <td>9408.07</td>\n",
       "      <td>97.49</td>\n",
       "      <td>0.0</td>\n",
       "    </tr>\n",
       "    <tr>\n",
       "      <th>2</th>\n",
       "      <td>2015-12-13</td>\n",
       "      <td>118220.22</td>\n",
       "      <td>8145.35</td>\n",
       "      <td>8042.21</td>\n",
       "      <td>103.14</td>\n",
       "      <td>0.0</td>\n",
       "    </tr>\n",
       "    <tr>\n",
       "      <th>3</th>\n",
       "      <td>2015-12-06</td>\n",
       "      <td>78992.15</td>\n",
       "      <td>5811.16</td>\n",
       "      <td>5677.40</td>\n",
       "      <td>133.76</td>\n",
       "      <td>0.0</td>\n",
       "    </tr>\n",
       "    <tr>\n",
       "      <th>4</th>\n",
       "      <td>2015-11-29</td>\n",
       "      <td>51039.60</td>\n",
       "      <td>6183.95</td>\n",
       "      <td>5986.26</td>\n",
       "      <td>197.69</td>\n",
       "      <td>0.0</td>\n",
       "    </tr>\n",
       "  </tbody>\n",
       "</table>\n",
       "</div>"
      ],
      "text/plain": [
       "        Date  Total Volume  Total Bags  Small Bags  Large Bags  XLarge Bags\n",
       "0 2015-12-27      64236.62     8696.87     8603.62       93.25          0.0\n",
       "1 2015-12-20      54876.98     9505.56     9408.07       97.49          0.0\n",
       "2 2015-12-13     118220.22     8145.35     8042.21      103.14          0.0\n",
       "3 2015-12-06      78992.15     5811.16     5677.40      133.76          0.0\n",
       "4 2015-11-29      51039.60     6183.95     5986.26      197.69          0.0"
      ]
     },
     "execution_count": 79,
     "metadata": {},
     "output_type": "execute_result"
    }
   ],
   "source": [
    "df.head()"
   ]
  },
  {
   "cell_type": "code",
   "execution_count": 80,
   "id": "bbd8c6be",
   "metadata": {
    "scrolled": true
   },
   "outputs": [],
   "source": [
    "tt = df.groupby(pd.Grouper(key='Date', axis=0, freq='Y')).agg(\n",
    "                                        Total_volume=('Total Volume','sum'), \n",
    "                                        Total_bags=('Total Bags','sum'))"
   ]
  },
  {
   "cell_type": "code",
   "execution_count": 81,
   "id": "e6c55356",
   "metadata": {},
   "outputs": [
    {
     "data": {
      "text/html": [
       "<div>\n",
       "<style scoped>\n",
       "    .dataframe tbody tr th:only-of-type {\n",
       "        vertical-align: middle;\n",
       "    }\n",
       "\n",
       "    .dataframe tbody tr th {\n",
       "        vertical-align: top;\n",
       "    }\n",
       "\n",
       "    .dataframe thead th {\n",
       "        text-align: right;\n",
       "    }\n",
       "</style>\n",
       "<table border=\"1\" class=\"dataframe\">\n",
       "  <thead>\n",
       "    <tr style=\"text-align: right;\">\n",
       "      <th></th>\n",
       "      <th>Total_volume</th>\n",
       "      <th>Total_bags</th>\n",
       "    </tr>\n",
       "    <tr>\n",
       "      <th>Date</th>\n",
       "      <th></th>\n",
       "      <th></th>\n",
       "    </tr>\n",
       "  </thead>\n",
       "  <tbody>\n",
       "    <tr>\n",
       "      <th>2015-12-31</th>\n",
       "      <td>4.39e+09</td>\n",
       "      <td>7.72e+08</td>\n",
       "    </tr>\n",
       "    <tr>\n",
       "      <th>2016-12-31</th>\n",
       "      <td>4.82e+09</td>\n",
       "      <td>1.46e+09</td>\n",
       "    </tr>\n",
       "    <tr>\n",
       "      <th>2017-12-31</th>\n",
       "      <td>4.93e+09</td>\n",
       "      <td>1.65e+09</td>\n",
       "    </tr>\n",
       "    <tr>\n",
       "      <th>2018-12-31</th>\n",
       "      <td>1.38e+09</td>\n",
       "      <td>4.92e+08</td>\n",
       "    </tr>\n",
       "  </tbody>\n",
       "</table>\n",
       "</div>"
      ],
      "text/plain": [
       "            Total_volume  Total_bags\n",
       "Date                                \n",
       "2015-12-31      4.39e+09    7.72e+08\n",
       "2016-12-31      4.82e+09    1.46e+09\n",
       "2017-12-31      4.93e+09    1.65e+09\n",
       "2018-12-31      1.38e+09    4.92e+08"
      ]
     },
     "execution_count": 81,
     "metadata": {},
     "output_type": "execute_result"
    }
   ],
   "source": [
    "tt"
   ]
  },
  {
   "cell_type": "code",
   "execution_count": 82,
   "id": "d25dbda9",
   "metadata": {
    "scrolled": true
   },
   "outputs": [
    {
     "data": {
      "text/html": [
       "<div>\n",
       "<style scoped>\n",
       "    .dataframe tbody tr th:only-of-type {\n",
       "        vertical-align: middle;\n",
       "    }\n",
       "\n",
       "    .dataframe tbody tr th {\n",
       "        vertical-align: top;\n",
       "    }\n",
       "\n",
       "    .dataframe thead th {\n",
       "        text-align: right;\n",
       "    }\n",
       "</style>\n",
       "<table border=\"1\" class=\"dataframe\">\n",
       "  <thead>\n",
       "    <tr style=\"text-align: right;\">\n",
       "      <th></th>\n",
       "      <th>Date</th>\n",
       "      <th>AveragePrice</th>\n",
       "      <th>Total Volume</th>\n",
       "      <th>4046</th>\n",
       "      <th>4225</th>\n",
       "      <th>4770</th>\n",
       "      <th>Total Bags</th>\n",
       "      <th>Small Bags</th>\n",
       "      <th>Large Bags</th>\n",
       "      <th>XLarge Bags</th>\n",
       "      <th>type</th>\n",
       "      <th>year</th>\n",
       "      <th>region</th>\n",
       "    </tr>\n",
       "  </thead>\n",
       "  <tbody>\n",
       "    <tr>\n",
       "      <th>0</th>\n",
       "      <td>2015-12-27</td>\n",
       "      <td>1.33</td>\n",
       "      <td>64236.62</td>\n",
       "      <td>1036.74</td>\n",
       "      <td>54454.85</td>\n",
       "      <td>48.16</td>\n",
       "      <td>8696.87</td>\n",
       "      <td>8603.62</td>\n",
       "      <td>93.25</td>\n",
       "      <td>0.0</td>\n",
       "      <td>conventional</td>\n",
       "      <td>2015</td>\n",
       "      <td>Albany</td>\n",
       "    </tr>\n",
       "  </tbody>\n",
       "</table>\n",
       "</div>"
      ],
      "text/plain": [
       "        Date  AveragePrice  Total Volume     4046      4225   4770  \\\n",
       "0 2015-12-27          1.33      64236.62  1036.74  54454.85  48.16   \n",
       "\n",
       "   Total Bags  Small Bags  Large Bags  XLarge Bags          type  year  region  \n",
       "0     8696.87     8603.62       93.25          0.0  conventional  2015  Albany  "
      ]
     },
     "execution_count": 82,
     "metadata": {},
     "output_type": "execute_result"
    }
   ],
   "source": [
    "import pandas as pd\n",
    "\n",
    "df = pd.read_csv('../data/avocado.csv', index_col=0, parse_dates=['Date'])\n",
    "df.head(1)"
   ]
  },
  {
   "cell_type": "code",
   "execution_count": 83,
   "id": "13d3e3b2",
   "metadata": {},
   "outputs": [],
   "source": [
    "df.drop(columns=['AveragePrice','4046','4225','4770'], inplace=True) #Just drop some columns "
   ]
  },
  {
   "cell_type": "code",
   "execution_count": 84,
   "id": "6e9dafdf",
   "metadata": {},
   "outputs": [
    {
     "data": {
      "text/html": [
       "<div>\n",
       "<style scoped>\n",
       "    .dataframe tbody tr th:only-of-type {\n",
       "        vertical-align: middle;\n",
       "    }\n",
       "\n",
       "    .dataframe tbody tr th {\n",
       "        vertical-align: top;\n",
       "    }\n",
       "\n",
       "    .dataframe thead th {\n",
       "        text-align: right;\n",
       "    }\n",
       "</style>\n",
       "<table border=\"1\" class=\"dataframe\">\n",
       "  <thead>\n",
       "    <tr style=\"text-align: right;\">\n",
       "      <th></th>\n",
       "      <th>Date</th>\n",
       "      <th>Total Volume</th>\n",
       "      <th>Total Bags</th>\n",
       "      <th>Small Bags</th>\n",
       "      <th>Large Bags</th>\n",
       "      <th>XLarge Bags</th>\n",
       "      <th>type</th>\n",
       "      <th>year</th>\n",
       "      <th>region</th>\n",
       "    </tr>\n",
       "  </thead>\n",
       "  <tbody>\n",
       "    <tr>\n",
       "      <th>0</th>\n",
       "      <td>2015-12-27</td>\n",
       "      <td>64236.62</td>\n",
       "      <td>8696.87</td>\n",
       "      <td>8603.62</td>\n",
       "      <td>93.25</td>\n",
       "      <td>0.0</td>\n",
       "      <td>conventional</td>\n",
       "      <td>2015</td>\n",
       "      <td>Albany</td>\n",
       "    </tr>\n",
       "    <tr>\n",
       "      <th>1</th>\n",
       "      <td>2015-12-20</td>\n",
       "      <td>54876.98</td>\n",
       "      <td>9505.56</td>\n",
       "      <td>9408.07</td>\n",
       "      <td>97.49</td>\n",
       "      <td>0.0</td>\n",
       "      <td>conventional</td>\n",
       "      <td>2015</td>\n",
       "      <td>Albany</td>\n",
       "    </tr>\n",
       "    <tr>\n",
       "      <th>2</th>\n",
       "      <td>2015-12-13</td>\n",
       "      <td>118220.22</td>\n",
       "      <td>8145.35</td>\n",
       "      <td>8042.21</td>\n",
       "      <td>103.14</td>\n",
       "      <td>0.0</td>\n",
       "      <td>conventional</td>\n",
       "      <td>2015</td>\n",
       "      <td>Albany</td>\n",
       "    </tr>\n",
       "    <tr>\n",
       "      <th>3</th>\n",
       "      <td>2015-12-06</td>\n",
       "      <td>78992.15</td>\n",
       "      <td>5811.16</td>\n",
       "      <td>5677.40</td>\n",
       "      <td>133.76</td>\n",
       "      <td>0.0</td>\n",
       "      <td>conventional</td>\n",
       "      <td>2015</td>\n",
       "      <td>Albany</td>\n",
       "    </tr>\n",
       "    <tr>\n",
       "      <th>4</th>\n",
       "      <td>2015-11-29</td>\n",
       "      <td>51039.60</td>\n",
       "      <td>6183.95</td>\n",
       "      <td>5986.26</td>\n",
       "      <td>197.69</td>\n",
       "      <td>0.0</td>\n",
       "      <td>conventional</td>\n",
       "      <td>2015</td>\n",
       "      <td>Albany</td>\n",
       "    </tr>\n",
       "  </tbody>\n",
       "</table>\n",
       "</div>"
      ],
      "text/plain": [
       "        Date  Total Volume  Total Bags  Small Bags  Large Bags  XLarge Bags  \\\n",
       "0 2015-12-27      64236.62     8696.87     8603.62       93.25          0.0   \n",
       "1 2015-12-20      54876.98     9505.56     9408.07       97.49          0.0   \n",
       "2 2015-12-13     118220.22     8145.35     8042.21      103.14          0.0   \n",
       "3 2015-12-06      78992.15     5811.16     5677.40      133.76          0.0   \n",
       "4 2015-11-29      51039.60     6183.95     5986.26      197.69          0.0   \n",
       "\n",
       "           type  year  region  \n",
       "0  conventional  2015  Albany  \n",
       "1  conventional  2015  Albany  \n",
       "2  conventional  2015  Albany  \n",
       "3  conventional  2015  Albany  \n",
       "4  conventional  2015  Albany  "
      ]
     },
     "execution_count": 84,
     "metadata": {},
     "output_type": "execute_result"
    }
   ],
   "source": [
    "df.head()"
   ]
  },
  {
   "cell_type": "code",
   "execution_count": 85,
   "id": "685d4cf3",
   "metadata": {
    "scrolled": true
   },
   "outputs": [],
   "source": [
    "tt = df.groupby([pd.Grouper(key='Date', axis=0, freq='Y'), 'type']).agg(\n",
    "                                        Total_volume=('Total Volume','sum'), \n",
    "                                        Total_bags=('Total Bags','sum'))"
   ]
  },
  {
   "cell_type": "code",
   "execution_count": 86,
   "id": "a79519e9",
   "metadata": {},
   "outputs": [
    {
     "data": {
      "text/html": [
       "<div>\n",
       "<style scoped>\n",
       "    .dataframe tbody tr th:only-of-type {\n",
       "        vertical-align: middle;\n",
       "    }\n",
       "\n",
       "    .dataframe tbody tr th {\n",
       "        vertical-align: top;\n",
       "    }\n",
       "\n",
       "    .dataframe thead th {\n",
       "        text-align: right;\n",
       "    }\n",
       "</style>\n",
       "<table border=\"1\" class=\"dataframe\">\n",
       "  <thead>\n",
       "    <tr style=\"text-align: right;\">\n",
       "      <th></th>\n",
       "      <th></th>\n",
       "      <th>Total_volume</th>\n",
       "      <th>Total_bags</th>\n",
       "    </tr>\n",
       "    <tr>\n",
       "      <th>Date</th>\n",
       "      <th>type</th>\n",
       "      <th></th>\n",
       "      <th></th>\n",
       "    </tr>\n",
       "  </thead>\n",
       "  <tbody>\n",
       "    <tr>\n",
       "      <th rowspan=\"2\" valign=\"top\">2015-12-31</th>\n",
       "      <th>conventional</th>\n",
       "      <td>4.30e+09</td>\n",
       "      <td>7.48e+08</td>\n",
       "    </tr>\n",
       "    <tr>\n",
       "      <th>organic</th>\n",
       "      <td>8.89e+07</td>\n",
       "      <td>2.41e+07</td>\n",
       "    </tr>\n",
       "    <tr>\n",
       "      <th rowspan=\"2\" valign=\"top\">2016-12-31</th>\n",
       "      <th>conventional</th>\n",
       "      <td>4.69e+09</td>\n",
       "      <td>1.40e+09</td>\n",
       "    </tr>\n",
       "    <tr>\n",
       "      <th>organic</th>\n",
       "      <td>1.31e+08</td>\n",
       "      <td>6.51e+07</td>\n",
       "    </tr>\n",
       "    <tr>\n",
       "      <th rowspan=\"2\" valign=\"top\">2017-12-31</th>\n",
       "      <th>conventional</th>\n",
       "      <td>4.77e+09</td>\n",
       "      <td>1.54e+09</td>\n",
       "    </tr>\n",
       "    <tr>\n",
       "      <th>organic</th>\n",
       "      <td>1.68e+08</td>\n",
       "      <td>1.05e+08</td>\n",
       "    </tr>\n",
       "    <tr>\n",
       "      <th rowspan=\"2\" valign=\"top\">2018-12-31</th>\n",
       "      <th>conventional</th>\n",
       "      <td>1.33e+09</td>\n",
       "      <td>4.59e+08</td>\n",
       "    </tr>\n",
       "    <tr>\n",
       "      <th>organic</th>\n",
       "      <td>4.85e+07</td>\n",
       "      <td>3.22e+07</td>\n",
       "    </tr>\n",
       "  </tbody>\n",
       "</table>\n",
       "</div>"
      ],
      "text/plain": [
       "                         Total_volume  Total_bags\n",
       "Date       type                                  \n",
       "2015-12-31 conventional      4.30e+09    7.48e+08\n",
       "           organic           8.89e+07    2.41e+07\n",
       "2016-12-31 conventional      4.69e+09    1.40e+09\n",
       "           organic           1.31e+08    6.51e+07\n",
       "2017-12-31 conventional      4.77e+09    1.54e+09\n",
       "           organic           1.68e+08    1.05e+08\n",
       "2018-12-31 conventional      1.33e+09    4.59e+08\n",
       "           organic           4.85e+07    3.22e+07"
      ]
     },
     "execution_count": 86,
     "metadata": {},
     "output_type": "execute_result"
    }
   ],
   "source": [
    "tt"
   ]
  },
  {
   "cell_type": "code",
   "execution_count": null,
   "id": "64bfdadc",
   "metadata": {},
   "outputs": [],
   "source": []
  }
 ],
 "metadata": {
  "kernelspec": {
   "display_name": "Python 3 (ipykernel)",
   "language": "python",
   "name": "python3"
  },
  "language_info": {
   "codemirror_mode": {
    "name": "ipython",
    "version": 3
   },
   "file_extension": ".py",
   "mimetype": "text/x-python",
   "name": "python",
   "nbconvert_exporter": "python",
   "pygments_lexer": "ipython3",
   "version": "3.10.12"
  },
  "toc": {
   "base_numbering": 1,
   "nav_menu": {},
   "number_sections": true,
   "sideBar": true,
   "skip_h1_title": false,
   "title_cell": "Table of Contents",
   "title_sidebar": "Contents",
   "toc_cell": false,
   "toc_position": {},
   "toc_section_display": true,
   "toc_window_display": false
  }
 },
 "nbformat": 4,
 "nbformat_minor": 5
}
