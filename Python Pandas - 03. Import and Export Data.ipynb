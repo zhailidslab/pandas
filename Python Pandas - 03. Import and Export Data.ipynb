{
 "cells": [
  {
   "cell_type": "markdown",
   "id": "0d2232e6",
   "metadata": {},
   "source": [
    "# Importing data in pandas"
   ]
  },
  {
   "cell_type": "markdown",
   "id": "5ff420db",
   "metadata": {},
   "source": [
    "## Importing CSV file\n"
   ]
  },
  {
   "cell_type": "markdown",
   "id": "82e6b53e",
   "metadata": {},
   "source": [
    "This read operation loads the CSV file diabetes.csv to generate a pandas Dataframe object df. "
   ]
  },
  {
   "cell_type": "code",
   "execution_count": 1,
   "id": "d10870b1",
   "metadata": {},
   "outputs": [],
   "source": [
    "import pandas as pd\n",
    "\n",
    "df = pd.read_csv(\"../data/diabetes.csv\")"
   ]
  },
  {
   "cell_type": "code",
   "execution_count": 2,
   "id": "cb15be59",
   "metadata": {
    "scrolled": true
   },
   "outputs": [
    {
     "data": {
      "text/html": [
       "<div>\n",
       "<style scoped>\n",
       "    .dataframe tbody tr th:only-of-type {\n",
       "        vertical-align: middle;\n",
       "    }\n",
       "\n",
       "    .dataframe tbody tr th {\n",
       "        vertical-align: top;\n",
       "    }\n",
       "\n",
       "    .dataframe thead th {\n",
       "        text-align: right;\n",
       "    }\n",
       "</style>\n",
       "<table border=\"1\" class=\"dataframe\">\n",
       "  <thead>\n",
       "    <tr style=\"text-align: right;\">\n",
       "      <th></th>\n",
       "      <th>Pregnancies</th>\n",
       "      <th>Glucose</th>\n",
       "      <th>BloodPressure</th>\n",
       "      <th>SkinThickness</th>\n",
       "      <th>Insulin</th>\n",
       "      <th>BMI</th>\n",
       "      <th>DiabetesPedigreeFunction</th>\n",
       "      <th>Age</th>\n",
       "      <th>Outcome</th>\n",
       "    </tr>\n",
       "  </thead>\n",
       "  <tbody>\n",
       "    <tr>\n",
       "      <th>0</th>\n",
       "      <td>6</td>\n",
       "      <td>148</td>\n",
       "      <td>72</td>\n",
       "      <td>35</td>\n",
       "      <td>0</td>\n",
       "      <td>33.6</td>\n",
       "      <td>0.627</td>\n",
       "      <td>50</td>\n",
       "      <td>1</td>\n",
       "    </tr>\n",
       "    <tr>\n",
       "      <th>1</th>\n",
       "      <td>1</td>\n",
       "      <td>85</td>\n",
       "      <td>66</td>\n",
       "      <td>29</td>\n",
       "      <td>0</td>\n",
       "      <td>26.6</td>\n",
       "      <td>0.351</td>\n",
       "      <td>31</td>\n",
       "      <td>0</td>\n",
       "    </tr>\n",
       "    <tr>\n",
       "      <th>2</th>\n",
       "      <td>8</td>\n",
       "      <td>183</td>\n",
       "      <td>64</td>\n",
       "      <td>0</td>\n",
       "      <td>0</td>\n",
       "      <td>23.3</td>\n",
       "      <td>0.672</td>\n",
       "      <td>32</td>\n",
       "      <td>1</td>\n",
       "    </tr>\n",
       "    <tr>\n",
       "      <th>3</th>\n",
       "      <td>1</td>\n",
       "      <td>89</td>\n",
       "      <td>66</td>\n",
       "      <td>23</td>\n",
       "      <td>94</td>\n",
       "      <td>28.1</td>\n",
       "      <td>0.167</td>\n",
       "      <td>21</td>\n",
       "      <td>0</td>\n",
       "    </tr>\n",
       "    <tr>\n",
       "      <th>4</th>\n",
       "      <td>0</td>\n",
       "      <td>137</td>\n",
       "      <td>40</td>\n",
       "      <td>35</td>\n",
       "      <td>168</td>\n",
       "      <td>43.1</td>\n",
       "      <td>2.288</td>\n",
       "      <td>33</td>\n",
       "      <td>1</td>\n",
       "    </tr>\n",
       "  </tbody>\n",
       "</table>\n",
       "</div>"
      ],
      "text/plain": [
       "   Pregnancies  Glucose  BloodPressure  SkinThickness  Insulin   BMI  \\\n",
       "0            6      148             72             35        0  33.6   \n",
       "1            1       85             66             29        0  26.6   \n",
       "2            8      183             64              0        0  23.3   \n",
       "3            1       89             66             23       94  28.1   \n",
       "4            0      137             40             35      168  43.1   \n",
       "\n",
       "   DiabetesPedigreeFunction  Age  Outcome  \n",
       "0                     0.627   50        1  \n",
       "1                     0.351   31        0  \n",
       "2                     0.672   32        1  \n",
       "3                     0.167   21        0  \n",
       "4                     2.288   33        1  "
      ]
     },
     "execution_count": 2,
     "metadata": {},
     "output_type": "execute_result"
    }
   ],
   "source": [
    "df.head()"
   ]
  },
  {
   "cell_type": "markdown",
   "id": "f770eed3",
   "metadata": {},
   "source": [
    "### Using usecols in read_csv()"
   ]
  },
  {
   "cell_type": "markdown",
   "id": "54b9469d",
   "metadata": {},
   "source": [
    "Here, we are specifying only 4 columns to load and we use the header 0 as its default header."
   ]
  },
  {
   "cell_type": "code",
   "execution_count": 3,
   "id": "4f24227c",
   "metadata": {},
   "outputs": [
    {
     "data": {
      "text/html": [
       "<div>\n",
       "<style scoped>\n",
       "    .dataframe tbody tr th:only-of-type {\n",
       "        vertical-align: middle;\n",
       "    }\n",
       "\n",
       "    .dataframe tbody tr th {\n",
       "        vertical-align: top;\n",
       "    }\n",
       "\n",
       "    .dataframe thead th {\n",
       "        text-align: right;\n",
       "    }\n",
       "</style>\n",
       "<table border=\"1\" class=\"dataframe\">\n",
       "  <thead>\n",
       "    <tr style=\"text-align: right;\">\n",
       "      <th></th>\n",
       "      <th>BMI</th>\n",
       "      <th>DiabetesPedigreeFunction</th>\n",
       "      <th>Age</th>\n",
       "      <th>Outcome</th>\n",
       "    </tr>\n",
       "  </thead>\n",
       "  <tbody>\n",
       "    <tr>\n",
       "      <th>0</th>\n",
       "      <td>33.6</td>\n",
       "      <td>0.627</td>\n",
       "      <td>50</td>\n",
       "      <td>1</td>\n",
       "    </tr>\n",
       "    <tr>\n",
       "      <th>1</th>\n",
       "      <td>26.6</td>\n",
       "      <td>0.351</td>\n",
       "      <td>31</td>\n",
       "      <td>0</td>\n",
       "    </tr>\n",
       "    <tr>\n",
       "      <th>2</th>\n",
       "      <td>23.3</td>\n",
       "      <td>0.672</td>\n",
       "      <td>32</td>\n",
       "      <td>1</td>\n",
       "    </tr>\n",
       "    <tr>\n",
       "      <th>3</th>\n",
       "      <td>28.1</td>\n",
       "      <td>0.167</td>\n",
       "      <td>21</td>\n",
       "      <td>0</td>\n",
       "    </tr>\n",
       "    <tr>\n",
       "      <th>4</th>\n",
       "      <td>43.1</td>\n",
       "      <td>2.288</td>\n",
       "      <td>33</td>\n",
       "      <td>1</td>\n",
       "    </tr>\n",
       "  </tbody>\n",
       "</table>\n",
       "</div>"
      ],
      "text/plain": [
       "    BMI  DiabetesPedigreeFunction  Age  Outcome\n",
       "0  33.6                     0.627   50        1\n",
       "1  26.6                     0.351   31        0\n",
       "2  23.3                     0.672   32        1\n",
       "3  28.1                     0.167   21        0\n",
       "4  43.1                     2.288   33        1"
      ]
     },
     "execution_count": 3,
     "metadata": {},
     "output_type": "execute_result"
    }
   ],
   "source": [
    "df = pd.read_csv('../data/diabetes.csv',\n",
    "        header=0,\n",
    "        usecols=[\"BMI\",\"DiabetesPedigreeFunction\",\"Age\",\"Outcome\"])\n",
    "df.head()"
   ]
  },
  {
   "cell_type": "markdown",
   "id": "e1f461e6",
   "metadata": {},
   "source": [
    "### Make a Column Index in read_csv()\n"
   ]
  },
  {
   "cell_type": "code",
   "execution_count": 4,
   "id": "f7b8b299",
   "metadata": {},
   "outputs": [
    {
     "data": {
      "text/html": [
       "<div>\n",
       "<style scoped>\n",
       "    .dataframe tbody tr th:only-of-type {\n",
       "        vertical-align: middle;\n",
       "    }\n",
       "\n",
       "    .dataframe tbody tr th {\n",
       "        vertical-align: top;\n",
       "    }\n",
       "\n",
       "    .dataframe thead th {\n",
       "        text-align: right;\n",
       "    }\n",
       "</style>\n",
       "<table border=\"1\" class=\"dataframe\">\n",
       "  <thead>\n",
       "    <tr style=\"text-align: right;\">\n",
       "      <th></th>\n",
       "      <th>Id</th>\n",
       "      <th>SepalLengthCm</th>\n",
       "      <th>SepalWidthCm</th>\n",
       "      <th>PetalLengthCm</th>\n",
       "      <th>PetalWidthCm</th>\n",
       "      <th>Species</th>\n",
       "    </tr>\n",
       "  </thead>\n",
       "  <tbody>\n",
       "    <tr>\n",
       "      <th>0</th>\n",
       "      <td>1</td>\n",
       "      <td>5.1</td>\n",
       "      <td>3.5</td>\n",
       "      <td>1.4</td>\n",
       "      <td>0.2</td>\n",
       "      <td>Iris-setosa</td>\n",
       "    </tr>\n",
       "    <tr>\n",
       "      <th>1</th>\n",
       "      <td>2</td>\n",
       "      <td>4.9</td>\n",
       "      <td>3.0</td>\n",
       "      <td>1.4</td>\n",
       "      <td>0.2</td>\n",
       "      <td>Iris-setosa</td>\n",
       "    </tr>\n",
       "    <tr>\n",
       "      <th>2</th>\n",
       "      <td>3</td>\n",
       "      <td>4.7</td>\n",
       "      <td>3.2</td>\n",
       "      <td>1.3</td>\n",
       "      <td>0.2</td>\n",
       "      <td>Iris-setosa</td>\n",
       "    </tr>\n",
       "    <tr>\n",
       "      <th>3</th>\n",
       "      <td>4</td>\n",
       "      <td>4.6</td>\n",
       "      <td>3.1</td>\n",
       "      <td>1.5</td>\n",
       "      <td>0.2</td>\n",
       "      <td>Iris-setosa</td>\n",
       "    </tr>\n",
       "    <tr>\n",
       "      <th>4</th>\n",
       "      <td>5</td>\n",
       "      <td>5.0</td>\n",
       "      <td>3.6</td>\n",
       "      <td>1.4</td>\n",
       "      <td>0.2</td>\n",
       "      <td>Iris-setosa</td>\n",
       "    </tr>\n",
       "  </tbody>\n",
       "</table>\n",
       "</div>"
      ],
      "text/plain": [
       "   Id  SepalLengthCm  SepalWidthCm  PetalLengthCm  PetalWidthCm      Species\n",
       "0   1            5.1           3.5            1.4           0.2  Iris-setosa\n",
       "1   2            4.9           3.0            1.4           0.2  Iris-setosa\n",
       "2   3            4.7           3.2            1.3           0.2  Iris-setosa\n",
       "3   4            4.6           3.1            1.5           0.2  Iris-setosa\n",
       "4   5            5.0           3.6            1.4           0.2  Iris-setosa"
      ]
     },
     "execution_count": 4,
     "metadata": {},
     "output_type": "execute_result"
    }
   ],
   "source": [
    "df = pd.read_csv('../data/iris.csv')\n",
    "df.head()"
   ]
  },
  {
   "cell_type": "code",
   "execution_count": 5,
   "id": "c1225eed",
   "metadata": {},
   "outputs": [
    {
     "data": {
      "text/html": [
       "<div>\n",
       "<style scoped>\n",
       "    .dataframe tbody tr th:only-of-type {\n",
       "        vertical-align: middle;\n",
       "    }\n",
       "\n",
       "    .dataframe tbody tr th {\n",
       "        vertical-align: top;\n",
       "    }\n",
       "\n",
       "    .dataframe thead th {\n",
       "        text-align: right;\n",
       "    }\n",
       "</style>\n",
       "<table border=\"1\" class=\"dataframe\">\n",
       "  <thead>\n",
       "    <tr style=\"text-align: right;\">\n",
       "      <th></th>\n",
       "      <th>SepalLengthCm</th>\n",
       "      <th>SepalWidthCm</th>\n",
       "      <th>PetalLengthCm</th>\n",
       "      <th>PetalWidthCm</th>\n",
       "      <th>Species</th>\n",
       "    </tr>\n",
       "    <tr>\n",
       "      <th>Id</th>\n",
       "      <th></th>\n",
       "      <th></th>\n",
       "      <th></th>\n",
       "      <th></th>\n",
       "      <th></th>\n",
       "    </tr>\n",
       "  </thead>\n",
       "  <tbody>\n",
       "    <tr>\n",
       "      <th>1</th>\n",
       "      <td>5.1</td>\n",
       "      <td>3.5</td>\n",
       "      <td>1.4</td>\n",
       "      <td>0.2</td>\n",
       "      <td>Iris-setosa</td>\n",
       "    </tr>\n",
       "    <tr>\n",
       "      <th>2</th>\n",
       "      <td>4.9</td>\n",
       "      <td>3.0</td>\n",
       "      <td>1.4</td>\n",
       "      <td>0.2</td>\n",
       "      <td>Iris-setosa</td>\n",
       "    </tr>\n",
       "    <tr>\n",
       "      <th>3</th>\n",
       "      <td>4.7</td>\n",
       "      <td>3.2</td>\n",
       "      <td>1.3</td>\n",
       "      <td>0.2</td>\n",
       "      <td>Iris-setosa</td>\n",
       "    </tr>\n",
       "    <tr>\n",
       "      <th>4</th>\n",
       "      <td>4.6</td>\n",
       "      <td>3.1</td>\n",
       "      <td>1.5</td>\n",
       "      <td>0.2</td>\n",
       "      <td>Iris-setosa</td>\n",
       "    </tr>\n",
       "    <tr>\n",
       "      <th>5</th>\n",
       "      <td>5.0</td>\n",
       "      <td>3.6</td>\n",
       "      <td>1.4</td>\n",
       "      <td>0.2</td>\n",
       "      <td>Iris-setosa</td>\n",
       "    </tr>\n",
       "  </tbody>\n",
       "</table>\n",
       "</div>"
      ],
      "text/plain": [
       "    SepalLengthCm  SepalWidthCm  PetalLengthCm  PetalWidthCm      Species\n",
       "Id                                                                       \n",
       "1             5.1           3.5            1.4           0.2  Iris-setosa\n",
       "2             4.9           3.0            1.4           0.2  Iris-setosa\n",
       "3             4.7           3.2            1.3           0.2  Iris-setosa\n",
       "4             4.6           3.1            1.5           0.2  Iris-setosa\n",
       "5             5.0           3.6            1.4           0.2  Iris-setosa"
      ]
     },
     "execution_count": 5,
     "metadata": {},
     "output_type": "execute_result"
    }
   ],
   "source": [
    "df = pd.read_csv('../data/iris.csv',\n",
    "                index_col=0)\n",
    "df.head()"
   ]
  },
  {
   "cell_type": "markdown",
   "id": "ecdd2198",
   "metadata": {},
   "source": [
    "As a result, we set the “ID” column as index."
   ]
  },
  {
   "cell_type": "markdown",
   "id": "14a145a2",
   "metadata": {},
   "source": [
    "## Importing Excel files"
   ]
  },
  {
   "cell_type": "code",
   "execution_count": 6,
   "id": "39ca21e5",
   "metadata": {},
   "outputs": [
    {
     "data": {
      "text/html": [
       "<div>\n",
       "<style scoped>\n",
       "    .dataframe tbody tr th:only-of-type {\n",
       "        vertical-align: middle;\n",
       "    }\n",
       "\n",
       "    .dataframe tbody tr th {\n",
       "        vertical-align: top;\n",
       "    }\n",
       "\n",
       "    .dataframe thead th {\n",
       "        text-align: right;\n",
       "    }\n",
       "</style>\n",
       "<table border=\"1\" class=\"dataframe\">\n",
       "  <thead>\n",
       "    <tr style=\"text-align: right;\">\n",
       "      <th></th>\n",
       "      <th>1、2010年：中国专利诉讼地域分布图</th>\n",
       "      <th>Unnamed: 1</th>\n",
       "    </tr>\n",
       "  </thead>\n",
       "  <tbody>\n",
       "    <tr>\n",
       "      <th>0</th>\n",
       "      <td>Court Province</td>\n",
       "      <td>Patents Quantity</td>\n",
       "    </tr>\n",
       "    <tr>\n",
       "      <th>1</th>\n",
       "      <td>浙江省</td>\n",
       "      <td>233</td>\n",
       "    </tr>\n",
       "    <tr>\n",
       "      <th>2</th>\n",
       "      <td>广东省</td>\n",
       "      <td>201</td>\n",
       "    </tr>\n",
       "    <tr>\n",
       "      <th>3</th>\n",
       "      <td>上海市</td>\n",
       "      <td>91</td>\n",
       "    </tr>\n",
       "    <tr>\n",
       "      <th>4</th>\n",
       "      <td>江苏省</td>\n",
       "      <td>84</td>\n",
       "    </tr>\n",
       "  </tbody>\n",
       "</table>\n",
       "</div>"
      ],
      "text/plain": [
       "  1、2010年：中国专利诉讼地域分布图        Unnamed: 1\n",
       "0      Court Province  Patents Quantity\n",
       "1                 浙江省               233\n",
       "2                 广东省               201\n",
       "3                 上海市                91\n",
       "4                 江苏省                84"
      ]
     },
     "execution_count": 6,
     "metadata": {},
     "output_type": "execute_result"
    }
   ],
   "source": [
    "df = pd.read_excel('../data/patent.xlsx')\n",
    "df.head()"
   ]
  },
  {
   "cell_type": "code",
   "execution_count": 7,
   "id": "e5ed406b",
   "metadata": {},
   "outputs": [
    {
     "data": {
      "text/html": [
       "<div>\n",
       "<style scoped>\n",
       "    .dataframe tbody tr th:only-of-type {\n",
       "        vertical-align: middle;\n",
       "    }\n",
       "\n",
       "    .dataframe tbody tr th {\n",
       "        vertical-align: top;\n",
       "    }\n",
       "\n",
       "    .dataframe thead th {\n",
       "        text-align: right;\n",
       "    }\n",
       "</style>\n",
       "<table border=\"1\" class=\"dataframe\">\n",
       "  <thead>\n",
       "    <tr style=\"text-align: right;\">\n",
       "      <th></th>\n",
       "      <th>Court Province</th>\n",
       "      <th>Patents Quantity</th>\n",
       "    </tr>\n",
       "  </thead>\n",
       "  <tbody>\n",
       "    <tr>\n",
       "      <th>0</th>\n",
       "      <td>浙江省</td>\n",
       "      <td>233</td>\n",
       "    </tr>\n",
       "    <tr>\n",
       "      <th>1</th>\n",
       "      <td>广东省</td>\n",
       "      <td>201</td>\n",
       "    </tr>\n",
       "    <tr>\n",
       "      <th>2</th>\n",
       "      <td>上海市</td>\n",
       "      <td>91</td>\n",
       "    </tr>\n",
       "    <tr>\n",
       "      <th>3</th>\n",
       "      <td>江苏省</td>\n",
       "      <td>84</td>\n",
       "    </tr>\n",
       "    <tr>\n",
       "      <th>4</th>\n",
       "      <td>北京市</td>\n",
       "      <td>34</td>\n",
       "    </tr>\n",
       "  </tbody>\n",
       "</table>\n",
       "</div>"
      ],
      "text/plain": [
       "  Court Province  Patents Quantity\n",
       "0            浙江省               233\n",
       "1            广东省               201\n",
       "2            上海市                91\n",
       "3            江苏省                84\n",
       "4            北京市                34"
      ]
     },
     "execution_count": 7,
     "metadata": {},
     "output_type": "execute_result"
    }
   ],
   "source": [
    "df = pd.read_excel('../data/patent.xlsx',\n",
    "                  header=1 )\n",
    "df.head()"
   ]
  },
  {
   "cell_type": "code",
   "execution_count": 8,
   "id": "8524b51a",
   "metadata": {},
   "outputs": [
    {
     "data": {
      "text/html": [
       "<div>\n",
       "<style scoped>\n",
       "    .dataframe tbody tr th:only-of-type {\n",
       "        vertical-align: middle;\n",
       "    }\n",
       "\n",
       "    .dataframe tbody tr th {\n",
       "        vertical-align: top;\n",
       "    }\n",
       "\n",
       "    .dataframe thead th {\n",
       "        text-align: right;\n",
       "    }\n",
       "</style>\n",
       "<table border=\"1\" class=\"dataframe\">\n",
       "  <thead>\n",
       "    <tr style=\"text-align: right;\">\n",
       "      <th></th>\n",
       "      <th>Court Province</th>\n",
       "      <th>Patents Quantity</th>\n",
       "    </tr>\n",
       "  </thead>\n",
       "  <tbody>\n",
       "    <tr>\n",
       "      <th>0</th>\n",
       "      <td>广东省</td>\n",
       "      <td>1694</td>\n",
       "    </tr>\n",
       "    <tr>\n",
       "      <th>1</th>\n",
       "      <td>北京市</td>\n",
       "      <td>1230</td>\n",
       "    </tr>\n",
       "    <tr>\n",
       "      <th>2</th>\n",
       "      <td>浙江省</td>\n",
       "      <td>896</td>\n",
       "    </tr>\n",
       "    <tr>\n",
       "      <th>3</th>\n",
       "      <td>江苏省</td>\n",
       "      <td>553</td>\n",
       "    </tr>\n",
       "    <tr>\n",
       "      <th>4</th>\n",
       "      <td>山东省</td>\n",
       "      <td>399</td>\n",
       "    </tr>\n",
       "  </tbody>\n",
       "</table>\n",
       "</div>"
      ],
      "text/plain": [
       "  Court Province  Patents Quantity\n",
       "0            广东省              1694\n",
       "1            北京市              1230\n",
       "2            浙江省               896\n",
       "3            江苏省               553\n",
       "4            山东省               399"
      ]
     },
     "execution_count": 8,
     "metadata": {},
     "output_type": "execute_result"
    }
   ],
   "source": [
    "df = pd.read_excel('../data/patent.xlsx',\n",
    "                   sheet_name=1,\n",
    "                   header=1 )\n",
    "df.head()"
   ]
  },
  {
   "cell_type": "code",
   "execution_count": 9,
   "id": "2ec153ae",
   "metadata": {},
   "outputs": [
    {
     "data": {
      "text/html": [
       "<div>\n",
       "<style scoped>\n",
       "    .dataframe tbody tr th:only-of-type {\n",
       "        vertical-align: middle;\n",
       "    }\n",
       "\n",
       "    .dataframe tbody tr th {\n",
       "        vertical-align: top;\n",
       "    }\n",
       "\n",
       "    .dataframe thead th {\n",
       "        text-align: right;\n",
       "    }\n",
       "</style>\n",
       "<table border=\"1\" class=\"dataframe\">\n",
       "  <thead>\n",
       "    <tr style=\"text-align: right;\">\n",
       "      <th></th>\n",
       "      <th>Court Province</th>\n",
       "      <th>Patents Quantity</th>\n",
       "    </tr>\n",
       "  </thead>\n",
       "  <tbody>\n",
       "    <tr>\n",
       "      <th>0</th>\n",
       "      <td>广东省</td>\n",
       "      <td>1694.0</td>\n",
       "    </tr>\n",
       "    <tr>\n",
       "      <th>1</th>\n",
       "      <td>北京市</td>\n",
       "      <td>1230.0</td>\n",
       "    </tr>\n",
       "    <tr>\n",
       "      <th>2</th>\n",
       "      <td>浙江省</td>\n",
       "      <td>896.0</td>\n",
       "    </tr>\n",
       "    <tr>\n",
       "      <th>3</th>\n",
       "      <td>江苏省</td>\n",
       "      <td>553.0</td>\n",
       "    </tr>\n",
       "    <tr>\n",
       "      <th>4</th>\n",
       "      <td>山东省</td>\n",
       "      <td>399.0</td>\n",
       "    </tr>\n",
       "  </tbody>\n",
       "</table>\n",
       "</div>"
      ],
      "text/plain": [
       "  Court Province  Patents Quantity\n",
       "0            广东省            1694.0\n",
       "1            北京市            1230.0\n",
       "2            浙江省             896.0\n",
       "3            江苏省             553.0\n",
       "4            山东省             399.0"
      ]
     },
     "execution_count": 9,
     "metadata": {},
     "output_type": "execute_result"
    }
   ],
   "source": [
    "df = pd.read_excel('../data/patent.xlsx',\n",
    "                   sheet_name=1,\n",
    "                   header=1,\n",
    "                  dtype={'Court Province':object, \n",
    "                         'Patents Quantity': float})\n",
    "df.head()"
   ]
  },
  {
   "cell_type": "markdown",
   "id": "d43fcc5f",
   "metadata": {},
   "source": [
    "## Import JSON files\n",
    "\n"
   ]
  },
  {
   "cell_type": "code",
   "execution_count": 10,
   "id": "53bb52c0",
   "metadata": {},
   "outputs": [],
   "source": [
    "students = {\n",
    "         \"Name\":{\"0\":\"John\",\"1\":\"Nick\",\"2\":\"Ali\",\"3\":\"Joseph\"},\n",
    "         \"Gender\":{\"0\":\"Male\",\"1\":\"Male\",\"2\":\"Female\",\"3\":\"Male\"},\n",
    "         \"Nationality\":{\"0\":\"UK\",\"1\":\"French\",\"2\":\"USA\",\"3\":\"Brazil\"},\n",
    "         \"Age\" :{\"0\":10,\"1\":25,\"2\":35,\"3\":29}\n",
    "}"
   ]
  },
  {
   "cell_type": "code",
   "execution_count": 11,
   "id": "4933f4af",
   "metadata": {},
   "outputs": [],
   "source": [
    "import json\n",
    "with open('../data/students.json', 'w') as f:\n",
    "    json.dump(students, f)"
   ]
  },
  {
   "cell_type": "markdown",
   "id": "2cabb121",
   "metadata": {},
   "source": [
    "###### pandas.read_json"
   ]
  },
  {
   "cell_type": "code",
   "execution_count": 12,
   "id": "b6506452",
   "metadata": {},
   "outputs": [
    {
     "data": {
      "text/html": [
       "<div>\n",
       "<style scoped>\n",
       "    .dataframe tbody tr th:only-of-type {\n",
       "        vertical-align: middle;\n",
       "    }\n",
       "\n",
       "    .dataframe tbody tr th {\n",
       "        vertical-align: top;\n",
       "    }\n",
       "\n",
       "    .dataframe thead th {\n",
       "        text-align: right;\n",
       "    }\n",
       "</style>\n",
       "<table border=\"1\" class=\"dataframe\">\n",
       "  <thead>\n",
       "    <tr style=\"text-align: right;\">\n",
       "      <th></th>\n",
       "      <th>Name</th>\n",
       "      <th>Gender</th>\n",
       "      <th>Nationality</th>\n",
       "      <th>Age</th>\n",
       "    </tr>\n",
       "  </thead>\n",
       "  <tbody>\n",
       "    <tr>\n",
       "      <th>0</th>\n",
       "      <td>John</td>\n",
       "      <td>Male</td>\n",
       "      <td>UK</td>\n",
       "      <td>10</td>\n",
       "    </tr>\n",
       "    <tr>\n",
       "      <th>1</th>\n",
       "      <td>Nick</td>\n",
       "      <td>Male</td>\n",
       "      <td>French</td>\n",
       "      <td>25</td>\n",
       "    </tr>\n",
       "    <tr>\n",
       "      <th>2</th>\n",
       "      <td>Ali</td>\n",
       "      <td>Female</td>\n",
       "      <td>USA</td>\n",
       "      <td>35</td>\n",
       "    </tr>\n",
       "    <tr>\n",
       "      <th>3</th>\n",
       "      <td>Joseph</td>\n",
       "      <td>Male</td>\n",
       "      <td>Brazil</td>\n",
       "      <td>29</td>\n",
       "    </tr>\n",
       "  </tbody>\n",
       "</table>\n",
       "</div>"
      ],
      "text/plain": [
       "     Name  Gender Nationality  Age\n",
       "0    John    Male          UK   10\n",
       "1    Nick    Male      French   25\n",
       "2     Ali  Female         USA   35\n",
       "3  Joseph    Male      Brazil   29"
      ]
     },
     "execution_count": 12,
     "metadata": {},
     "output_type": "execute_result"
    }
   ],
   "source": [
    "# load pandas and json modules                                                                                               \n",
    "import pandas as pd\n",
    "\n",
    "df = pd.read_json('../data/students.json')\n",
    "df"
   ]
  },
  {
   "cell_type": "code",
   "execution_count": 13,
   "id": "0a9cf1d0",
   "metadata": {},
   "outputs": [],
   "source": [
    "#iris_data = pd.read_json(\"https://raw.githubusercontent.com/domoritz/maps/master/data/iris.json\")\n",
    "#iris_data.head()"
   ]
  },
  {
   "cell_type": "markdown",
   "id": "7c5b3193",
   "metadata": {},
   "source": [
    "# Outputting data in pandas\n",
    "\n",
    "## Outputting a DataFrame into a CSV file\n",
    "\n"
   ]
  },
  {
   "cell_type": "code",
   "execution_count": 14,
   "id": "2cac3d7e",
   "metadata": {},
   "outputs": [
    {
     "data": {
      "text/html": [
       "<div>\n",
       "<style scoped>\n",
       "    .dataframe tbody tr th:only-of-type {\n",
       "        vertical-align: middle;\n",
       "    }\n",
       "\n",
       "    .dataframe tbody tr th {\n",
       "        vertical-align: top;\n",
       "    }\n",
       "\n",
       "    .dataframe thead th {\n",
       "        text-align: right;\n",
       "    }\n",
       "</style>\n",
       "<table border=\"1\" class=\"dataframe\">\n",
       "  <thead>\n",
       "    <tr style=\"text-align: right;\">\n",
       "      <th></th>\n",
       "      <th>Court Province</th>\n",
       "      <th>Patents Quantity</th>\n",
       "    </tr>\n",
       "  </thead>\n",
       "  <tbody>\n",
       "    <tr>\n",
       "      <th>0</th>\n",
       "      <td>广东省</td>\n",
       "      <td>1694</td>\n",
       "    </tr>\n",
       "    <tr>\n",
       "      <th>1</th>\n",
       "      <td>北京市</td>\n",
       "      <td>1230</td>\n",
       "    </tr>\n",
       "    <tr>\n",
       "      <th>2</th>\n",
       "      <td>浙江省</td>\n",
       "      <td>896</td>\n",
       "    </tr>\n",
       "    <tr>\n",
       "      <th>3</th>\n",
       "      <td>江苏省</td>\n",
       "      <td>553</td>\n",
       "    </tr>\n",
       "    <tr>\n",
       "      <th>4</th>\n",
       "      <td>山东省</td>\n",
       "      <td>399</td>\n",
       "    </tr>\n",
       "  </tbody>\n",
       "</table>\n",
       "</div>"
      ],
      "text/plain": [
       "  Court Province  Patents Quantity\n",
       "0            广东省              1694\n",
       "1            北京市              1230\n",
       "2            浙江省               896\n",
       "3            江苏省               553\n",
       "4            山东省               399"
      ]
     },
     "execution_count": 14,
     "metadata": {},
     "output_type": "execute_result"
    }
   ],
   "source": [
    "df = pd.read_excel('../data/patent.xlsx',\n",
    "                   sheet_name=1,\n",
    "                   header=1 )\n",
    "df.head()"
   ]
  },
  {
   "cell_type": "code",
   "execution_count": 15,
   "id": "accb85a5",
   "metadata": {},
   "outputs": [],
   "source": [
    "df.to_csv(\"../data/patent2019.csv\", index=False)"
   ]
  },
  {
   "cell_type": "markdown",
   "id": "9936583a",
   "metadata": {},
   "source": [
    "## Outputting a DataFrame into an Excel file\n",
    "Call `.to_excel()` from the DataFrame object to save it as a “.xls” or “.xlsx” file."
   ]
  },
  {
   "cell_type": "code",
   "execution_count": 16,
   "id": "2cde8c63",
   "metadata": {},
   "outputs": [
    {
     "data": {
      "text/html": [
       "<div>\n",
       "<style scoped>\n",
       "    .dataframe tbody tr th:only-of-type {\n",
       "        vertical-align: middle;\n",
       "    }\n",
       "\n",
       "    .dataframe tbody tr th {\n",
       "        vertical-align: top;\n",
       "    }\n",
       "\n",
       "    .dataframe thead th {\n",
       "        text-align: right;\n",
       "    }\n",
       "</style>\n",
       "<table border=\"1\" class=\"dataframe\">\n",
       "  <thead>\n",
       "    <tr style=\"text-align: right;\">\n",
       "      <th></th>\n",
       "      <th>Court Province</th>\n",
       "      <th>Patents Quantity</th>\n",
       "    </tr>\n",
       "  </thead>\n",
       "  <tbody>\n",
       "    <tr>\n",
       "      <th>0</th>\n",
       "      <td>广东省</td>\n",
       "      <td>1694</td>\n",
       "    </tr>\n",
       "    <tr>\n",
       "      <th>1</th>\n",
       "      <td>北京市</td>\n",
       "      <td>1230</td>\n",
       "    </tr>\n",
       "    <tr>\n",
       "      <th>2</th>\n",
       "      <td>浙江省</td>\n",
       "      <td>896</td>\n",
       "    </tr>\n",
       "    <tr>\n",
       "      <th>3</th>\n",
       "      <td>江苏省</td>\n",
       "      <td>553</td>\n",
       "    </tr>\n",
       "    <tr>\n",
       "      <th>4</th>\n",
       "      <td>山东省</td>\n",
       "      <td>399</td>\n",
       "    </tr>\n",
       "  </tbody>\n",
       "</table>\n",
       "</div>"
      ],
      "text/plain": [
       "  Court Province  Patents Quantity\n",
       "0            广东省              1694\n",
       "1            北京市              1230\n",
       "2            浙江省               896\n",
       "3            江苏省               553\n",
       "4            山东省               399"
      ]
     },
     "execution_count": 16,
     "metadata": {},
     "output_type": "execute_result"
    }
   ],
   "source": [
    "df = pd.read_excel('../data/patent.xlsx',\n",
    "                   sheet_name=1,\n",
    "                   header=1 )\n",
    "df.head()"
   ]
  },
  {
   "cell_type": "code",
   "execution_count": 17,
   "id": "f9f60523",
   "metadata": {},
   "outputs": [],
   "source": [
    "df.to_excel(\"../data/patent2019.xlsx\", index=True)"
   ]
  },
  {
   "cell_type": "markdown",
   "id": "49a30723",
   "metadata": {},
   "source": [
    "## Outputting a DataFrame into a JSON file"
   ]
  },
  {
   "cell_type": "code",
   "execution_count": 18,
   "id": "8cf8185f",
   "metadata": {},
   "outputs": [
    {
     "data": {
      "text/html": [
       "<div>\n",
       "<style scoped>\n",
       "    .dataframe tbody tr th:only-of-type {\n",
       "        vertical-align: middle;\n",
       "    }\n",
       "\n",
       "    .dataframe tbody tr th {\n",
       "        vertical-align: top;\n",
       "    }\n",
       "\n",
       "    .dataframe thead th {\n",
       "        text-align: right;\n",
       "    }\n",
       "</style>\n",
       "<table border=\"1\" class=\"dataframe\">\n",
       "  <thead>\n",
       "    <tr style=\"text-align: right;\">\n",
       "      <th></th>\n",
       "      <th>Court Province</th>\n",
       "      <th>Patents Quantity</th>\n",
       "    </tr>\n",
       "  </thead>\n",
       "  <tbody>\n",
       "    <tr>\n",
       "      <th>0</th>\n",
       "      <td>广东省</td>\n",
       "      <td>1694</td>\n",
       "    </tr>\n",
       "    <tr>\n",
       "      <th>1</th>\n",
       "      <td>北京市</td>\n",
       "      <td>1230</td>\n",
       "    </tr>\n",
       "    <tr>\n",
       "      <th>2</th>\n",
       "      <td>浙江省</td>\n",
       "      <td>896</td>\n",
       "    </tr>\n",
       "    <tr>\n",
       "      <th>3</th>\n",
       "      <td>江苏省</td>\n",
       "      <td>553</td>\n",
       "    </tr>\n",
       "    <tr>\n",
       "      <th>4</th>\n",
       "      <td>山东省</td>\n",
       "      <td>399</td>\n",
       "    </tr>\n",
       "  </tbody>\n",
       "</table>\n",
       "</div>"
      ],
      "text/plain": [
       "  Court Province  Patents Quantity\n",
       "0            广东省              1694\n",
       "1            北京市              1230\n",
       "2            浙江省               896\n",
       "3            江苏省               553\n",
       "4            山东省               399"
      ]
     },
     "execution_count": 18,
     "metadata": {},
     "output_type": "execute_result"
    }
   ],
   "source": [
    "import pandas as pd\n",
    "\n",
    "df = pd.read_excel('../data/patent.xlsx',\n",
    "                   sheet_name=1,\n",
    "                   header=1 )\n",
    "df.head()"
   ]
  },
  {
   "cell_type": "code",
   "execution_count": 19,
   "id": "3b00a85f",
   "metadata": {},
   "outputs": [],
   "source": [
    "df.to_json(\"../data/patent2019.json\", indent=True)"
   ]
  },
  {
   "cell_type": "markdown",
   "id": "3970d5da",
   "metadata": {},
   "source": [
    "## Outputting a DataFrame into a html file"
   ]
  },
  {
   "cell_type": "code",
   "execution_count": 20,
   "id": "c19c93f0",
   "metadata": {},
   "outputs": [
    {
     "data": {
      "text/html": [
       "<div>\n",
       "<style scoped>\n",
       "    .dataframe tbody tr th:only-of-type {\n",
       "        vertical-align: middle;\n",
       "    }\n",
       "\n",
       "    .dataframe tbody tr th {\n",
       "        vertical-align: top;\n",
       "    }\n",
       "\n",
       "    .dataframe thead th {\n",
       "        text-align: right;\n",
       "    }\n",
       "</style>\n",
       "<table border=\"1\" class=\"dataframe\">\n",
       "  <thead>\n",
       "    <tr style=\"text-align: right;\">\n",
       "      <th></th>\n",
       "      <th>Court Province</th>\n",
       "      <th>Patents Quantity</th>\n",
       "    </tr>\n",
       "  </thead>\n",
       "  <tbody>\n",
       "    <tr>\n",
       "      <th>0</th>\n",
       "      <td>广东省</td>\n",
       "      <td>1694</td>\n",
       "    </tr>\n",
       "    <tr>\n",
       "      <th>1</th>\n",
       "      <td>北京市</td>\n",
       "      <td>1230</td>\n",
       "    </tr>\n",
       "    <tr>\n",
       "      <th>2</th>\n",
       "      <td>浙江省</td>\n",
       "      <td>896</td>\n",
       "    </tr>\n",
       "    <tr>\n",
       "      <th>3</th>\n",
       "      <td>江苏省</td>\n",
       "      <td>553</td>\n",
       "    </tr>\n",
       "    <tr>\n",
       "      <th>4</th>\n",
       "      <td>山东省</td>\n",
       "      <td>399</td>\n",
       "    </tr>\n",
       "  </tbody>\n",
       "</table>\n",
       "</div>"
      ],
      "text/plain": [
       "  Court Province  Patents Quantity\n",
       "0            广东省              1694\n",
       "1            北京市              1230\n",
       "2            浙江省               896\n",
       "3            江苏省               553\n",
       "4            山东省               399"
      ]
     },
     "execution_count": 20,
     "metadata": {},
     "output_type": "execute_result"
    }
   ],
   "source": [
    "import pandas as pd\n",
    "\n",
    "df = pd.read_excel('../data/patent.xlsx',\n",
    "                   sheet_name=1,\n",
    "                   header=1 )\n",
    "df.head()"
   ]
  },
  {
   "cell_type": "code",
   "execution_count": 21,
   "id": "9265c7cc",
   "metadata": {},
   "outputs": [],
   "source": [
    "df.to_html(\"../data/patent2019.html\")"
   ]
  },
  {
   "cell_type": "code",
   "execution_count": 22,
   "id": "c3bf5810",
   "metadata": {},
   "outputs": [
    {
     "data": {
      "text/plain": [
       "'<table border=\"1\" class=\"dataframe\">\\n  <thead>\\n    <tr style=\"text-align: right;\">\\n      <th></th>\\n      <th>Court Province</th>\\n      <th>Patents Quantity</th>\\n    </tr>\\n  </thead>\\n  <tbody>\\n    <tr>\\n      <th>0</th>\\n      <td>广东省</td>\\n      <td>1694</td>\\n    </tr>\\n    <tr>\\n      <th>1</th>\\n      <td>北京市</td>\\n      <td>1230</td>\\n    </tr>\\n    <tr>\\n      <th>2</th>\\n      <td>浙江省</td>\\n      <td>896</td>\\n    </tr>\\n    <tr>\\n      <th>3</th>\\n      <td>江苏省</td>\\n      <td>553</td>\\n    </tr>\\n    <tr>\\n      <th>4</th>\\n      <td>山东省</td>\\n      <td>399</td>\\n    </tr>\\n    <tr>\\n      <th>5</th>\\n      <td>河南省</td>\\n      <td>247</td>\\n    </tr>\\n    <tr>\\n      <th>6</th>\\n      <td>四川省</td>\\n      <td>227</td>\\n    </tr>\\n    <tr>\\n      <th>7</th>\\n      <td>福建省</td>\\n      <td>171</td>\\n    </tr>\\n    <tr>\\n      <th>8</th>\\n      <td>湖南省</td>\\n      <td>150</td>\\n    </tr>\\n    <tr>\\n      <th>9</th>\\n      <td>安徽省</td>\\n      <td>144</td>\\n    </tr>\\n    <tr>\\n      <th>10</th>\\n      <td>湖北省</td>\\n      <td>129</td>\\n    </tr>\\n    <tr>\\n      <th>11</th>\\n      <td>河北省</td>\\n      <td>129</td>\\n    </tr>\\n    <tr>\\n      <th>12</th>\\n      <td>山西省</td>\\n      <td>106</td>\\n    </tr>\\n    <tr>\\n      <th>13</th>\\n      <td>上海市</td>\\n      <td>90</td>\\n    </tr>\\n    <tr>\\n      <th>14</th>\\n      <td>江西省</td>\\n      <td>83</td>\\n    </tr>\\n    <tr>\\n      <th>15</th>\\n      <td>云南省</td>\\n      <td>82</td>\\n    </tr>\\n    <tr>\\n      <th>16</th>\\n      <td>天津市</td>\\n      <td>69</td>\\n    </tr>\\n    <tr>\\n      <th>17</th>\\n      <td>辽宁省</td>\\n      <td>68</td>\\n    </tr>\\n    <tr>\\n      <th>18</th>\\n      <td>重庆市</td>\\n      <td>60</td>\\n    </tr>\\n    <tr>\\n      <th>19</th>\\n      <td>陕西省</td>\\n      <td>44</td>\\n    </tr>\\n    <tr>\\n      <th>20</th>\\n      <td>广西壮族自治区</td>\\n      <td>42</td>\\n    </tr>\\n    <tr>\\n      <th>21</th>\\n      <td>新疆维吾尔自治区</td>\\n      <td>37</td>\\n    </tr>\\n    <tr>\\n      <th>22</th>\\n      <td>贵州省</td>\\n      <td>33</td>\\n    </tr>\\n    <tr>\\n      <th>23</th>\\n      <td>甘肃省</td>\\n      <td>29</td>\\n    </tr>\\n    <tr>\\n      <th>24</th>\\n      <td>内蒙古自治区</td>\\n      <td>29</td>\\n    </tr>\\n    <tr>\\n      <th>25</th>\\n      <td>青海省</td>\\n      <td>27</td>\\n    </tr>\\n    <tr>\\n      <th>26</th>\\n      <td>吉林省</td>\\n      <td>23</td>\\n    </tr>\\n    <tr>\\n      <th>27</th>\\n      <td>黑龙江省</td>\\n      <td>16</td>\\n    </tr>\\n    <tr>\\n      <th>28</th>\\n      <td>海南省</td>\\n      <td>10</td>\\n    </tr>\\n    <tr>\\n      <th>29</th>\\n      <td>宁夏回族自治区</td>\\n      <td>8</td>\\n    </tr>\\n    <tr>\\n      <th>30</th>\\n      <td>西藏自治区</td>\\n      <td>0</td>\\n    </tr>\\n    <tr>\\n      <th>31</th>\\n      <td>台湾省</td>\\n      <td>0</td>\\n    </tr>\\n  </tbody>\\n</table>'"
      ]
     },
     "execution_count": 22,
     "metadata": {},
     "output_type": "execute_result"
    }
   ],
   "source": [
    "df.to_html()"
   ]
  },
  {
   "cell_type": "code",
   "execution_count": 23,
   "id": "a2567d2c",
   "metadata": {},
   "outputs": [
    {
     "data": {
      "text/plain": [
       "'\\\\begin{tabular}{llr}\\n & Court Province & Patents Quantity \\\\\\\\\\n0 & 广东省 & 1694 \\\\\\\\\\n1 & 北京市 & 1230 \\\\\\\\\\n2 & 浙江省 & 896 \\\\\\\\\\n3 & 江苏省 & 553 \\\\\\\\\\n4 & 山东省 & 399 \\\\\\\\\\n5 & 河南省 & 247 \\\\\\\\\\n6 & 四川省 & 227 \\\\\\\\\\n7 & 福建省 & 171 \\\\\\\\\\n8 & 湖南省 & 150 \\\\\\\\\\n9 & 安徽省 & 144 \\\\\\\\\\n10 & 湖北省 & 129 \\\\\\\\\\n11 & 河北省 & 129 \\\\\\\\\\n12 & 山西省 & 106 \\\\\\\\\\n13 & 上海市 & 90 \\\\\\\\\\n14 & 江西省 & 83 \\\\\\\\\\n15 & 云南省 & 82 \\\\\\\\\\n16 & 天津市 & 69 \\\\\\\\\\n17 & 辽宁省 & 68 \\\\\\\\\\n18 & 重庆市 & 60 \\\\\\\\\\n19 & 陕西省 & 44 \\\\\\\\\\n20 & 广西壮族自治区 & 42 \\\\\\\\\\n21 & 新疆维吾尔自治区 & 37 \\\\\\\\\\n22 & 贵州省 & 33 \\\\\\\\\\n23 & 甘肃省 & 29 \\\\\\\\\\n24 & 内蒙古自治区 & 29 \\\\\\\\\\n25 & 青海省 & 27 \\\\\\\\\\n26 & 吉林省 & 23 \\\\\\\\\\n27 & 黑龙江省 & 16 \\\\\\\\\\n28 & 海南省 & 10 \\\\\\\\\\n29 & 宁夏回族自治区 & 8 \\\\\\\\\\n30 & 西藏自治区 & 0 \\\\\\\\\\n31 & 台湾省 & 0 \\\\\\\\\\n\\\\end{tabular}\\n'"
      ]
     },
     "execution_count": 23,
     "metadata": {},
     "output_type": "execute_result"
    }
   ],
   "source": [
    "df.style.to_latex()"
   ]
  },
  {
   "cell_type": "code",
   "execution_count": 24,
   "id": "4b6e1de5",
   "metadata": {},
   "outputs": [
    {
     "data": {
      "text/plain": [
       "'|    | Court Province   |   Patents Quantity |\\n|---:|:-----------------|-------------------:|\\n|  0 | 广东省           |               1694 |\\n|  1 | 北京市           |               1230 |\\n|  2 | 浙江省           |                896 |\\n|  3 | 江苏省           |                553 |\\n|  4 | 山东省           |                399 |\\n|  5 | 河南省           |                247 |\\n|  6 | 四川省           |                227 |\\n|  7 | 福建省           |                171 |\\n|  8 | 湖南省           |                150 |\\n|  9 | 安徽省           |                144 |\\n| 10 | 湖北省           |                129 |\\n| 11 | 河北省           |                129 |\\n| 12 | 山西省           |                106 |\\n| 13 | 上海市           |                 90 |\\n| 14 | 江西省           |                 83 |\\n| 15 | 云南省           |                 82 |\\n| 16 | 天津市           |                 69 |\\n| 17 | 辽宁省           |                 68 |\\n| 18 | 重庆市           |                 60 |\\n| 19 | 陕西省           |                 44 |\\n| 20 | 广西壮族自治区   |                 42 |\\n| 21 | 新疆维吾尔自治区 |                 37 |\\n| 22 | 贵州省           |                 33 |\\n| 23 | 甘肃省           |                 29 |\\n| 24 | 内蒙古自治区     |                 29 |\\n| 25 | 青海省           |                 27 |\\n| 26 | 吉林省           |                 23 |\\n| 27 | 黑龙江省         |                 16 |\\n| 28 | 海南省           |                 10 |\\n| 29 | 宁夏回族自治区   |                  8 |\\n| 30 | 西藏自治区       |                  0 |\\n| 31 | 台湾省           |                  0 |'"
      ]
     },
     "execution_count": 24,
     "metadata": {},
     "output_type": "execute_result"
    }
   ],
   "source": [
    "df.to_markdown()"
   ]
  },
  {
   "cell_type": "code",
   "execution_count": null,
   "id": "36bedf62",
   "metadata": {},
   "outputs": [],
   "source": []
  }
 ],
 "metadata": {
  "kernelspec": {
   "display_name": "Python 3 (ipykernel)",
   "language": "python",
   "name": "python3"
  },
  "language_info": {
   "codemirror_mode": {
    "name": "ipython",
    "version": 3
   },
   "file_extension": ".py",
   "mimetype": "text/x-python",
   "name": "python",
   "nbconvert_exporter": "python",
   "pygments_lexer": "ipython3",
   "version": "3.10.12"
  },
  "toc": {
   "base_numbering": 1,
   "nav_menu": {},
   "number_sections": true,
   "sideBar": true,
   "skip_h1_title": false,
   "title_cell": "Table of Contents",
   "title_sidebar": "Contents",
   "toc_cell": false,
   "toc_position": {},
   "toc_section_display": true,
   "toc_window_display": false
  }
 },
 "nbformat": 4,
 "nbformat_minor": 5
}
