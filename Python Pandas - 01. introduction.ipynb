{
 "cells": [
  {
   "cell_type": "markdown",
   "id": "dda596ae",
   "metadata": {},
   "source": [
    "# Introduction \n",
    "\n",
    "\n"
   ]
  },
  {
   "cell_type": "code",
   "execution_count": 1,
   "id": "d3be5f64",
   "metadata": {},
   "outputs": [
    {
     "name": "stdout",
     "output_type": "stream",
     "text": [
      "Python 3.10.12\n"
     ]
    }
   ],
   "source": [
    "!python --version"
   ]
  },
  {
   "cell_type": "code",
   "execution_count": 2,
   "id": "09dd8420",
   "metadata": {
    "scrolled": false
   },
   "outputs": [],
   "source": [
    "#!pip install pandas"
   ]
  },
  {
   "cell_type": "code",
   "execution_count": 3,
   "id": "16017b0c",
   "metadata": {},
   "outputs": [],
   "source": [
    "import pandas as pd"
   ]
  },
  {
   "cell_type": "code",
   "execution_count": 4,
   "id": "2961bfba",
   "metadata": {
    "scrolled": true
   },
   "outputs": [
    {
     "name": "stdout",
     "output_type": "stream",
     "text": [
      "2.0.3\n"
     ]
    }
   ],
   "source": [
    "print(pd.__version__)"
   ]
  },
  {
   "cell_type": "markdown",
   "id": "155ebd95",
   "metadata": {},
   "source": [
    "# Series\n"
   ]
  },
  {
   "cell_type": "markdown",
   "id": "a73ee0c1",
   "metadata": {},
   "source": [
    "###### Creating a Series\n"
   ]
  },
  {
   "cell_type": "code",
   "execution_count": 5,
   "id": "146c7879",
   "metadata": {},
   "outputs": [
    {
     "name": "stdout",
     "output_type": "stream",
     "text": [
      "Series([], dtype: object)\n",
      "<class 'pandas.core.series.Series'>\n"
     ]
    }
   ],
   "source": [
    "import pandas as pd\n",
    "\n",
    "# Creating empty series\n",
    "ser = pd.Series(dtype = object)\n",
    "print(ser)\n",
    "print(type(ser))"
   ]
  },
  {
   "cell_type": "code",
   "execution_count": 6,
   "id": "7ee37477",
   "metadata": {},
   "outputs": [
    {
     "name": "stdout",
     "output_type": "stream",
     "text": [
      "0    31\n",
      "1    23\n",
      "2    37\n",
      "3    20\n",
      "4    30\n",
      "dtype: int64\n"
     ]
    }
   ],
   "source": [
    "import pandas as pd\n",
    "\n",
    "ages = [31, 23, 37, 20, 30]\n",
    "\n",
    "age_series = pd.Series(ages)\n",
    "\n",
    "print(age_series)"
   ]
  },
  {
   "cell_type": "code",
   "execution_count": 7,
   "id": "f9966765",
   "metadata": {},
   "outputs": [
    {
     "name": "stdout",
     "output_type": "stream",
     "text": [
      "RangeIndex(start=0, stop=5, step=1)\n"
     ]
    }
   ],
   "source": [
    "print(age_series.index)"
   ]
  },
  {
   "cell_type": "code",
   "execution_count": 8,
   "id": "b9813624",
   "metadata": {},
   "outputs": [
    {
     "name": "stdout",
     "output_type": "stream",
     "text": [
      "John     31\n",
      "Jane     23\n",
      "Bob      37\n",
      "Alice    20\n",
      "James    30\n",
      "dtype: int64\n"
     ]
    }
   ],
   "source": [
    "import pandas as pd\n",
    "\n",
    "ages = [31, 23, 37, 20, 30]\n",
    "names = ['John', 'Jane', 'Bob', 'Alice', 'James']\n",
    "\n",
    "age_series = pd.Series(ages, index=names)\n",
    "\n",
    "print(age_series)"
   ]
  },
  {
   "cell_type": "code",
   "execution_count": 9,
   "id": "a450eef4",
   "metadata": {},
   "outputs": [
    {
     "name": "stdout",
     "output_type": "stream",
     "text": [
      "Index(['John', 'Jane', 'Bob', 'Alice', 'James'], dtype='object')\n"
     ]
    }
   ],
   "source": [
    "print(age_series.index)"
   ]
  },
  {
   "cell_type": "markdown",
   "id": "c9cd3c61",
   "metadata": {},
   "source": [
    "# DataFrame\n"
   ]
  },
  {
   "cell_type": "markdown",
   "id": "94b2b4c3",
   "metadata": {},
   "source": [
    "###### Creating a DataFrame:\n"
   ]
  },
  {
   "cell_type": "code",
   "execution_count": 10,
   "id": "6f721a20",
   "metadata": {},
   "outputs": [
    {
     "name": "stdout",
     "output_type": "stream",
     "text": [
      "Empty DataFrame\n",
      "Columns: []\n",
      "Index: []\n"
     ]
    }
   ],
   "source": [
    "import pandas as pd\n",
    "   \n",
    "# Calling DataFrame constructor\n",
    "df = pd.DataFrame()\n",
    "print(df)"
   ]
  },
  {
   "cell_type": "code",
   "execution_count": null,
   "id": "fadccc96",
   "metadata": {},
   "outputs": [],
   "source": []
  }
 ],
 "metadata": {
  "kernelspec": {
   "display_name": "Python 3 (ipykernel)",
   "language": "python",
   "name": "python3"
  },
  "language_info": {
   "codemirror_mode": {
    "name": "ipython",
    "version": 3
   },
   "file_extension": ".py",
   "mimetype": "text/x-python",
   "name": "python",
   "nbconvert_exporter": "python",
   "pygments_lexer": "ipython3",
   "version": "3.10.12"
  },
  "toc": {
   "base_numbering": 1,
   "nav_menu": {},
   "number_sections": true,
   "sideBar": true,
   "skip_h1_title": false,
   "title_cell": "Table of Contents",
   "title_sidebar": "Contents",
   "toc_cell": false,
   "toc_position": {},
   "toc_section_display": true,
   "toc_window_display": false
  }
 },
 "nbformat": 4,
 "nbformat_minor": 5
}
